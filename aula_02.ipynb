{
 "cells": [
  {
   "cell_type": "markdown",
   "id": "628e140e",
   "metadata": {},
   "source": [
    "# Relatorio I"
   ]
  },
  {
   "cell_type": "code",
   "execution_count": 2,
   "id": "17e0aa04-f635-49eb-a4ae-72f7221d1046",
   "metadata": {
    "tags": []
   },
   "outputs": [],
   "source": [
    "import pandas as pd"
   ]
  },
  {
   "cell_type": "code",
   "execution_count": 4,
   "id": "7ff0c506",
   "metadata": {
    "tags": []
   },
   "outputs": [
    {
     "data": {
      "text/plain": [
       "'2.1.0'"
      ]
     },
     "execution_count": 4,
     "metadata": {},
     "output_type": "execute_result"
    }
   ],
   "source": [
    "pd.__version__"
   ]
  },
  {
   "cell_type": "code",
   "execution_count": 5,
   "id": "bbd4f15c-0d31-4329-b5c5-fc17180d7303",
   "metadata": {
    "tags": []
   },
   "outputs": [],
   "source": [
    "# !pip install pandas==2.1"
   ]
  },
  {
   "cell_type": "code",
   "execution_count": 5,
   "id": "88eeeb34-db75-44c4-b6aa-45b82956da48",
   "metadata": {},
   "outputs": [],
   "source": [
    "df_products = pd.read_csv(\"datasets/products.csv\", sep=\";\")"
   ]
  },
  {
   "cell_type": "code",
   "execution_count": 11,
   "id": "2ceaeb19-45b3-4b30-91a7-9693cac11149",
   "metadata": {
    "tags": []
   },
   "outputs": [
    {
     "data": {
      "text/html": [
       "<div>\n",
       "<style scoped>\n",
       "    .dataframe tbody tr th:only-of-type {\n",
       "        vertical-align: middle;\n",
       "    }\n",
       "\n",
       "    .dataframe tbody tr th {\n",
       "        vertical-align: top;\n",
       "    }\n",
       "\n",
       "    .dataframe thead th {\n",
       "        text-align: right;\n",
       "    }\n",
       "</style>\n",
       "<table border=\"1\" class=\"dataframe\">\n",
       "  <thead>\n",
       "    <tr style=\"text-align: right;\">\n",
       "      <th></th>\n",
       "      <th>ProductID</th>\n",
       "      <th>ProductName</th>\n",
       "      <th>SupplierID</th>\n",
       "      <th>CategoryID</th>\n",
       "      <th>QuantityPerUnit</th>\n",
       "      <th>UnitPrice</th>\n",
       "      <th>UnitsInStock</th>\n",
       "      <th>UnitsOnOrder</th>\n",
       "      <th>ReorderLevel</th>\n",
       "      <th>Discontinued</th>\n",
       "    </tr>\n",
       "  </thead>\n",
       "  <tbody>\n",
       "    <tr>\n",
       "      <th>0</th>\n",
       "      <td>1</td>\n",
       "      <td>Chai</td>\n",
       "      <td>1</td>\n",
       "      <td>1</td>\n",
       "      <td>10 boxes x 20 bags</td>\n",
       "      <td>18.0</td>\n",
       "      <td>39</td>\n",
       "      <td>0</td>\n",
       "      <td>10</td>\n",
       "      <td>0</td>\n",
       "    </tr>\n",
       "    <tr>\n",
       "      <th>1</th>\n",
       "      <td>2</td>\n",
       "      <td>Chang</td>\n",
       "      <td>1</td>\n",
       "      <td>1</td>\n",
       "      <td>24 - 12 oz bottles</td>\n",
       "      <td>19.0</td>\n",
       "      <td>17</td>\n",
       "      <td>40</td>\n",
       "      <td>25</td>\n",
       "      <td>0</td>\n",
       "    </tr>\n",
       "  </tbody>\n",
       "</table>\n",
       "</div>"
      ],
      "text/plain": [
       "   ProductID ProductName  SupplierID  CategoryID     QuantityPerUnit  \\\n",
       "0          1        Chai           1           1  10 boxes x 20 bags   \n",
       "1          2       Chang           1           1  24 - 12 oz bottles   \n",
       "\n",
       "   UnitPrice  UnitsInStock  UnitsOnOrder  ReorderLevel  Discontinued  \n",
       "0       18.0            39             0            10             0  \n",
       "1       19.0            17            40            25             0  "
      ]
     },
     "execution_count": 11,
     "metadata": {},
     "output_type": "execute_result"
    }
   ],
   "source": [
    "# METODO => MOSTRA AS PRIMEIRAS LINHAS\n",
    "df_products.head(2)"
   ]
  },
  {
   "cell_type": "code",
   "execution_count": 9,
   "id": "429e944d-04eb-4f79-81c9-cfac56153432",
   "metadata": {
    "tags": []
   },
   "outputs": [
    {
     "data": {
      "text/html": [
       "<div>\n",
       "<style scoped>\n",
       "    .dataframe tbody tr th:only-of-type {\n",
       "        vertical-align: middle;\n",
       "    }\n",
       "\n",
       "    .dataframe tbody tr th {\n",
       "        vertical-align: top;\n",
       "    }\n",
       "\n",
       "    .dataframe thead th {\n",
       "        text-align: right;\n",
       "    }\n",
       "</style>\n",
       "<table border=\"1\" class=\"dataframe\">\n",
       "  <thead>\n",
       "    <tr style=\"text-align: right;\">\n",
       "      <th></th>\n",
       "      <th>ProductID</th>\n",
       "      <th>ProductName</th>\n",
       "      <th>SupplierID</th>\n",
       "      <th>CategoryID</th>\n",
       "      <th>QuantityPerUnit</th>\n",
       "      <th>UnitPrice</th>\n",
       "      <th>UnitsInStock</th>\n",
       "      <th>UnitsOnOrder</th>\n",
       "      <th>ReorderLevel</th>\n",
       "      <th>Discontinued</th>\n",
       "    </tr>\n",
       "  </thead>\n",
       "  <tbody>\n",
       "    <tr>\n",
       "      <th>76</th>\n",
       "      <td>77</td>\n",
       "      <td>Original Frankfurter grüne Soße</td>\n",
       "      <td>12</td>\n",
       "      <td>2</td>\n",
       "      <td>12 boxes</td>\n",
       "      <td>13.0</td>\n",
       "      <td>32</td>\n",
       "      <td>0</td>\n",
       "      <td>15</td>\n",
       "      <td>0</td>\n",
       "    </tr>\n",
       "    <tr>\n",
       "      <th>77</th>\n",
       "      <td>78</td>\n",
       "      <td>Pastel de Pizza</td>\n",
       "      <td>12</td>\n",
       "      <td>11</td>\n",
       "      <td>12 boxes</td>\n",
       "      <td>13.0</td>\n",
       "      <td>32</td>\n",
       "      <td>0</td>\n",
       "      <td>15</td>\n",
       "      <td>0</td>\n",
       "    </tr>\n",
       "  </tbody>\n",
       "</table>\n",
       "</div>"
      ],
      "text/plain": [
       "    ProductID                      ProductName  SupplierID  CategoryID  \\\n",
       "76         77  Original Frankfurter grüne Soße          12           2   \n",
       "77         78                  Pastel de Pizza          12          11   \n",
       "\n",
       "   QuantityPerUnit  UnitPrice  UnitsInStock  UnitsOnOrder  ReorderLevel  \\\n",
       "76        12 boxes       13.0            32             0            15   \n",
       "77        12 boxes       13.0            32             0            15   \n",
       "\n",
       "    Discontinued  \n",
       "76             0  \n",
       "77             0  "
      ]
     },
     "execution_count": 9,
     "metadata": {},
     "output_type": "execute_result"
    }
   ],
   "source": [
    "# METODO => MOSTRA AS ULTIMAS LINHAS\n",
    "df_products.tail(2)"
   ]
  },
  {
   "cell_type": "code",
   "execution_count": 12,
   "id": "0c4717f0-195a-4cd2-9fc8-6b3882e56acb",
   "metadata": {
    "tags": []
   },
   "outputs": [
    {
     "data": {
      "text/plain": [
       "pandas.core.frame.DataFrame"
      ]
     },
     "execution_count": 12,
     "metadata": {},
     "output_type": "execute_result"
    }
   ],
   "source": [
    "type(df_products)"
   ]
  },
  {
   "cell_type": "code",
   "execution_count": 13,
   "id": "46ffaf5d-00b2-425d-9895-041d7c6d4a60",
   "metadata": {
    "tags": []
   },
   "outputs": [
    {
     "data": {
      "text/plain": [
       "(78, 10)"
      ]
     },
     "execution_count": 13,
     "metadata": {},
     "output_type": "execute_result"
    }
   ],
   "source": [
    "# ATRIBUTO => VER QTD LINHAS E COLUNAS\n",
    "df_products.shape"
   ]
  },
  {
   "cell_type": "code",
   "execution_count": 14,
   "id": "6fd301a8-a5ac-459f-a837-c195310b9594",
   "metadata": {
    "tags": []
   },
   "outputs": [
    {
     "data": {
      "text/plain": [
       "Index(['ProductID', 'ProductName', 'SupplierID', 'CategoryID',\n",
       "       'QuantityPerUnit', 'UnitPrice', 'UnitsInStock', 'UnitsOnOrder',\n",
       "       'ReorderLevel', 'Discontinued'],\n",
       "      dtype='object')"
      ]
     },
     "execution_count": 14,
     "metadata": {},
     "output_type": "execute_result"
    }
   ],
   "source": [
    "# ATRIBUTO QUE MOSTRA AS COLUNAS\n",
    "df_products.columns"
   ]
  },
  {
   "cell_type": "code",
   "execution_count": 15,
   "id": "be7b0a96-f38b-40e7-82a2-51e1a2d824cc",
   "metadata": {
    "tags": []
   },
   "outputs": [
    {
     "data": {
      "text/plain": [
       "ProductID            int64\n",
       "ProductName         object\n",
       "SupplierID           int64\n",
       "CategoryID           int64\n",
       "QuantityPerUnit     object\n",
       "UnitPrice          float64\n",
       "UnitsInStock         int64\n",
       "UnitsOnOrder         int64\n",
       "ReorderLevel         int64\n",
       "Discontinued         int64\n",
       "dtype: object"
      ]
     },
     "execution_count": 15,
     "metadata": {},
     "output_type": "execute_result"
    }
   ],
   "source": [
    "# ATRIBUTO => MOSTRA OS TIPOS DAS CULUNAS(SERIES)\n",
    "df_products.dtypes"
   ]
  },
  {
   "cell_type": "code",
   "execution_count": 17,
   "id": "cf95fdd2-fa1b-4342-b313-ea97a1af5ea5",
   "metadata": {
    "tags": []
   },
   "outputs": [],
   "source": [
    "df_categorias = pd.read_csv(\"datasets/categories.csv\", sep=\";\")"
   ]
  },
  {
   "cell_type": "code",
   "execution_count": 18,
   "id": "862ba67d-b644-41e7-81db-015816d74966",
   "metadata": {
    "tags": []
   },
   "outputs": [
    {
     "data": {
      "text/html": [
       "<div>\n",
       "<style scoped>\n",
       "    .dataframe tbody tr th:only-of-type {\n",
       "        vertical-align: middle;\n",
       "    }\n",
       "\n",
       "    .dataframe tbody tr th {\n",
       "        vertical-align: top;\n",
       "    }\n",
       "\n",
       "    .dataframe thead th {\n",
       "        text-align: right;\n",
       "    }\n",
       "</style>\n",
       "<table border=\"1\" class=\"dataframe\">\n",
       "  <thead>\n",
       "    <tr style=\"text-align: right;\">\n",
       "      <th></th>\n",
       "      <th>CategoryID</th>\n",
       "      <th>CategoryName</th>\n",
       "    </tr>\n",
       "  </thead>\n",
       "  <tbody>\n",
       "    <tr>\n",
       "      <th>0</th>\n",
       "      <td>1</td>\n",
       "      <td>Beverages</td>\n",
       "    </tr>\n",
       "    <tr>\n",
       "      <th>1</th>\n",
       "      <td>2</td>\n",
       "      <td>Condiments</td>\n",
       "    </tr>\n",
       "    <tr>\n",
       "      <th>2</th>\n",
       "      <td>3</td>\n",
       "      <td>Confections</td>\n",
       "    </tr>\n",
       "    <tr>\n",
       "      <th>3</th>\n",
       "      <td>4</td>\n",
       "      <td>Dairy Products</td>\n",
       "    </tr>\n",
       "    <tr>\n",
       "      <th>4</th>\n",
       "      <td>5</td>\n",
       "      <td>Grains/Cereals</td>\n",
       "    </tr>\n",
       "  </tbody>\n",
       "</table>\n",
       "</div>"
      ],
      "text/plain": [
       "   CategoryID    CategoryName\n",
       "0           1       Beverages\n",
       "1           2      Condiments\n",
       "2           3     Confections\n",
       "3           4  Dairy Products\n",
       "4           5  Grains/Cereals"
      ]
     },
     "execution_count": 18,
     "metadata": {},
     "output_type": "execute_result"
    }
   ],
   "source": [
    "df_categorias.head()"
   ]
  },
  {
   "cell_type": "code",
   "execution_count": 19,
   "id": "9e9fef5e-7c9a-43d9-b0f0-10d68f52d15c",
   "metadata": {
    "tags": []
   },
   "outputs": [
    {
     "data": {
      "text/plain": [
       "Index(['CategoryID', 'CategoryName'], dtype='object')"
      ]
     },
     "execution_count": 19,
     "metadata": {},
     "output_type": "execute_result"
    }
   ],
   "source": [
    "df_categorias.columns"
   ]
  },
  {
   "cell_type": "code",
   "execution_count": 20,
   "id": "81417efe-d32c-4a73-b5f4-452b5f491f60",
   "metadata": {
    "tags": []
   },
   "outputs": [
    {
     "data": {
      "text/plain": [
       "CategoryID       int64\n",
       "CategoryName    object\n",
       "dtype: object"
      ]
     },
     "execution_count": 20,
     "metadata": {},
     "output_type": "execute_result"
    }
   ],
   "source": [
    "df_categorias.dtypes"
   ]
  },
  {
   "cell_type": "code",
   "execution_count": 22,
   "id": "ca39b046-a63a-4e8e-bbd9-deb5b238d3ed",
   "metadata": {
    "tags": []
   },
   "outputs": [
    {
     "data": {
      "text/html": [
       "<div>\n",
       "<style scoped>\n",
       "    .dataframe tbody tr th:only-of-type {\n",
       "        vertical-align: middle;\n",
       "    }\n",
       "\n",
       "    .dataframe tbody tr th {\n",
       "        vertical-align: top;\n",
       "    }\n",
       "\n",
       "    .dataframe thead th {\n",
       "        text-align: right;\n",
       "    }\n",
       "</style>\n",
       "<table border=\"1\" class=\"dataframe\">\n",
       "  <thead>\n",
       "    <tr style=\"text-align: right;\">\n",
       "      <th></th>\n",
       "      <th>ProductID</th>\n",
       "      <th>ProductName</th>\n",
       "      <th>SupplierID</th>\n",
       "      <th>CategoryID</th>\n",
       "      <th>QuantityPerUnit</th>\n",
       "      <th>UnitPrice</th>\n",
       "      <th>UnitsInStock</th>\n",
       "      <th>UnitsOnOrder</th>\n",
       "      <th>ReorderLevel</th>\n",
       "      <th>Discontinued</th>\n",
       "    </tr>\n",
       "  </thead>\n",
       "  <tbody>\n",
       "    <tr>\n",
       "      <th>0</th>\n",
       "      <td>1</td>\n",
       "      <td>Chai</td>\n",
       "      <td>1</td>\n",
       "      <td>1</td>\n",
       "      <td>10 boxes x 20 bags</td>\n",
       "      <td>18.0</td>\n",
       "      <td>39</td>\n",
       "      <td>0</td>\n",
       "      <td>10</td>\n",
       "      <td>0</td>\n",
       "    </tr>\n",
       "    <tr>\n",
       "      <th>1</th>\n",
       "      <td>2</td>\n",
       "      <td>Chang</td>\n",
       "      <td>1</td>\n",
       "      <td>1</td>\n",
       "      <td>24 - 12 oz bottles</td>\n",
       "      <td>19.0</td>\n",
       "      <td>17</td>\n",
       "      <td>40</td>\n",
       "      <td>25</td>\n",
       "      <td>0</td>\n",
       "    </tr>\n",
       "  </tbody>\n",
       "</table>\n",
       "</div>"
      ],
      "text/plain": [
       "   ProductID ProductName  SupplierID  CategoryID     QuantityPerUnit  \\\n",
       "0          1        Chai           1           1  10 boxes x 20 bags   \n",
       "1          2       Chang           1           1  24 - 12 oz bottles   \n",
       "\n",
       "   UnitPrice  UnitsInStock  UnitsOnOrder  ReorderLevel  Discontinued  \n",
       "0       18.0            39             0            10             0  \n",
       "1       19.0            17            40            25             0  "
      ]
     },
     "execution_count": 22,
     "metadata": {},
     "output_type": "execute_result"
    }
   ],
   "source": [
    "df_products.head(2)"
   ]
  },
  {
   "cell_type": "code",
   "execution_count": 21,
   "id": "e5442ba6-4b2f-4ad0-9624-cf2f28f0c72f",
   "metadata": {
    "tags": []
   },
   "outputs": [
    {
     "data": {
      "text/plain": [
       "<Axes: >"
      ]
     },
     "execution_count": 21,
     "metadata": {},
     "output_type": "execute_result"
    },
    {
     "data": {
      "image/png": "[encoded data removed]",
      "text/plain": [
       "<Figure size 640x480 with 1 Axes>"
      ]
     },
     "metadata": {},
     "output_type": "display_data"
    }
   ],
   "source": [
    "df_products.plot()"
   ]
  },
  {
   "cell_type": "code",
   "execution_count": 25,
   "id": "325efff9-5766-4706-a9a3-c747a155abed",
   "metadata": {
    "tags": []
   },
   "outputs": [
    {
     "data": {
      "text/plain": [
       "array([[1, 'Chai', 1, 1, '10 boxes x 20 bags', 18.0, 39, 0, 10, 0],\n",
       "       [2, 'Chang', 1, 1, '24 - 12 oz bottles', 19.0, 17, 40, 25, 0]],\n",
       "      dtype=object)"
      ]
     },
     "execution_count": 25,
     "metadata": {},
     "output_type": "execute_result"
    }
   ],
   "source": [
    "# ATRIBUTO => PEGA OS VALORES DO DATAFRAME\n",
    "df_products.values[0:2]"
   ]
  },
  {
   "cell_type": "code",
   "execution_count": 26,
   "id": "49c17490-ef87-4c9a-bb70-40ceca768880",
   "metadata": {
    "tags": []
   },
   "outputs": [
    {
     "data": {
      "text/html": [
       "<div>\n",
       "<style scoped>\n",
       "    .dataframe tbody tr th:only-of-type {\n",
       "        vertical-align: middle;\n",
       "    }\n",
       "\n",
       "    .dataframe tbody tr th {\n",
       "        vertical-align: top;\n",
       "    }\n",
       "\n",
       "    .dataframe thead th {\n",
       "        text-align: right;\n",
       "    }\n",
       "</style>\n",
       "<table border=\"1\" class=\"dataframe\">\n",
       "  <thead>\n",
       "    <tr style=\"text-align: right;\">\n",
       "      <th></th>\n",
       "      <th>CategoryID</th>\n",
       "      <th>CategoryName</th>\n",
       "    </tr>\n",
       "  </thead>\n",
       "  <tbody>\n",
       "    <tr>\n",
       "      <th>0</th>\n",
       "      <td>1</td>\n",
       "      <td>Beverages</td>\n",
       "    </tr>\n",
       "    <tr>\n",
       "      <th>1</th>\n",
       "      <td>2</td>\n",
       "      <td>Condiments</td>\n",
       "    </tr>\n",
       "  </tbody>\n",
       "</table>\n",
       "</div>"
      ],
      "text/plain": [
       "   CategoryID CategoryName\n",
       "0           1    Beverages\n",
       "1           2   Condiments"
      ]
     },
     "execution_count": 26,
     "metadata": {},
     "output_type": "execute_result"
    }
   ],
   "source": [
    "df_categorias.head(2)"
   ]
  },
  {
   "cell_type": "code",
   "execution_count": 28,
   "id": "d6619afd-a5fa-4bce-87d0-3eb00310ce9c",
   "metadata": {
    "tags": []
   },
   "outputs": [
    {
     "data": {
      "text/html": [
       "<div>\n",
       "<style scoped>\n",
       "    .dataframe tbody tr th:only-of-type {\n",
       "        vertical-align: middle;\n",
       "    }\n",
       "\n",
       "    .dataframe tbody tr th {\n",
       "        vertical-align: top;\n",
       "    }\n",
       "\n",
       "    .dataframe thead th {\n",
       "        text-align: right;\n",
       "    }\n",
       "</style>\n",
       "<table border=\"1\" class=\"dataframe\">\n",
       "  <thead>\n",
       "    <tr style=\"text-align: right;\">\n",
       "      <th></th>\n",
       "      <th>ProductID</th>\n",
       "      <th>ProductName</th>\n",
       "      <th>SupplierID</th>\n",
       "      <th>CategoryID</th>\n",
       "      <th>QuantityPerUnit</th>\n",
       "      <th>UnitPrice</th>\n",
       "      <th>UnitsInStock</th>\n",
       "      <th>UnitsOnOrder</th>\n",
       "      <th>ReorderLevel</th>\n",
       "      <th>Discontinued</th>\n",
       "    </tr>\n",
       "  </thead>\n",
       "  <tbody>\n",
       "    <tr>\n",
       "      <th>0</th>\n",
       "      <td>1</td>\n",
       "      <td>Chai</td>\n",
       "      <td>1</td>\n",
       "      <td>1</td>\n",
       "      <td>10 boxes x 20 bags</td>\n",
       "      <td>18.0</td>\n",
       "      <td>39</td>\n",
       "      <td>0</td>\n",
       "      <td>10</td>\n",
       "      <td>0</td>\n",
       "    </tr>\n",
       "    <tr>\n",
       "      <th>1</th>\n",
       "      <td>2</td>\n",
       "      <td>Chang</td>\n",
       "      <td>1</td>\n",
       "      <td>1</td>\n",
       "      <td>24 - 12 oz bottles</td>\n",
       "      <td>19.0</td>\n",
       "      <td>17</td>\n",
       "      <td>40</td>\n",
       "      <td>25</td>\n",
       "      <td>0</td>\n",
       "    </tr>\n",
       "  </tbody>\n",
       "</table>\n",
       "</div>"
      ],
      "text/plain": [
       "   ProductID ProductName  SupplierID  CategoryID     QuantityPerUnit  \\\n",
       "0          1        Chai           1           1  10 boxes x 20 bags   \n",
       "1          2       Chang           1           1  24 - 12 oz bottles   \n",
       "\n",
       "   UnitPrice  UnitsInStock  UnitsOnOrder  ReorderLevel  Discontinued  \n",
       "0       18.0            39             0            10             0  \n",
       "1       19.0            17            40            25             0  "
      ]
     },
     "execution_count": 28,
     "metadata": {},
     "output_type": "execute_result"
    }
   ],
   "source": [
    "df_products.head(2)"
   ]
  },
  {
   "cell_type": "code",
   "execution_count": 29,
   "id": "c25f8834-4e25-4dea-a499-41befd184f02",
   "metadata": {
    "tags": []
   },
   "outputs": [],
   "source": [
    "# Metodos MERGE\n",
    "\n",
    "df_analise = pd.merge(df_products, df_categorias, on=\"CategoryID\", how=\"left\")"
   ]
  },
  {
   "cell_type": "code",
   "execution_count": 33,
   "id": "edba8a42-6ba5-4fdd-b991-383467849023",
   "metadata": {
    "tags": []
   },
   "outputs": [
    {
     "data": {
      "text/html": [
       "<div>\n",
       "<style scoped>\n",
       "    .dataframe tbody tr th:only-of-type {\n",
       "        vertical-align: middle;\n",
       "    }\n",
       "\n",
       "    .dataframe tbody tr th {\n",
       "        vertical-align: top;\n",
       "    }\n",
       "\n",
       "    .dataframe thead th {\n",
       "        text-align: right;\n",
       "    }\n",
       "</style>\n",
       "<table border=\"1\" class=\"dataframe\">\n",
       "  <thead>\n",
       "    <tr style=\"text-align: right;\">\n",
       "      <th></th>\n",
       "      <th>ProductID</th>\n",
       "      <th>ProductName</th>\n",
       "      <th>SupplierID</th>\n",
       "      <th>CategoryID</th>\n",
       "      <th>QuantityPerUnit</th>\n",
       "      <th>UnitPrice</th>\n",
       "      <th>UnitsInStock</th>\n",
       "      <th>UnitsOnOrder</th>\n",
       "      <th>ReorderLevel</th>\n",
       "      <th>Discontinued</th>\n",
       "      <th>CategoryName</th>\n",
       "    </tr>\n",
       "  </thead>\n",
       "  <tbody>\n",
       "    <tr>\n",
       "      <th>0</th>\n",
       "      <td>1</td>\n",
       "      <td>Chai</td>\n",
       "      <td>1</td>\n",
       "      <td>1</td>\n",
       "      <td>10 boxes x 20 bags</td>\n",
       "      <td>18.0</td>\n",
       "      <td>39</td>\n",
       "      <td>0</td>\n",
       "      <td>10</td>\n",
       "      <td>0</td>\n",
       "      <td>Beverages</td>\n",
       "    </tr>\n",
       "    <tr>\n",
       "      <th>1</th>\n",
       "      <td>2</td>\n",
       "      <td>Chang</td>\n",
       "      <td>1</td>\n",
       "      <td>1</td>\n",
       "      <td>24 - 12 oz bottles</td>\n",
       "      <td>19.0</td>\n",
       "      <td>17</td>\n",
       "      <td>40</td>\n",
       "      <td>25</td>\n",
       "      <td>0</td>\n",
       "      <td>Beverages</td>\n",
       "    </tr>\n",
       "  </tbody>\n",
       "</table>\n",
       "</div>"
      ],
      "text/plain": [
       "   ProductID ProductName  SupplierID  CategoryID     QuantityPerUnit  \\\n",
       "0          1        Chai           1           1  10 boxes x 20 bags   \n",
       "1          2       Chang           1           1  24 - 12 oz bottles   \n",
       "\n",
       "   UnitPrice  UnitsInStock  UnitsOnOrder  ReorderLevel  Discontinued  \\\n",
       "0       18.0            39             0            10             0   \n",
       "1       19.0            17            40            25             0   \n",
       "\n",
       "  CategoryName  \n",
       "0    Beverages  \n",
       "1    Beverages  "
      ]
     },
     "execution_count": 33,
     "metadata": {},
     "output_type": "execute_result"
    }
   ],
   "source": [
    "df_analise.head(2)"
   ]
  },
  {
   "cell_type": "code",
   "execution_count": 35,
   "id": "fdc46cef-e8b2-4c4f-a2c5-0f554ccea84c",
   "metadata": {
    "tags": []
   },
   "outputs": [],
   "source": [
    "df_analise = df_analise[[\n",
    "    'ProductID', 'ProductName', 'SupplierID', 'CategoryID', 'CategoryName',\n",
    "    'QuantityPerUnit', 'UnitPrice', 'UnitsInStock', 'UnitsOnOrder',\n",
    "    'ReorderLevel', 'Discontinued'\n",
    "]]"
   ]
  },
  {
   "cell_type": "code",
   "execution_count": 37,
   "id": "2661fe9d-6e27-4ff8-900b-e64395a9d0f8",
   "metadata": {
    "tags": []
   },
   "outputs": [
    {
     "data": {
      "text/html": [
       "<div>\n",
       "<style scoped>\n",
       "    .dataframe tbody tr th:only-of-type {\n",
       "        vertical-align: middle;\n",
       "    }\n",
       "\n",
       "    .dataframe tbody tr th {\n",
       "        vertical-align: top;\n",
       "    }\n",
       "\n",
       "    .dataframe thead th {\n",
       "        text-align: right;\n",
       "    }\n",
       "</style>\n",
       "<table border=\"1\" class=\"dataframe\">\n",
       "  <thead>\n",
       "    <tr style=\"text-align: right;\">\n",
       "      <th></th>\n",
       "      <th>ProductID</th>\n",
       "      <th>ProductName</th>\n",
       "      <th>SupplierID</th>\n",
       "      <th>CategoryID</th>\n",
       "      <th>CategoryName</th>\n",
       "      <th>QuantityPerUnit</th>\n",
       "      <th>UnitPrice</th>\n",
       "      <th>UnitsInStock</th>\n",
       "      <th>UnitsOnOrder</th>\n",
       "      <th>ReorderLevel</th>\n",
       "      <th>Discontinued</th>\n",
       "    </tr>\n",
       "  </thead>\n",
       "  <tbody>\n",
       "    <tr>\n",
       "      <th>0</th>\n",
       "      <td>1</td>\n",
       "      <td>Chai</td>\n",
       "      <td>1</td>\n",
       "      <td>1</td>\n",
       "      <td>Beverages</td>\n",
       "      <td>10 boxes x 20 bags</td>\n",
       "      <td>18.0</td>\n",
       "      <td>39</td>\n",
       "      <td>0</td>\n",
       "      <td>10</td>\n",
       "      <td>0</td>\n",
       "    </tr>\n",
       "    <tr>\n",
       "      <th>1</th>\n",
       "      <td>2</td>\n",
       "      <td>Chang</td>\n",
       "      <td>1</td>\n",
       "      <td>1</td>\n",
       "      <td>Beverages</td>\n",
       "      <td>24 - 12 oz bottles</td>\n",
       "      <td>19.0</td>\n",
       "      <td>17</td>\n",
       "      <td>40</td>\n",
       "      <td>25</td>\n",
       "      <td>0</td>\n",
       "    </tr>\n",
       "  </tbody>\n",
       "</table>\n",
       "</div>"
      ],
      "text/plain": [
       "   ProductID ProductName  SupplierID  CategoryID CategoryName  \\\n",
       "0          1        Chai           1           1    Beverages   \n",
       "1          2       Chang           1           1    Beverages   \n",
       "\n",
       "      QuantityPerUnit  UnitPrice  UnitsInStock  UnitsOnOrder  ReorderLevel  \\\n",
       "0  10 boxes x 20 bags       18.0            39             0            10   \n",
       "1  24 - 12 oz bottles       19.0            17            40            25   \n",
       "\n",
       "   Discontinued  \n",
       "0             0  \n",
       "1             0  "
      ]
     },
     "execution_count": 37,
     "metadata": {},
     "output_type": "execute_result"
    }
   ],
   "source": [
    "df_analise.head(2)"
   ]
  },
  {
   "cell_type": "code",
   "execution_count": 38,
   "id": "23ccf43c-4e82-4489-9312-7b1145ee69ff",
   "metadata": {
    "tags": []
   },
   "outputs": [
    {
     "data": {
      "text/plain": [
       "0      Beverages\n",
       "1      Beverages\n",
       "2     Condiments\n",
       "3     Condiments\n",
       "4     Condiments\n",
       "         ...    \n",
       "73       Produce\n",
       "74     Beverages\n",
       "75     Beverages\n",
       "76    Condiments\n",
       "77           NaN\n",
       "Name: CategoryName, Length: 78, dtype: object"
      ]
     },
     "execution_count": 38,
     "metadata": {},
     "output_type": "execute_result"
    }
   ],
   "source": [
    "df_analise.CategoryName"
   ]
  },
  {
   "cell_type": "code",
   "execution_count": 42,
   "id": "a168da9e-f73c-43cd-937b-8a0f6ac582e4",
   "metadata": {
    "tags": []
   },
   "outputs": [
    {
     "data": {
      "text/plain": [
       "(78, 2)"
      ]
     },
     "execution_count": 42,
     "metadata": {},
     "output_type": "execute_result"
    }
   ],
   "source": [
    "df_analise[['CategoryID', 'CategoryName']].shape"
   ]
  },
  {
   "cell_type": "code",
   "execution_count": 45,
   "id": "3fbd3215-479b-4b81-b760-5ce98d36f079",
   "metadata": {
    "tags": []
   },
   "outputs": [],
   "source": [
    "# df_products.to_csv(\"products_final.csv\")"
   ]
  },
  {
   "cell_type": "markdown",
   "id": "cfac3f65-51f0-447a-b948-3e3f829011d6",
   "metadata": {},
   "source": [
    "---------------"
   ]
  },
  {
   "cell_type": "markdown",
   "id": "b845910b-fe7c-42ad-b37b-db6f4c9f85db",
   "metadata": {
    "tags": []
   },
   "source": [
    "## Analise das categorias"
   ]
  },
  {
   "cell_type": "markdown",
   "id": "6f4cd2a9-d6d7-424c-9cb2-8d48894246a5",
   "metadata": {
    "tags": []
   },
   "source": [
    "1. Quantos produtos tem por categoria?\n",
    "2. Quantos produtos sao encomendados mais por categorias?\n",
    "3. Tem produtos descontinuado que ja foi encomendado?\n",
    "4. Alguma observacao que queira fazer sobre as categorias."
   ]
  },
  {
   "cell_type": "code",
   "execution_count": 48,
   "id": "dc8d789b-7cc3-4d24-a67e-002a2727f343",
   "metadata": {
    "tags": []
   },
   "outputs": [
    {
     "data": {
      "text/html": [
       "<div>\n",
       "<style scoped>\n",
       "    .dataframe tbody tr th:only-of-type {\n",
       "        vertical-align: middle;\n",
       "    }\n",
       "\n",
       "    .dataframe tbody tr th {\n",
       "        vertical-align: top;\n",
       "    }\n",
       "\n",
       "    .dataframe thead th {\n",
       "        text-align: right;\n",
       "    }\n",
       "</style>\n",
       "<table border=\"1\" class=\"dataframe\">\n",
       "  <thead>\n",
       "    <tr style=\"text-align: right;\">\n",
       "      <th></th>\n",
       "      <th>ProductID</th>\n",
       "      <th>ProductName</th>\n",
       "      <th>SupplierID</th>\n",
       "      <th>CategoryID</th>\n",
       "      <th>CategoryName</th>\n",
       "      <th>QuantityPerUnit</th>\n",
       "      <th>UnitPrice</th>\n",
       "      <th>UnitsInStock</th>\n",
       "      <th>UnitsOnOrder</th>\n",
       "      <th>ReorderLevel</th>\n",
       "      <th>Discontinued</th>\n",
       "    </tr>\n",
       "  </thead>\n",
       "  <tbody>\n",
       "    <tr>\n",
       "      <th>0</th>\n",
       "      <td>1</td>\n",
       "      <td>Chai</td>\n",
       "      <td>1</td>\n",
       "      <td>1</td>\n",
       "      <td>Beverages</td>\n",
       "      <td>10 boxes x 20 bags</td>\n",
       "      <td>18.0</td>\n",
       "      <td>39</td>\n",
       "      <td>0</td>\n",
       "      <td>10</td>\n",
       "      <td>0</td>\n",
       "    </tr>\n",
       "  </tbody>\n",
       "</table>\n",
       "</div>"
      ],
      "text/plain": [
       "   ProductID ProductName  SupplierID  CategoryID CategoryName  \\\n",
       "0          1        Chai           1           1    Beverages   \n",
       "\n",
       "      QuantityPerUnit  UnitPrice  UnitsInStock  UnitsOnOrder  ReorderLevel  \\\n",
       "0  10 boxes x 20 bags       18.0            39             0            10   \n",
       "\n",
       "   Discontinued  \n",
       "0             0  "
      ]
     },
     "execution_count": 48,
     "metadata": {},
     "output_type": "execute_result"
    }
   ],
   "source": [
    "df_analise.head(1)"
   ]
  },
  {
   "cell_type": "code",
   "execution_count": 49,
   "id": "9ba83f1b-dbd0-4e00-9557-521414f04fcd",
   "metadata": {
    "tags": []
   },
   "outputs": [
    {
     "data": {
      "text/plain": [
       "Index(['ProductID', 'ProductName', 'SupplierID', 'CategoryID', 'CategoryName',\n",
       "       'QuantityPerUnit', 'UnitPrice', 'UnitsInStock', 'UnitsOnOrder',\n",
       "       'ReorderLevel', 'Discontinued'],\n",
       "      dtype='object')"
      ]
     },
     "execution_count": 49,
     "metadata": {},
     "output_type": "execute_result"
    }
   ],
   "source": [
    "df_analise.columns"
   ]
  },
  {
   "cell_type": "code",
   "execution_count": 56,
   "id": "4dac00df-69be-44bb-a979-ff66835a1618",
   "metadata": {
    "tags": []
   },
   "outputs": [],
   "source": [
    "df_encomendas = df_analise[\n",
    "    ['CategoryName', 'ProductName', 'UnitsOnOrder', 'Discontinued']\n",
    "]"
   ]
  },
  {
   "cell_type": "code",
   "execution_count": 57,
   "id": "2d5a3fe2-d90b-4ffc-bb1a-d181890d38fb",
   "metadata": {
    "tags": []
   },
   "outputs": [
    {
     "data": {
      "text/html": [
       "<div>\n",
       "<style scoped>\n",
       "    .dataframe tbody tr th:only-of-type {\n",
       "        vertical-align: middle;\n",
       "    }\n",
       "\n",
       "    .dataframe tbody tr th {\n",
       "        vertical-align: top;\n",
       "    }\n",
       "\n",
       "    .dataframe thead th {\n",
       "        text-align: right;\n",
       "    }\n",
       "</style>\n",
       "<table border=\"1\" class=\"dataframe\">\n",
       "  <thead>\n",
       "    <tr style=\"text-align: right;\">\n",
       "      <th></th>\n",
       "      <th>CategoryName</th>\n",
       "      <th>ProductName</th>\n",
       "      <th>UnitsOnOrder</th>\n",
       "      <th>Discontinued</th>\n",
       "    </tr>\n",
       "  </thead>\n",
       "  <tbody>\n",
       "    <tr>\n",
       "      <th>0</th>\n",
       "      <td>Beverages</td>\n",
       "      <td>Chai</td>\n",
       "      <td>0</td>\n",
       "      <td>0</td>\n",
       "    </tr>\n",
       "    <tr>\n",
       "      <th>1</th>\n",
       "      <td>Beverages</td>\n",
       "      <td>Chang</td>\n",
       "      <td>40</td>\n",
       "      <td>0</td>\n",
       "    </tr>\n",
       "  </tbody>\n",
       "</table>\n",
       "</div>"
      ],
      "text/plain": [
       "  CategoryName ProductName  UnitsOnOrder  Discontinued\n",
       "0    Beverages        Chai             0             0\n",
       "1    Beverages       Chang            40             0"
      ]
     },
     "execution_count": 57,
     "metadata": {},
     "output_type": "execute_result"
    }
   ],
   "source": [
    "df_encomendas.head(2)"
   ]
  },
  {
   "cell_type": "code",
   "execution_count": 58,
   "id": "f673c7b5-0f66-4606-95f8-1778afbab2d7",
   "metadata": {
    "tags": []
   },
   "outputs": [],
   "source": [
    "colunas = [\"Categoria\", \"Produto\", \"Encomendas\", \"Descontinuado\"]\n",
    "\n",
    "df_encomendas.columns = colunas"
   ]
  },
  {
   "cell_type": "code",
   "execution_count": 59,
   "id": "ef8441c2-d155-4fe5-9aff-f778ef36dda6",
   "metadata": {
    "tags": []
   },
   "outputs": [
    {
     "data": {
      "text/html": [
       "<div>\n",
       "<style scoped>\n",
       "    .dataframe tbody tr th:only-of-type {\n",
       "        vertical-align: middle;\n",
       "    }\n",
       "\n",
       "    .dataframe tbody tr th {\n",
       "        vertical-align: top;\n",
       "    }\n",
       "\n",
       "    .dataframe thead th {\n",
       "        text-align: right;\n",
       "    }\n",
       "</style>\n",
       "<table border=\"1\" class=\"dataframe\">\n",
       "  <thead>\n",
       "    <tr style=\"text-align: right;\">\n",
       "      <th></th>\n",
       "      <th>Categoria</th>\n",
       "      <th>Produto</th>\n",
       "      <th>Encomendas</th>\n",
       "      <th>Descontinuado</th>\n",
       "    </tr>\n",
       "  </thead>\n",
       "  <tbody>\n",
       "    <tr>\n",
       "      <th>0</th>\n",
       "      <td>Beverages</td>\n",
       "      <td>Chai</td>\n",
       "      <td>0</td>\n",
       "      <td>0</td>\n",
       "    </tr>\n",
       "    <tr>\n",
       "      <th>1</th>\n",
       "      <td>Beverages</td>\n",
       "      <td>Chang</td>\n",
       "      <td>40</td>\n",
       "      <td>0</td>\n",
       "    </tr>\n",
       "  </tbody>\n",
       "</table>\n",
       "</div>"
      ],
      "text/plain": [
       "   Categoria Produto  Encomendas  Descontinuado\n",
       "0  Beverages    Chai           0              0\n",
       "1  Beverages   Chang          40              0"
      ]
     },
     "execution_count": 59,
     "metadata": {},
     "output_type": "execute_result"
    }
   ],
   "source": [
    "df_encomendas.head(2)"
   ]
  },
  {
   "cell_type": "code",
   "execution_count": 80,
   "id": "d3f0df24-f5eb-4380-a451-b1e69a7b3dbd",
   "metadata": {
    "tags": []
   },
   "outputs": [
    {
     "data": {
      "text/plain": [
       "pandas.core.series.Series"
      ]
     },
     "execution_count": 80,
     "metadata": {},
     "output_type": "execute_result"
    }
   ],
   "source": [
    "# 1 - Quantos produtos tem por categoria?\n",
    "\n",
    "# frequencia por categoria\n",
    "s_produtos_por_categoria = df_encomendas[\"Categoria\"].value_counts()\n",
    "type(s_produtos_por_categoria)"
   ]
  },
  {
   "cell_type": "code",
   "execution_count": 143,
   "id": "9137df6d-cde9-4e88-8e2a-6b1b4780226d",
   "metadata": {
    "tags": []
   },
   "outputs": [],
   "source": [
    "df_produtos_por_categoria = pd.DataFrame(s_produtos_por_categoria)\n",
    "df_produtos_por_categoria.columns = [\"Produtos\"]\n",
    "# df_produtos_por_categoria.columns.name = \"Produtos por Categoria\""
   ]
  },
  {
   "cell_type": "code",
   "execution_count": 144,
   "id": "214d5b96-9827-4318-8624-b90b8b5799a8",
   "metadata": {
    "tags": []
   },
   "outputs": [
    {
     "data": {
      "text/html": [
       "<div>\n",
       "<style scoped>\n",
       "    .dataframe tbody tr th:only-of-type {\n",
       "        vertical-align: middle;\n",
       "    }\n",
       "\n",
       "    .dataframe tbody tr th {\n",
       "        vertical-align: top;\n",
       "    }\n",
       "\n",
       "    .dataframe thead th {\n",
       "        text-align: right;\n",
       "    }\n",
       "</style>\n",
       "<table border=\"1\" class=\"dataframe\">\n",
       "  <thead>\n",
       "    <tr style=\"text-align: right;\">\n",
       "      <th></th>\n",
       "      <th>Categoria</th>\n",
       "      <th>Produtos</th>\n",
       "    </tr>\n",
       "  </thead>\n",
       "  <tbody>\n",
       "    <tr>\n",
       "      <th>0</th>\n",
       "      <td>Confections</td>\n",
       "      <td>13</td>\n",
       "    </tr>\n",
       "    <tr>\n",
       "      <th>1</th>\n",
       "      <td>Beverages</td>\n",
       "      <td>12</td>\n",
       "    </tr>\n",
       "    <tr>\n",
       "      <th>2</th>\n",
       "      <td>Condiments</td>\n",
       "      <td>12</td>\n",
       "    </tr>\n",
       "    <tr>\n",
       "      <th>3</th>\n",
       "      <td>Seafood</td>\n",
       "      <td>12</td>\n",
       "    </tr>\n",
       "    <tr>\n",
       "      <th>4</th>\n",
       "      <td>Dairy Products</td>\n",
       "      <td>10</td>\n",
       "    </tr>\n",
       "    <tr>\n",
       "      <th>5</th>\n",
       "      <td>Grains/Cereals</td>\n",
       "      <td>7</td>\n",
       "    </tr>\n",
       "    <tr>\n",
       "      <th>6</th>\n",
       "      <td>Meat/Poultry</td>\n",
       "      <td>6</td>\n",
       "    </tr>\n",
       "    <tr>\n",
       "      <th>7</th>\n",
       "      <td>Produce</td>\n",
       "      <td>5</td>\n",
       "    </tr>\n",
       "  </tbody>\n",
       "</table>\n",
       "</div>"
      ],
      "text/plain": [
       "        Categoria  Produtos\n",
       "0     Confections        13\n",
       "1       Beverages        12\n",
       "2      Condiments        12\n",
       "3         Seafood        12\n",
       "4  Dairy Products        10\n",
       "5  Grains/Cereals         7\n",
       "6    Meat/Poultry         6\n",
       "7         Produce         5"
      ]
     },
     "execution_count": 144,
     "metadata": {},
     "output_type": "execute_result"
    }
   ],
   "source": [
    "df_produtos_por_categoria.reset_index()"
   ]
  },
  {
   "cell_type": "code",
   "execution_count": 149,
   "id": "4696a397-0b74-4846-9446-bf8b7cc8b964",
   "metadata": {
    "tags": []
   },
   "outputs": [
    {
     "data": {
      "text/plain": [
       "pandas.core.frame.DataFrame"
      ]
     },
     "execution_count": 149,
     "metadata": {},
     "output_type": "execute_result"
    }
   ],
   "source": [
    "# 2 - Quantos produtos sao encomendados mais por categorias?\n",
    "df_categorias_por_encomendas = df_encomendas.groupby(by=[\"Categoria\"])[[\"Encomendas\"]].sum()\n",
    "type(df_categorias_por_encomendas)"
   ]
  },
  {
   "cell_type": "code",
   "execution_count": 150,
   "id": "2a310399-27aa-4490-bb3f-6984319d7674",
   "metadata": {
    "tags": []
   },
   "outputs": [
    {
     "data": {
      "text/html": [
       "<div>\n",
       "<style scoped>\n",
       "    .dataframe tbody tr th:only-of-type {\n",
       "        vertical-align: middle;\n",
       "    }\n",
       "\n",
       "    .dataframe tbody tr th {\n",
       "        vertical-align: top;\n",
       "    }\n",
       "\n",
       "    .dataframe thead th {\n",
       "        text-align: right;\n",
       "    }\n",
       "</style>\n",
       "<table border=\"1\" class=\"dataframe\">\n",
       "  <thead>\n",
       "    <tr style=\"text-align: right;\">\n",
       "      <th></th>\n",
       "      <th>Categoria</th>\n",
       "      <th>Encomendas</th>\n",
       "    </tr>\n",
       "  </thead>\n",
       "  <tbody>\n",
       "    <tr>\n",
       "      <th>0</th>\n",
       "      <td>Beverages</td>\n",
       "      <td>60</td>\n",
       "    </tr>\n",
       "    <tr>\n",
       "      <th>1</th>\n",
       "      <td>Condiments</td>\n",
       "      <td>170</td>\n",
       "    </tr>\n",
       "    <tr>\n",
       "      <th>2</th>\n",
       "      <td>Confections</td>\n",
       "      <td>180</td>\n",
       "    </tr>\n",
       "    <tr>\n",
       "      <th>3</th>\n",
       "      <td>Dairy Products</td>\n",
       "      <td>140</td>\n",
       "    </tr>\n",
       "    <tr>\n",
       "      <th>4</th>\n",
       "      <td>Grains/Cereals</td>\n",
       "      <td>90</td>\n",
       "    </tr>\n",
       "    <tr>\n",
       "      <th>5</th>\n",
       "      <td>Meat/Poultry</td>\n",
       "      <td>0</td>\n",
       "    </tr>\n",
       "    <tr>\n",
       "      <th>6</th>\n",
       "      <td>Produce</td>\n",
       "      <td>20</td>\n",
       "    </tr>\n",
       "    <tr>\n",
       "      <th>7</th>\n",
       "      <td>Seafood</td>\n",
       "      <td>120</td>\n",
       "    </tr>\n",
       "  </tbody>\n",
       "</table>\n",
       "</div>"
      ],
      "text/plain": [
       "        Categoria  Encomendas\n",
       "0       Beverages          60\n",
       "1      Condiments         170\n",
       "2     Confections         180\n",
       "3  Dairy Products         140\n",
       "4  Grains/Cereals          90\n",
       "5    Meat/Poultry           0\n",
       "6         Produce          20\n",
       "7         Seafood         120"
      ]
     },
     "execution_count": 150,
     "metadata": {},
     "output_type": "execute_result"
    }
   ],
   "source": [
    "# df_categorias_por_encomendas.columns.name = \"Produtos Encomendados por categoria\"\n",
    "df_categorias_por_encomendas.reset_index()"
   ]
  },
  {
   "cell_type": "code",
   "execution_count": 147,
   "id": "1a2624c6-5f2e-4f8e-bcce-8b6b4226f96d",
   "metadata": {
    "tags": []
   },
   "outputs": [
    {
     "data": {
      "text/plain": [
       "pandas.core.frame.DataFrame"
      ]
     },
     "execution_count": 147,
     "metadata": {},
     "output_type": "execute_result"
    }
   ],
   "source": [
    "# 3 - Tem produtos descontinuado que ja foi encomendado?\n",
    "selecao = (df_encomendas.Descontinuado == 1) & (df_encomendas.Encomendas > 0)\n",
    "df_descontinuado_e_encomendados = df_encomendas[selecao]\n",
    "type(df_descontinuado_e_encomendados)"
   ]
  },
  {
   "cell_type": "code",
   "execution_count": 142,
   "id": "045eebba-0765-40be-80d2-b8ed6a36bc42",
   "metadata": {
    "tags": []
   },
   "outputs": [
    {
     "name": "stdout",
     "output_type": "stream",
     "text": [
      "Tem 0 produto(s) descontinuados e que foi encomendados.\n"
     ]
    }
   ],
   "source": [
    "print(f\"Tem {len(df_descontinuado_e_encomendados)} produto(s) descontinuados e que foi encomendados.\")"
   ]
  },
  {
   "cell_type": "markdown",
   "id": "1af90dd8-d04e-4fc0-8f13-d9685681a086",
   "metadata": {},
   "source": [
    "-----------"
   ]
  },
  {
   "cell_type": "code",
   "execution_count": 152,
   "id": "c009ad2b-6ef5-48be-a239-bb1d272c52f6",
   "metadata": {
    "tags": []
   },
   "outputs": [
    {
     "data": {
      "text/html": [
       "<div>\n",
       "<style scoped>\n",
       "    .dataframe tbody tr th:only-of-type {\n",
       "        vertical-align: middle;\n",
       "    }\n",
       "\n",
       "    .dataframe tbody tr th {\n",
       "        vertical-align: top;\n",
       "    }\n",
       "\n",
       "    .dataframe thead th {\n",
       "        text-align: right;\n",
       "    }\n",
       "</style>\n",
       "<table border=\"1\" class=\"dataframe\">\n",
       "  <thead>\n",
       "    <tr style=\"text-align: right;\">\n",
       "      <th></th>\n",
       "      <th>Produtos</th>\n",
       "    </tr>\n",
       "    <tr>\n",
       "      <th>Categoria</th>\n",
       "      <th></th>\n",
       "    </tr>\n",
       "  </thead>\n",
       "  <tbody>\n",
       "    <tr>\n",
       "      <th>Confections</th>\n",
       "      <td>13</td>\n",
       "    </tr>\n",
       "    <tr>\n",
       "      <th>Beverages</th>\n",
       "      <td>12</td>\n",
       "    </tr>\n",
       "  </tbody>\n",
       "</table>\n",
       "</div>"
      ],
      "text/plain": [
       "             Produtos\n",
       "Categoria            \n",
       "Confections        13\n",
       "Beverages          12"
      ]
     },
     "execution_count": 152,
     "metadata": {},
     "output_type": "execute_result"
    }
   ],
   "source": [
    "df_produtos_por_categoria.head(2)"
   ]
  },
  {
   "cell_type": "code",
   "execution_count": 154,
   "id": "dbc7ec59-ad09-49cb-b273-992affc8007f",
   "metadata": {
    "tags": []
   },
   "outputs": [
    {
     "data": {
      "text/html": [
       "<div>\n",
       "<style scoped>\n",
       "    .dataframe tbody tr th:only-of-type {\n",
       "        vertical-align: middle;\n",
       "    }\n",
       "\n",
       "    .dataframe tbody tr th {\n",
       "        vertical-align: top;\n",
       "    }\n",
       "\n",
       "    .dataframe thead th {\n",
       "        text-align: right;\n",
       "    }\n",
       "</style>\n",
       "<table border=\"1\" class=\"dataframe\">\n",
       "  <thead>\n",
       "    <tr style=\"text-align: right;\">\n",
       "      <th></th>\n",
       "      <th>Encomendas</th>\n",
       "    </tr>\n",
       "    <tr>\n",
       "      <th>Categoria</th>\n",
       "      <th></th>\n",
       "    </tr>\n",
       "  </thead>\n",
       "  <tbody>\n",
       "    <tr>\n",
       "      <th>Beverages</th>\n",
       "      <td>60</td>\n",
       "    </tr>\n",
       "    <tr>\n",
       "      <th>Condiments</th>\n",
       "      <td>170</td>\n",
       "    </tr>\n",
       "  </tbody>\n",
       "</table>\n",
       "</div>"
      ],
      "text/plain": [
       "            Encomendas\n",
       "Categoria             \n",
       "Beverages           60\n",
       "Condiments         170"
      ]
     },
     "execution_count": 154,
     "metadata": {},
     "output_type": "execute_result"
    }
   ],
   "source": [
    "df_categorias_por_encomendas.head(2)"
   ]
  },
  {
   "cell_type": "code",
   "execution_count": 155,
   "id": "7bbdfd4d-ad2f-49b8-b17f-3407933aa94f",
   "metadata": {
    "tags": []
   },
   "outputs": [
    {
     "data": {
      "text/html": [
       "<div>\n",
       "<style scoped>\n",
       "    .dataframe tbody tr th:only-of-type {\n",
       "        vertical-align: middle;\n",
       "    }\n",
       "\n",
       "    .dataframe tbody tr th {\n",
       "        vertical-align: top;\n",
       "    }\n",
       "\n",
       "    .dataframe thead th {\n",
       "        text-align: right;\n",
       "    }\n",
       "</style>\n",
       "<table border=\"1\" class=\"dataframe\">\n",
       "  <thead>\n",
       "    <tr style=\"text-align: right;\">\n",
       "      <th></th>\n",
       "      <th>Categoria</th>\n",
       "      <th>Produto</th>\n",
       "      <th>Encomendas</th>\n",
       "      <th>Descontinuado</th>\n",
       "    </tr>\n",
       "  </thead>\n",
       "  <tbody>\n",
       "  </tbody>\n",
       "</table>\n",
       "</div>"
      ],
      "text/plain": [
       "Empty DataFrame\n",
       "Columns: [Categoria, Produto, Encomendas, Descontinuado]\n",
       "Index: []"
      ]
     },
     "execution_count": 155,
     "metadata": {},
     "output_type": "execute_result"
    }
   ],
   "source": [
    "df_descontinuado_e_encomendados.head(2)"
   ]
  },
  {
   "cell_type": "code",
   "execution_count": 162,
   "id": "163cef89-8dd6-4b66-9115-5ca08a33cf76",
   "metadata": {
    "tags": []
   },
   "outputs": [
    {
     "data": {
      "text/plain": [
       "<Axes: title={'center': 'Produtos por categorias'}, xlabel='Categoria'>"
      ]
     },
     "execution_count": 162,
     "metadata": {},
     "output_type": "execute_result"
    },
    {
     "data": {
      "image/png": "[encoded data removed]",
      "text/plain": [
       "<Figure size 1300x400 with 1 Axes>"
      ]
     },
     "metadata": {},
     "output_type": "display_data"
    }
   ],
   "source": [
    "df_produtos_por_categoria.plot(kind=\"bar\", figsize=(13,4), title=\"Produtos por categorias\")"
   ]
  },
  {
   "cell_type": "code",
   "execution_count": 166,
   "id": "dea0ff4e-c0fb-472b-bda6-eb755ff4e777",
   "metadata": {
    "tags": []
   },
   "outputs": [
    {
     "data": {
      "text/plain": [
       "<Axes: title={'center': 'Produtos encomendados por categorias'}, ylabel='Categoria'>"
      ]
     },
     "execution_count": 166,
     "metadata": {},
     "output_type": "execute_result"
    },
    {
     "data": {
      "image/png": "[encoded data removed]",
      "text/plain": [
       "<Figure size 1300x800 with 1 Axes>"
      ]
     },
     "metadata": {},
     "output_type": "display_data"
    }
   ],
   "source": [
    "df_categorias_por_encomendas.plot.barh(figsize=(13,8), title=\"Produtos encomendados por categorias\")"
   ]
  },
  {
   "cell_type": "code",
   "execution_count": 168,
   "id": "1bb58bb5-8ba8-4f1c-85cd-5862b82b6f61",
   "metadata": {
    "tags": []
   },
   "outputs": [
    {
     "data": {
      "text/plain": [
       "<Axes: >"
      ]
     },
     "execution_count": 168,
     "metadata": {},
     "output_type": "execute_result"
    },
    {
     "data": {
      "image/png": "[encoded data removed]",
      "text/plain": [
       "<Figure size 1500x700 with 1 Axes>"
      ]
     },
     "metadata": {},
     "output_type": "display_data"
    }
   ],
   "source": [
    "# 4 = Alguma observacao que queira fazer sobre as categorias.\n",
    "\n",
    "df_analise.plot.box(figsize=(15,7))"
   ]
  },
  {
   "cell_type": "code",
   "execution_count": 176,
   "id": "fead5539-0525-4a72-b000-3f8874df73de",
   "metadata": {
    "tags": []
   },
   "outputs": [],
   "source": [
    "s = pd.Series([5, 6, 8, 9]) # 30, -100, 90"
   ]
  },
  {
   "cell_type": "code",
   "execution_count": 177,
   "id": "3833c6a9-fbee-46ab-ad39-d6c5c7fafff3",
   "metadata": {
    "tags": []
   },
   "outputs": [
    {
     "data": {
      "text/plain": [
       "<Axes: >"
      ]
     },
     "execution_count": 177,
     "metadata": {},
     "output_type": "execute_result"
    },
    {
     "data": {
      "image/png": "[encoded data removed]",
      "text/plain": [
       "<Figure size 1500x700 with 1 Axes>"
      ]
     },
     "metadata": {},
     "output_type": "display_data"
    }
   ],
   "source": [
    "s.plot.box(figsize=(15,7))"
   ]
  },
  {
   "cell_type": "code",
   "execution_count": 178,
   "id": "7e80e68a-0074-4127-97c2-d6da512d5f96",
   "metadata": {
    "tags": []
   },
   "outputs": [
    {
     "data": {
      "text/html": [
       "<div>\n",
       "<style scoped>\n",
       "    .dataframe tbody tr th:only-of-type {\n",
       "        vertical-align: middle;\n",
       "    }\n",
       "\n",
       "    .dataframe tbody tr th {\n",
       "        vertical-align: top;\n",
       "    }\n",
       "\n",
       "    .dataframe thead th {\n",
       "        text-align: right;\n",
       "    }\n",
       "</style>\n",
       "<table border=\"1\" class=\"dataframe\">\n",
       "  <thead>\n",
       "    <tr style=\"text-align: right;\">\n",
       "      <th></th>\n",
       "      <th>ProductID</th>\n",
       "      <th>SupplierID</th>\n",
       "      <th>CategoryID</th>\n",
       "      <th>UnitPrice</th>\n",
       "      <th>UnitsInStock</th>\n",
       "      <th>UnitsOnOrder</th>\n",
       "      <th>ReorderLevel</th>\n",
       "      <th>Discontinued</th>\n",
       "    </tr>\n",
       "  </thead>\n",
       "  <tbody>\n",
       "    <tr>\n",
       "      <th>count</th>\n",
       "      <td>78.000000</td>\n",
       "      <td>78.000000</td>\n",
       "      <td>78.000000</td>\n",
       "      <td>78.000000</td>\n",
       "      <td>78.000000</td>\n",
       "      <td>78.000000</td>\n",
       "      <td>78.000000</td>\n",
       "      <td>78.000000</td>\n",
       "    </tr>\n",
       "    <tr>\n",
       "      <th>mean</th>\n",
       "      <td>39.500000</td>\n",
       "      <td>13.628205</td>\n",
       "      <td>4.205128</td>\n",
       "      <td>28.662949</td>\n",
       "      <td>40.397436</td>\n",
       "      <td>10.000000</td>\n",
       "      <td>12.500000</td>\n",
       "      <td>0.102564</td>\n",
       "    </tr>\n",
       "    <tr>\n",
       "      <th>std</th>\n",
       "      <td>22.660538</td>\n",
       "      <td>8.168850</td>\n",
       "      <td>2.503810</td>\n",
       "      <td>33.642816</td>\n",
       "      <td>35.924647</td>\n",
       "      <td>23.018908</td>\n",
       "      <td>10.863677</td>\n",
       "      <td>0.305352</td>\n",
       "    </tr>\n",
       "    <tr>\n",
       "      <th>min</th>\n",
       "      <td>1.000000</td>\n",
       "      <td>1.000000</td>\n",
       "      <td>1.000000</td>\n",
       "      <td>2.500000</td>\n",
       "      <td>0.000000</td>\n",
       "      <td>0.000000</td>\n",
       "      <td>0.000000</td>\n",
       "      <td>0.000000</td>\n",
       "    </tr>\n",
       "    <tr>\n",
       "      <th>25%</th>\n",
       "      <td>20.250000</td>\n",
       "      <td>7.000000</td>\n",
       "      <td>2.000000</td>\n",
       "      <td>13.062500</td>\n",
       "      <td>15.000000</td>\n",
       "      <td>0.000000</td>\n",
       "      <td>0.000000</td>\n",
       "      <td>0.000000</td>\n",
       "    </tr>\n",
       "    <tr>\n",
       "      <th>50%</th>\n",
       "      <td>39.500000</td>\n",
       "      <td>12.500000</td>\n",
       "      <td>4.000000</td>\n",
       "      <td>19.475000</td>\n",
       "      <td>26.000000</td>\n",
       "      <td>0.000000</td>\n",
       "      <td>12.500000</td>\n",
       "      <td>0.000000</td>\n",
       "    </tr>\n",
       "    <tr>\n",
       "      <th>75%</th>\n",
       "      <td>58.750000</td>\n",
       "      <td>20.000000</td>\n",
       "      <td>6.000000</td>\n",
       "      <td>33.137500</td>\n",
       "      <td>60.000000</td>\n",
       "      <td>0.000000</td>\n",
       "      <td>23.750000</td>\n",
       "      <td>0.000000</td>\n",
       "    </tr>\n",
       "    <tr>\n",
       "      <th>max</th>\n",
       "      <td>78.000000</td>\n",
       "      <td>29.000000</td>\n",
       "      <td>11.000000</td>\n",
       "      <td>263.500000</td>\n",
       "      <td>125.000000</td>\n",
       "      <td>100.000000</td>\n",
       "      <td>30.000000</td>\n",
       "      <td>1.000000</td>\n",
       "    </tr>\n",
       "  </tbody>\n",
       "</table>\n",
       "</div>"
      ],
      "text/plain": [
       "       ProductID  SupplierID  CategoryID   UnitPrice  UnitsInStock  \\\n",
       "count  78.000000   78.000000   78.000000   78.000000     78.000000   \n",
       "mean   39.500000   13.628205    4.205128   28.662949     40.397436   \n",
       "std    22.660538    8.168850    2.503810   33.642816     35.924647   \n",
       "min     1.000000    1.000000    1.000000    2.500000      0.000000   \n",
       "25%    20.250000    7.000000    2.000000   13.062500     15.000000   \n",
       "50%    39.500000   12.500000    4.000000   19.475000     26.000000   \n",
       "75%    58.750000   20.000000    6.000000   33.137500     60.000000   \n",
       "max    78.000000   29.000000   11.000000  263.500000    125.000000   \n",
       "\n",
       "       UnitsOnOrder  ReorderLevel  Discontinued  \n",
       "count     78.000000     78.000000     78.000000  \n",
       "mean      10.000000     12.500000      0.102564  \n",
       "std       23.018908     10.863677      0.305352  \n",
       "min        0.000000      0.000000      0.000000  \n",
       "25%        0.000000      0.000000      0.000000  \n",
       "50%        0.000000     12.500000      0.000000  \n",
       "75%        0.000000     23.750000      0.000000  \n",
       "max      100.000000     30.000000      1.000000  "
      ]
     },
     "execution_count": 178,
     "metadata": {},
     "output_type": "execute_result"
    }
   ],
   "source": [
    " df_analise.describe()"
   ]
  },
  {
   "cell_type": "code",
   "execution_count": 182,
   "id": "e7fe5117-0f70-4fb7-bc4b-adc41f296c05",
   "metadata": {
    "tags": []
   },
   "outputs": [],
   "source": [
    "# Exportar as informacoes tratadas\n",
    "\n",
    "# df_produtos_por_categoria.to_excel(\"produtos_por_categorias.xlsx\")"
   ]
  },
  {
   "cell_type": "code",
   "execution_count": 183,
   "id": "62424c35-1c55-4b02-b3a8-70c3977172ee",
   "metadata": {
    "tags": []
   },
   "outputs": [],
   "source": [
    "# df_categorias_por_encomendas.to_excel(\"Produtos_encomendados_por_categorias.xlsx\")"
   ]
  },
  {
   "cell_type": "code",
   "execution_count": 187,
   "id": "872b5eb5-63a7-49df-a941-02c3429ea0ce",
   "metadata": {
    "tags": []
   },
   "outputs": [
    {
     "data": {
      "text/plain": [
       "array([<Axes: ylabel='Encomendas'>], dtype=object)"
      ]
     },
     "execution_count": 187,
     "metadata": {},
     "output_type": "execute_result"
    },
    {
     "data": {
      "image/png": "[encoded data removed]",
      "text/plain": [
       "<Figure size 1500x400 with 1 Axes>"
      ]
     },
     "metadata": {},
     "output_type": "display_data"
    }
   ],
   "source": [
    "df_categorias_por_encomendas.plot.pie(subplots=True, figsize=(15, 4))"
   ]
  },
  {
   "cell_type": "code",
   "execution_count": 196,
   "id": "5652a39e-a44c-4d8f-9a25-55e3610a9bbe",
   "metadata": {
    "tags": []
   },
   "outputs": [],
   "source": [
    "# isnull ou isna\n",
    "nulos = df_analise.isna().sum()"
   ]
  },
  {
   "cell_type": "code",
   "execution_count": 197,
   "id": "d29db724-7772-4e63-bee0-72e432c9e0b0",
   "metadata": {
    "tags": []
   },
   "outputs": [
    {
     "data": {
      "text/plain": [
       "pandas.core.series.Series"
      ]
     },
     "execution_count": 197,
     "metadata": {},
     "output_type": "execute_result"
    }
   ],
   "source": [
    "type(nulos)"
   ]
  },
  {
   "cell_type": "code",
   "execution_count": 198,
   "id": "ad854d59-662e-4bab-9094-5d0f0455d1e4",
   "metadata": {
    "tags": []
   },
   "outputs": [
    {
     "data": {
      "text/plain": [
       "ProductID          0\n",
       "ProductName        0\n",
       "SupplierID         0\n",
       "CategoryID         0\n",
       "CategoryName       1\n",
       "QuantityPerUnit    0\n",
       "UnitPrice          0\n",
       "UnitsInStock       0\n",
       "UnitsOnOrder       0\n",
       "ReorderLevel       0\n",
       "Discontinued       0\n",
       "dtype: int64"
      ]
     },
     "execution_count": 198,
     "metadata": {},
     "output_type": "execute_result"
    }
   ],
   "source": [
    "nulos"
   ]
  },
  {
   "cell_type": "code",
   "execution_count": 203,
   "id": "605c6433-1d23-4ee1-b09f-2e9c602b3a80",
   "metadata": {
    "tags": []
   },
   "outputs": [
    {
     "data": {
      "text/html": [
       "<div>\n",
       "<style scoped>\n",
       "    .dataframe tbody tr th:only-of-type {\n",
       "        vertical-align: middle;\n",
       "    }\n",
       "\n",
       "    .dataframe tbody tr th {\n",
       "        vertical-align: top;\n",
       "    }\n",
       "\n",
       "    .dataframe thead th {\n",
       "        text-align: right;\n",
       "    }\n",
       "</style>\n",
       "<table border=\"1\" class=\"dataframe\">\n",
       "  <thead>\n",
       "    <tr style=\"text-align: right;\">\n",
       "      <th></th>\n",
       "      <th>ProductID</th>\n",
       "      <th>ProductName</th>\n",
       "      <th>SupplierID</th>\n",
       "      <th>CategoryID</th>\n",
       "      <th>CategoryName</th>\n",
       "      <th>QuantityPerUnit</th>\n",
       "      <th>UnitPrice</th>\n",
       "      <th>UnitsInStock</th>\n",
       "      <th>UnitsOnOrder</th>\n",
       "      <th>ReorderLevel</th>\n",
       "      <th>Discontinued</th>\n",
       "    </tr>\n",
       "  </thead>\n",
       "  <tbody>\n",
       "    <tr>\n",
       "      <th>77</th>\n",
       "      <td>78</td>\n",
       "      <td>Pastel de Pizza</td>\n",
       "      <td>12</td>\n",
       "      <td>11</td>\n",
       "      <td>NaN</td>\n",
       "      <td>12 boxes</td>\n",
       "      <td>13.0</td>\n",
       "      <td>32</td>\n",
       "      <td>0</td>\n",
       "      <td>15</td>\n",
       "      <td>0</td>\n",
       "    </tr>\n",
       "  </tbody>\n",
       "</table>\n",
       "</div>"
      ],
      "text/plain": [
       "    ProductID      ProductName  SupplierID  CategoryID CategoryName  \\\n",
       "77         78  Pastel de Pizza          12          11          NaN   \n",
       "\n",
       "   QuantityPerUnit  UnitPrice  UnitsInStock  UnitsOnOrder  ReorderLevel  \\\n",
       "77        12 boxes       13.0            32             0            15   \n",
       "\n",
       "    Discontinued  \n",
       "77             0  "
      ]
     },
     "execution_count": 203,
     "metadata": {},
     "output_type": "execute_result"
    }
   ],
   "source": [
    "# df_analise[df_analise.CategoryName.notnull()] Retorna os nao nulos\n",
    "# df_analise[df_analise.CategoryName.isnull()]  retorna os nulos\n",
    "\n",
    "df_analise[df_analise.CategoryName.isnull()]      "
   ]
  },
  {
   "cell_type": "code",
   "execution_count": 206,
   "id": "d4537363-2e39-47a5-80ed-20aed43e7012",
   "metadata": {
    "tags": []
   },
   "outputs": [],
   "source": [
    "# df_analise.dropna() # apaga linhas com nulos."
   ]
  },
  {
   "cell_type": "code",
   "execution_count": 215,
   "id": "914df085-8c88-460f-9216-31ac8243cb87",
   "metadata": {
    "tags": []
   },
   "outputs": [
    {
     "data": {
      "text/plain": [
       "0      Beverages\n",
       "1      Beverages\n",
       "2     Condiments\n",
       "3     Condiments\n",
       "4     Condiments\n",
       "         ...    \n",
       "73       Produce\n",
       "74     Beverages\n",
       "75     Beverages\n",
       "76    Condiments\n",
       "77         outro\n",
       "Name: CategoryName, Length: 78, dtype: object"
      ]
     },
     "execution_count": 215,
     "metadata": {},
     "output_type": "execute_result"
    }
   ],
   "source": [
    "df_analise.CategoryName\t.fillna(\"outro\")"
   ]
  },
  {
   "cell_type": "code",
   "execution_count": 207,
   "id": "883114f4-8578-4c9d-9524-b8e96d1b3f69",
   "metadata": {
    "tags": []
   },
   "outputs": [
    {
     "data": {
      "text/html": [
       "<div>\n",
       "<style scoped>\n",
       "    .dataframe tbody tr th:only-of-type {\n",
       "        vertical-align: middle;\n",
       "    }\n",
       "\n",
       "    .dataframe tbody tr th {\n",
       "        vertical-align: top;\n",
       "    }\n",
       "\n",
       "    .dataframe thead th {\n",
       "        text-align: right;\n",
       "    }\n",
       "</style>\n",
       "<table border=\"1\" class=\"dataframe\">\n",
       "  <thead>\n",
       "    <tr style=\"text-align: right;\">\n",
       "      <th></th>\n",
       "      <th>ProductID</th>\n",
       "      <th>ProductName</th>\n",
       "      <th>SupplierID</th>\n",
       "      <th>CategoryID</th>\n",
       "      <th>CategoryName</th>\n",
       "      <th>QuantityPerUnit</th>\n",
       "      <th>UnitPrice</th>\n",
       "      <th>UnitsInStock</th>\n",
       "      <th>UnitsOnOrder</th>\n",
       "      <th>ReorderLevel</th>\n",
       "      <th>Discontinued</th>\n",
       "    </tr>\n",
       "  </thead>\n",
       "  <tbody>\n",
       "    <tr>\n",
       "      <th>77</th>\n",
       "      <td>78</td>\n",
       "      <td>Pastel de Pizza</td>\n",
       "      <td>12</td>\n",
       "      <td>11</td>\n",
       "      <td>NaN</td>\n",
       "      <td>12 boxes</td>\n",
       "      <td>13.0</td>\n",
       "      <td>32</td>\n",
       "      <td>0</td>\n",
       "      <td>15</td>\n",
       "      <td>0</td>\n",
       "    </tr>\n",
       "  </tbody>\n",
       "</table>\n",
       "</div>"
      ],
      "text/plain": [
       "    ProductID      ProductName  SupplierID  CategoryID CategoryName  \\\n",
       "77         78  Pastel de Pizza          12          11          NaN   \n",
       "\n",
       "   QuantityPerUnit  UnitPrice  UnitsInStock  UnitsOnOrder  ReorderLevel  \\\n",
       "77        12 boxes       13.0            32             0            15   \n",
       "\n",
       "    Discontinued  \n",
       "77             0  "
      ]
     },
     "execution_count": 207,
     "metadata": {},
     "output_type": "execute_result"
    }
   ],
   "source": [
    "df_analise[df_analise.CategoryName.isnull()]  "
   ]
  }
 ],
 "metadata": {
  "kernelspec": {
   "display_name": "Python 3 (ipykernel)",
   "language": "python",
   "name": "python3"
  },
  "language_info": {
   "codemirror_mode": {
    "name": "ipython",
    "version": 3
   },
   "file_extension": ".py",
   "mimetype": "text/x-python",
   "name": "python",
   "nbconvert_exporter": "python",
   "pygments_lexer": "ipython3",
   "version": "3.11.5"
  }
 },
 "nbformat": 4,
 "nbformat_minor": 5
}
