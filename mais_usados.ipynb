{
 "cells": [
  {
   "cell_type": "markdown",
   "id": "ee7749d8-f98a-483f-8515-c20c6b4f85dd",
   "metadata": {},
   "source": [
    "# Metodos e atributos mais usados"
   ]
  },
  {
   "cell_type": "markdown",
   "id": "62e07026-0474-4020-afa6-3e2810190976",
   "metadata": {},
   "source": [
    "- Series\n",
    "- DataFrames\n",
    "- plot() criar graficos\n",
    "- pd.read_csv() oegar dados em csv\n",
    "- df.head() e df.tail() ver 05 primeiras ou ultimas linhas\n",
    "- df.shape ver qtd de linhas e colunas\n",
    "- df.columns ver as colunas\n",
    "- df.dtypes ver os tipos de dados\n",
    "- df.info() informacoes sobre o df\n",
    "- df.describe() ver sumario estatisticos\n",
    "- pandas.merge unir dfs\n",
    "- df.reset_index() resetar os index\n",
    "- df.groupoby() agrupar dados\n",
    "- isna e isnull ver dados faltantes\n",
    "- dropna apagar linhas com dados faltantes\n",
    "- fillna() preenche os dados faltantes\n",
    "- apply() aplicar acoes no df\n",
    "- drop_duplicates() tirar linhas com dados faltantes\n",
    "- loc e iloc procurar informacoes dos dfs\n",
    "- pandas.timestamp() transformar datas em dates\n",
    "- pandas.to_datetime() converter string para datas\n",
    "- pandas.date_range() criar uma faixa de datas\n",
    "- pandas. cut() dividir os dados como categorias\n",
    "\n",
    "\n",
    "\n",
    "\n",
    "\n",
    "\n"
   ]
  },
  {
   "cell_type": "code",
   "execution_count": null,
   "id": "d22ac2c3-f3cb-43b2-b179-30216d224e96",
   "metadata": {},
   "outputs": [],
   "source": []
  }
 ],
 "metadata": {
  "kernelspec": {
   "display_name": "Python 3 (ipykernel)",
   "language": "python",
   "name": "python3"
  },
  "language_info": {
   "codemirror_mode": {
    "name": "ipython",
    "version": 3
   },
   "file_extension": ".py",
   "mimetype": "text/x-python",
   "name": "python",
   "nbconvert_exporter": "python",
   "pygments_lexer": "ipython3",
   "version": "3.11.5"
  }
 },
 "nbformat": 4,
 "nbformat_minor": 5
}
