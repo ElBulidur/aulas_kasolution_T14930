{
 "cells": [
  {
   "cell_type": "markdown",
   "id": "4abde327-2137-49cb-96bf-f90186637496",
   "metadata": {},
   "source": [
    "# Relatorio V"
   ]
  },
  {
   "cell_type": "markdown",
   "id": "1d250343-7e5a-4f97-a918-9092510c44c8",
   "metadata": {},
   "source": [
    "1. Tratar erros de dados ausentes.\n",
    "2. Transformar a variável Name em uma variável categorica.\n",
    "3. Criar uma variárvel categorica com base no sumário estatíticos da variável Calories."
   ]
  },
  {
   "cell_type": "code",
   "execution_count": 1,
   "id": "f35270ed-a224-42ae-b7e5-fe9cc59aa0d5",
   "metadata": {
    "tags": []
   },
   "outputs": [],
   "source": [
    "import pandas as pd"
   ]
  },
  {
   "cell_type": "code",
   "execution_count": 116,
   "id": "b8a915b5-445a-4ea7-9c9c-b97b90914d9e",
   "metadata": {
    "tags": []
   },
   "outputs": [],
   "source": [
    "df_data = pd.read_csv(\n",
    "    \"arquivos_gerados/dados_aula04.csv\",\n",
    "    index_col=\"Unnamed: 0\"\n",
    ")"
   ]
  },
  {
   "cell_type": "code",
   "execution_count": 117,
   "id": "df006867-8719-40bc-9d36-b3a1fdef9ce4",
   "metadata": {
    "tags": []
   },
   "outputs": [
    {
     "data": {
      "text/html": [
       "<div>\n",
       "<style scoped>\n",
       "    .dataframe tbody tr th:only-of-type {\n",
       "        vertical-align: middle;\n",
       "    }\n",
       "\n",
       "    .dataframe tbody tr th {\n",
       "        vertical-align: top;\n",
       "    }\n",
       "\n",
       "    .dataframe thead th {\n",
       "        text-align: right;\n",
       "    }\n",
       "</style>\n",
       "<table border=\"1\" class=\"dataframe\">\n",
       "  <thead>\n",
       "    <tr style=\"text-align: right;\">\n",
       "      <th></th>\n",
       "      <th>Name</th>\n",
       "      <th>Week</th>\n",
       "      <th>Duration</th>\n",
       "      <th>Pulse</th>\n",
       "      <th>Maxpulse</th>\n",
       "      <th>Calories</th>\n",
       "      <th>DMediaGeral</th>\n",
       "      <th>CalsPerMin</th>\n",
       "      <th>Datas</th>\n",
       "    </tr>\n",
       "  </thead>\n",
       "  <tbody>\n",
       "    <tr>\n",
       "      <th>0</th>\n",
       "      <td>Robert</td>\n",
       "      <td>1</td>\n",
       "      <td>60</td>\n",
       "      <td>110</td>\n",
       "      <td>130</td>\n",
       "      <td>409.1</td>\n",
       "      <td>33.3</td>\n",
       "      <td>6.8</td>\n",
       "      <td>01/11/2023</td>\n",
       "    </tr>\n",
       "    <tr>\n",
       "      <th>1</th>\n",
       "      <td>Mark</td>\n",
       "      <td>1</td>\n",
       "      <td>60</td>\n",
       "      <td>117</td>\n",
       "      <td>145</td>\n",
       "      <td>479.0</td>\n",
       "      <td>103.2</td>\n",
       "      <td>8.0</td>\n",
       "      <td>02/11/2023</td>\n",
       "    </tr>\n",
       "  </tbody>\n",
       "</table>\n",
       "</div>"
      ],
      "text/plain": [
       "     Name  Week  Duration  Pulse  Maxpulse  Calories  DMediaGeral  CalsPerMin  \\\n",
       "0  Robert     1        60    110       130     409.1         33.3         6.8   \n",
       "1    Mark     1        60    117       145     479.0        103.2         8.0   \n",
       "\n",
       "        Datas  \n",
       "0  01/11/2023  \n",
       "1  02/11/2023  "
      ]
     },
     "execution_count": 117,
     "metadata": {},
     "output_type": "execute_result"
    }
   ],
   "source": [
    "df_data.head(2)"
   ]
  },
  {
   "cell_type": "code",
   "execution_count": 118,
   "id": "61d8c88c-1813-4829-8a1f-dd053f48f009",
   "metadata": {
    "tags": []
   },
   "outputs": [
    {
     "name": "stdout",
     "output_type": "stream",
     "text": [
      "<class 'pandas.core.frame.DataFrame'>\n",
      "Index: 169 entries, 0 to 168\n",
      "Data columns (total 9 columns):\n",
      " #   Column       Non-Null Count  Dtype  \n",
      "---  ------       --------------  -----  \n",
      " 0   Name         169 non-null    object \n",
      " 1   Week         169 non-null    int64  \n",
      " 2   Duration     169 non-null    int64  \n",
      " 3   Pulse        169 non-null    int64  \n",
      " 4   Maxpulse     169 non-null    int64  \n",
      " 5   Calories     164 non-null    float64\n",
      " 6   DMediaGeral  164 non-null    float64\n",
      " 7   CalsPerMin   164 non-null    float64\n",
      " 8   Datas        169 non-null    object \n",
      "dtypes: float64(3), int64(4), object(2)\n",
      "memory usage: 13.2+ KB\n"
     ]
    }
   ],
   "source": [
    "df_data.info()"
   ]
  },
  {
   "cell_type": "code",
   "execution_count": 119,
   "id": "0e285ed7-78fc-479e-8039-2977d3ec8321",
   "metadata": {
    "tags": []
   },
   "outputs": [
    {
     "data": {
      "text/plain": [
       "Index(['Name', 'Week', 'Duration', 'Pulse', 'Maxpulse', 'Calories',\n",
       "       'DMediaGeral', 'CalsPerMin', 'Datas'],\n",
       "      dtype='object')"
      ]
     },
     "execution_count": 119,
     "metadata": {},
     "output_type": "execute_result"
    }
   ],
   "source": [
    "df_data.columns"
   ]
  },
  {
   "cell_type": "code",
   "execution_count": 98,
   "id": "e1d2188c-0bb0-4008-9845-da7966c2f015",
   "metadata": {
    "tags": []
   },
   "outputs": [],
   "source": [
    "df_data = df_data[['Datas', 'Week', 'Name', 'Duration', 'Pulse', 'Maxpulse', 'Calories',\n",
    "       'DMediaGeral', 'CalsPerMin']]"
   ]
  },
  {
   "cell_type": "code",
   "execution_count": 99,
   "id": "05979f58-5264-4b81-845a-e36a2a88b11e",
   "metadata": {
    "tags": []
   },
   "outputs": [
    {
     "data": {
      "text/html": [
       "<div>\n",
       "<style scoped>\n",
       "    .dataframe tbody tr th:only-of-type {\n",
       "        vertical-align: middle;\n",
       "    }\n",
       "\n",
       "    .dataframe tbody tr th {\n",
       "        vertical-align: top;\n",
       "    }\n",
       "\n",
       "    .dataframe thead th {\n",
       "        text-align: right;\n",
       "    }\n",
       "</style>\n",
       "<table border=\"1\" class=\"dataframe\">\n",
       "  <thead>\n",
       "    <tr style=\"text-align: right;\">\n",
       "      <th></th>\n",
       "      <th>Datas</th>\n",
       "      <th>Week</th>\n",
       "      <th>Name</th>\n",
       "      <th>Duration</th>\n",
       "      <th>Pulse</th>\n",
       "      <th>Maxpulse</th>\n",
       "      <th>Calories</th>\n",
       "      <th>DMediaGeral</th>\n",
       "      <th>CalsPerMin</th>\n",
       "    </tr>\n",
       "  </thead>\n",
       "  <tbody>\n",
       "    <tr>\n",
       "      <th>0</th>\n",
       "      <td>01/11/2023</td>\n",
       "      <td>1</td>\n",
       "      <td>Robert</td>\n",
       "      <td>60</td>\n",
       "      <td>110</td>\n",
       "      <td>130</td>\n",
       "      <td>409.1</td>\n",
       "      <td>33.3</td>\n",
       "      <td>6.8</td>\n",
       "    </tr>\n",
       "    <tr>\n",
       "      <th>1</th>\n",
       "      <td>02/11/2023</td>\n",
       "      <td>1</td>\n",
       "      <td>Mark</td>\n",
       "      <td>60</td>\n",
       "      <td>117</td>\n",
       "      <td>145</td>\n",
       "      <td>479.0</td>\n",
       "      <td>103.2</td>\n",
       "      <td>8.0</td>\n",
       "    </tr>\n",
       "  </tbody>\n",
       "</table>\n",
       "</div>"
      ],
      "text/plain": [
       "        Datas  Week    Name  Duration  Pulse  Maxpulse  Calories  DMediaGeral  \\\n",
       "0  01/11/2023     1  Robert        60    110       130     409.1         33.3   \n",
       "1  02/11/2023     1    Mark        60    117       145     479.0        103.2   \n",
       "\n",
       "   CalsPerMin  \n",
       "0         6.8  \n",
       "1         8.0  "
      ]
     },
     "execution_count": 99,
     "metadata": {},
     "output_type": "execute_result"
    }
   ],
   "source": [
    "df_data.head(2)"
   ]
  },
  {
   "cell_type": "code",
   "execution_count": 100,
   "id": "782154cb-525f-464b-9671-cb38a16cebfb",
   "metadata": {
    "tags": []
   },
   "outputs": [],
   "source": [
    "# 1. Tratar erros de dados ausentes."
   ]
  },
  {
   "cell_type": "code",
   "execution_count": 101,
   "id": "e718553f-205e-4286-b489-8e56df50bc59",
   "metadata": {
    "tags": []
   },
   "outputs": [
    {
     "data": {
      "text/plain": [
       "Datas          0\n",
       "Week           0\n",
       "Name           0\n",
       "Duration       0\n",
       "Pulse          0\n",
       "Maxpulse       0\n",
       "Calories       5\n",
       "DMediaGeral    5\n",
       "CalsPerMin     5\n",
       "dtype: int64"
      ]
     },
     "execution_count": 101,
     "metadata": {},
     "output_type": "execute_result"
    }
   ],
   "source": [
    "# isna\n",
    "# isnull\n",
    "df_data.isna().sum()"
   ]
  },
  {
   "cell_type": "code",
   "execution_count": 102,
   "id": "7a6f522c-28f2-4dbc-a7d5-77aa900fe116",
   "metadata": {
    "tags": []
   },
   "outputs": [
    {
     "data": {
      "text/html": [
       "<div>\n",
       "<style scoped>\n",
       "    .dataframe tbody tr th:only-of-type {\n",
       "        vertical-align: middle;\n",
       "    }\n",
       "\n",
       "    .dataframe tbody tr th {\n",
       "        vertical-align: top;\n",
       "    }\n",
       "\n",
       "    .dataframe thead th {\n",
       "        text-align: right;\n",
       "    }\n",
       "</style>\n",
       "<table border=\"1\" class=\"dataframe\">\n",
       "  <thead>\n",
       "    <tr style=\"text-align: right;\">\n",
       "      <th></th>\n",
       "      <th>Datas</th>\n",
       "      <th>Week</th>\n",
       "      <th>Name</th>\n",
       "      <th>Duration</th>\n",
       "      <th>Pulse</th>\n",
       "      <th>Maxpulse</th>\n",
       "      <th>Calories</th>\n",
       "      <th>DMediaGeral</th>\n",
       "      <th>CalsPerMin</th>\n",
       "    </tr>\n",
       "  </thead>\n",
       "  <tbody>\n",
       "    <tr>\n",
       "      <th>17</th>\n",
       "      <td>10/11/2023</td>\n",
       "      <td>2</td>\n",
       "      <td>Megan</td>\n",
       "      <td>45</td>\n",
       "      <td>90</td>\n",
       "      <td>112</td>\n",
       "      <td>NaN</td>\n",
       "      <td>NaN</td>\n",
       "      <td>NaN</td>\n",
       "    </tr>\n",
       "    <tr>\n",
       "      <th>27</th>\n",
       "      <td>12/11/2023</td>\n",
       "      <td>2</td>\n",
       "      <td>Nicholas</td>\n",
       "      <td>60</td>\n",
       "      <td>103</td>\n",
       "      <td>132</td>\n",
       "      <td>NaN</td>\n",
       "      <td>NaN</td>\n",
       "      <td>NaN</td>\n",
       "    </tr>\n",
       "    <tr>\n",
       "      <th>91</th>\n",
       "      <td>12/12/2023</td>\n",
       "      <td>5</td>\n",
       "      <td>Nicholas</td>\n",
       "      <td>45</td>\n",
       "      <td>107</td>\n",
       "      <td>137</td>\n",
       "      <td>NaN</td>\n",
       "      <td>NaN</td>\n",
       "      <td>NaN</td>\n",
       "    </tr>\n",
       "    <tr>\n",
       "      <th>118</th>\n",
       "      <td>13/12/2023</td>\n",
       "      <td>6</td>\n",
       "      <td>James</td>\n",
       "      <td>60</td>\n",
       "      <td>105</td>\n",
       "      <td>125</td>\n",
       "      <td>NaN</td>\n",
       "      <td>NaN</td>\n",
       "      <td>NaN</td>\n",
       "    </tr>\n",
       "    <tr>\n",
       "      <th>141</th>\n",
       "      <td>25/12/2023</td>\n",
       "      <td>7</td>\n",
       "      <td>Robert</td>\n",
       "      <td>60</td>\n",
       "      <td>97</td>\n",
       "      <td>127</td>\n",
       "      <td>NaN</td>\n",
       "      <td>NaN</td>\n",
       "      <td>NaN</td>\n",
       "    </tr>\n",
       "  </tbody>\n",
       "</table>\n",
       "</div>"
      ],
      "text/plain": [
       "          Datas  Week      Name  Duration  Pulse  Maxpulse  Calories  \\\n",
       "17   10/11/2023     2     Megan        45     90       112       NaN   \n",
       "27   12/11/2023     2  Nicholas        60    103       132       NaN   \n",
       "91   12/12/2023     5  Nicholas        45    107       137       NaN   \n",
       "118  13/12/2023     6     James        60    105       125       NaN   \n",
       "141  25/12/2023     7    Robert        60     97       127       NaN   \n",
       "\n",
       "     DMediaGeral  CalsPerMin  \n",
       "17           NaN         NaN  \n",
       "27           NaN         NaN  \n",
       "91           NaN         NaN  \n",
       "118          NaN         NaN  \n",
       "141          NaN         NaN  "
      ]
     },
     "execution_count": 102,
     "metadata": {},
     "output_type": "execute_result"
    }
   ],
   "source": [
    "ausentes = df_data.Calories.isna().values\n",
    "df_data[ausentes]"
   ]
  },
  {
   "cell_type": "code",
   "execution_count": 103,
   "id": "e1f87cfa-07c4-4f8f-b4c6-82fd381a6e55",
   "metadata": {
    "tags": []
   },
   "outputs": [
    {
     "data": {
      "text/plain": [
       "Datas          169\n",
       "Week           169\n",
       "Name           169\n",
       "Duration       169\n",
       "Pulse          169\n",
       "Maxpulse       169\n",
       "Calories       164\n",
       "DMediaGeral    164\n",
       "CalsPerMin     164\n",
       "dtype: int64"
      ]
     },
     "execution_count": 103,
     "metadata": {},
     "output_type": "execute_result"
    }
   ],
   "source": [
    "#notnull\n",
    "#notna\n",
    "df_data.notnull().sum()"
   ]
  },
  {
   "cell_type": "code",
   "execution_count": 104,
   "id": "283ba5b7-3631-491a-9031-0016073acce1",
   "metadata": {
    "tags": []
   },
   "outputs": [
    {
     "data": {
      "text/html": [
       "<div>\n",
       "<style scoped>\n",
       "    .dataframe tbody tr th:only-of-type {\n",
       "        vertical-align: middle;\n",
       "    }\n",
       "\n",
       "    .dataframe tbody tr th {\n",
       "        vertical-align: top;\n",
       "    }\n",
       "\n",
       "    .dataframe thead th {\n",
       "        text-align: right;\n",
       "    }\n",
       "</style>\n",
       "<table border=\"1\" class=\"dataframe\">\n",
       "  <thead>\n",
       "    <tr style=\"text-align: right;\">\n",
       "      <th></th>\n",
       "      <th>Datas</th>\n",
       "      <th>Week</th>\n",
       "      <th>Name</th>\n",
       "      <th>Duration</th>\n",
       "      <th>Pulse</th>\n",
       "      <th>Maxpulse</th>\n",
       "      <th>Calories</th>\n",
       "      <th>DMediaGeral</th>\n",
       "      <th>CalsPerMin</th>\n",
       "    </tr>\n",
       "  </thead>\n",
       "  <tbody>\n",
       "    <tr>\n",
       "      <th>0</th>\n",
       "      <td>01/11/2023</td>\n",
       "      <td>1</td>\n",
       "      <td>Robert</td>\n",
       "      <td>60</td>\n",
       "      <td>110</td>\n",
       "      <td>130</td>\n",
       "      <td>409.1</td>\n",
       "      <td>33.3</td>\n",
       "      <td>6.8</td>\n",
       "    </tr>\n",
       "    <tr>\n",
       "      <th>1</th>\n",
       "      <td>02/11/2023</td>\n",
       "      <td>1</td>\n",
       "      <td>Mark</td>\n",
       "      <td>60</td>\n",
       "      <td>117</td>\n",
       "      <td>145</td>\n",
       "      <td>479.0</td>\n",
       "      <td>103.2</td>\n",
       "      <td>8.0</td>\n",
       "    </tr>\n",
       "  </tbody>\n",
       "</table>\n",
       "</div>"
      ],
      "text/plain": [
       "        Datas  Week    Name  Duration  Pulse  Maxpulse  Calories  DMediaGeral  \\\n",
       "0  01/11/2023     1  Robert        60    110       130     409.1         33.3   \n",
       "1  02/11/2023     1    Mark        60    117       145     479.0        103.2   \n",
       "\n",
       "   CalsPerMin  \n",
       "0         6.8  \n",
       "1         8.0  "
      ]
     },
     "execution_count": 104,
     "metadata": {},
     "output_type": "execute_result"
    }
   ],
   "source": [
    "nao_ausentes = df_data.Calories.notna().values\n",
    "df_data[nao_ausentes].head(2)"
   ]
  },
  {
   "cell_type": "code",
   "execution_count": 105,
   "id": "2f411082-feed-4129-8fa7-f49afca47f9d",
   "metadata": {
    "tags": []
   },
   "outputs": [],
   "source": [
    "# df_data.dropna(inplace=True)"
   ]
  },
  {
   "cell_type": "code",
   "execution_count": 106,
   "id": "2715d1f9-3026-459d-8756-85650419d903",
   "metadata": {
    "tags": []
   },
   "outputs": [
    {
     "data": {
      "text/html": [
       "<div>\n",
       "<style scoped>\n",
       "    .dataframe tbody tr th:only-of-type {\n",
       "        vertical-align: middle;\n",
       "    }\n",
       "\n",
       "    .dataframe tbody tr th {\n",
       "        vertical-align: top;\n",
       "    }\n",
       "\n",
       "    .dataframe thead th {\n",
       "        text-align: right;\n",
       "    }\n",
       "</style>\n",
       "<table border=\"1\" class=\"dataframe\">\n",
       "  <thead>\n",
       "    <tr style=\"text-align: right;\">\n",
       "      <th></th>\n",
       "      <th>Datas</th>\n",
       "      <th>Week</th>\n",
       "      <th>Name</th>\n",
       "      <th>Duration</th>\n",
       "      <th>Pulse</th>\n",
       "      <th>Maxpulse</th>\n",
       "      <th>Calories</th>\n",
       "      <th>DMediaGeral</th>\n",
       "      <th>CalsPerMin</th>\n",
       "    </tr>\n",
       "  </thead>\n",
       "  <tbody>\n",
       "    <tr>\n",
       "      <th>0</th>\n",
       "      <td>01/11/2023</td>\n",
       "      <td>1</td>\n",
       "      <td>Robert</td>\n",
       "      <td>60</td>\n",
       "      <td>110</td>\n",
       "      <td>130</td>\n",
       "      <td>409.1</td>\n",
       "      <td>33.3</td>\n",
       "      <td>6.8</td>\n",
       "    </tr>\n",
       "    <tr>\n",
       "      <th>1</th>\n",
       "      <td>02/11/2023</td>\n",
       "      <td>1</td>\n",
       "      <td>Mark</td>\n",
       "      <td>60</td>\n",
       "      <td>117</td>\n",
       "      <td>145</td>\n",
       "      <td>479.0</td>\n",
       "      <td>103.2</td>\n",
       "      <td>8.0</td>\n",
       "    </tr>\n",
       "    <tr>\n",
       "      <th>2</th>\n",
       "      <td>03/11/2023</td>\n",
       "      <td>1</td>\n",
       "      <td>Susan</td>\n",
       "      <td>60</td>\n",
       "      <td>103</td>\n",
       "      <td>135</td>\n",
       "      <td>340.0</td>\n",
       "      <td>-35.8</td>\n",
       "      <td>5.7</td>\n",
       "    </tr>\n",
       "    <tr>\n",
       "      <th>3</th>\n",
       "      <td>03/11/2023</td>\n",
       "      <td>1</td>\n",
       "      <td>Peter</td>\n",
       "      <td>45</td>\n",
       "      <td>109</td>\n",
       "      <td>175</td>\n",
       "      <td>282.4</td>\n",
       "      <td>-93.4</td>\n",
       "      <td>6.3</td>\n",
       "    </tr>\n",
       "    <tr>\n",
       "      <th>4</th>\n",
       "      <td>01/11/2023</td>\n",
       "      <td>1</td>\n",
       "      <td>Dante</td>\n",
       "      <td>45</td>\n",
       "      <td>117</td>\n",
       "      <td>148</td>\n",
       "      <td>406.0</td>\n",
       "      <td>30.2</td>\n",
       "      <td>9.0</td>\n",
       "    </tr>\n",
       "    <tr>\n",
       "      <th>...</th>\n",
       "      <td>...</td>\n",
       "      <td>...</td>\n",
       "      <td>...</td>\n",
       "      <td>...</td>\n",
       "      <td>...</td>\n",
       "      <td>...</td>\n",
       "      <td>...</td>\n",
       "      <td>...</td>\n",
       "      <td>...</td>\n",
       "    </tr>\n",
       "    <tr>\n",
       "      <th>164</th>\n",
       "      <td>29/12/2023</td>\n",
       "      <td>8</td>\n",
       "      <td>Louise</td>\n",
       "      <td>60</td>\n",
       "      <td>105</td>\n",
       "      <td>140</td>\n",
       "      <td>290.8</td>\n",
       "      <td>-85.0</td>\n",
       "      <td>4.8</td>\n",
       "    </tr>\n",
       "    <tr>\n",
       "      <th>165</th>\n",
       "      <td>29/12/2023</td>\n",
       "      <td>8</td>\n",
       "      <td>Peter</td>\n",
       "      <td>60</td>\n",
       "      <td>110</td>\n",
       "      <td>145</td>\n",
       "      <td>300.0</td>\n",
       "      <td>-75.8</td>\n",
       "      <td>5.0</td>\n",
       "    </tr>\n",
       "    <tr>\n",
       "      <th>166</th>\n",
       "      <td>31/12/2023</td>\n",
       "      <td>8</td>\n",
       "      <td>Charles</td>\n",
       "      <td>60</td>\n",
       "      <td>115</td>\n",
       "      <td>145</td>\n",
       "      <td>310.2</td>\n",
       "      <td>-65.6</td>\n",
       "      <td>5.2</td>\n",
       "    </tr>\n",
       "    <tr>\n",
       "      <th>167</th>\n",
       "      <td>29/12/2023</td>\n",
       "      <td>8</td>\n",
       "      <td>Louise</td>\n",
       "      <td>75</td>\n",
       "      <td>120</td>\n",
       "      <td>150</td>\n",
       "      <td>320.4</td>\n",
       "      <td>-55.4</td>\n",
       "      <td>4.3</td>\n",
       "    </tr>\n",
       "    <tr>\n",
       "      <th>168</th>\n",
       "      <td>30/12/2023</td>\n",
       "      <td>8</td>\n",
       "      <td>Jobs</td>\n",
       "      <td>75</td>\n",
       "      <td>125</td>\n",
       "      <td>150</td>\n",
       "      <td>330.4</td>\n",
       "      <td>-45.4</td>\n",
       "      <td>4.4</td>\n",
       "    </tr>\n",
       "  </tbody>\n",
       "</table>\n",
       "<p>169 rows × 9 columns</p>\n",
       "</div>"
      ],
      "text/plain": [
       "          Datas  Week     Name  Duration  Pulse  Maxpulse  Calories  \\\n",
       "0    01/11/2023     1   Robert        60    110       130     409.1   \n",
       "1    02/11/2023     1     Mark        60    117       145     479.0   \n",
       "2    03/11/2023     1    Susan        60    103       135     340.0   \n",
       "3    03/11/2023     1    Peter        45    109       175     282.4   \n",
       "4    01/11/2023     1    Dante        45    117       148     406.0   \n",
       "..          ...   ...      ...       ...    ...       ...       ...   \n",
       "164  29/12/2023     8   Louise        60    105       140     290.8   \n",
       "165  29/12/2023     8    Peter        60    110       145     300.0   \n",
       "166  31/12/2023     8  Charles        60    115       145     310.2   \n",
       "167  29/12/2023     8   Louise        75    120       150     320.4   \n",
       "168  30/12/2023     8     Jobs        75    125       150     330.4   \n",
       "\n",
       "     DMediaGeral  CalsPerMin  \n",
       "0           33.3         6.8  \n",
       "1          103.2         8.0  \n",
       "2          -35.8         5.7  \n",
       "3          -93.4         6.3  \n",
       "4           30.2         9.0  \n",
       "..           ...         ...  \n",
       "164        -85.0         4.8  \n",
       "165        -75.8         5.0  \n",
       "166        -65.6         5.2  \n",
       "167        -55.4         4.3  \n",
       "168        -45.4         4.4  \n",
       "\n",
       "[169 rows x 9 columns]"
      ]
     },
     "execution_count": 106,
     "metadata": {},
     "output_type": "execute_result"
    }
   ],
   "source": [
    "df_data"
   ]
  },
  {
   "cell_type": "code",
   "execution_count": 107,
   "id": "6a34616c-3927-48d4-8b0a-16b6c30741ed",
   "metadata": {
    "tags": []
   },
   "outputs": [
    {
     "data": {
      "text/plain": [
       "(169, 9)"
      ]
     },
     "execution_count": 107,
     "metadata": {},
     "output_type": "execute_result"
    }
   ],
   "source": [
    "df_data.shape"
   ]
  },
  {
   "cell_type": "code",
   "execution_count": 108,
   "id": "64e3a04e-84c8-4c8e-a5a2-12b13bf5a045",
   "metadata": {
    "tags": []
   },
   "outputs": [],
   "source": [
    "df = df_data.dropna(axis=1)"
   ]
  },
  {
   "cell_type": "code",
   "execution_count": 109,
   "id": "db3a40fd-eb43-40d8-8d90-9c206b43d3f0",
   "metadata": {
    "tags": []
   },
   "outputs": [
    {
     "data": {
      "text/plain": [
       "(169, 6)"
      ]
     },
     "execution_count": 109,
     "metadata": {},
     "output_type": "execute_result"
    }
   ],
   "source": [
    "df.shape"
   ]
  },
  {
   "cell_type": "code",
   "execution_count": 110,
   "id": "11a573cf-56ae-4aa4-a8aa-0bddfc55b52c",
   "metadata": {
    "tags": []
   },
   "outputs": [],
   "source": [
    "df2 = df_data.dropna()"
   ]
  },
  {
   "cell_type": "code",
   "execution_count": 111,
   "id": "7a79710a-0f14-4500-ad7e-81870e7661d3",
   "metadata": {
    "tags": []
   },
   "outputs": [
    {
     "data": {
      "text/plain": [
       "(164, 9)"
      ]
     },
     "execution_count": 111,
     "metadata": {},
     "output_type": "execute_result"
    }
   ],
   "source": [
    "df2.shape"
   ]
  },
  {
   "cell_type": "code",
   "execution_count": 134,
   "id": "49887c91-3c90-4b7f-ad53-ad8f414a89e4",
   "metadata": {
    "tags": []
   },
   "outputs": [],
   "source": [
    "df_linhas_nulas = df_data[df_data.Calories.isna().values]"
   ]
  },
  {
   "cell_type": "code",
   "execution_count": 135,
   "id": "861f1e0b-2d10-4bbe-9ecf-43a1a45543b2",
   "metadata": {
    "tags": []
   },
   "outputs": [
    {
     "data": {
      "text/html": [
       "<div>\n",
       "<style scoped>\n",
       "    .dataframe tbody tr th:only-of-type {\n",
       "        vertical-align: middle;\n",
       "    }\n",
       "\n",
       "    .dataframe tbody tr th {\n",
       "        vertical-align: top;\n",
       "    }\n",
       "\n",
       "    .dataframe thead th {\n",
       "        text-align: right;\n",
       "    }\n",
       "</style>\n",
       "<table border=\"1\" class=\"dataframe\">\n",
       "  <thead>\n",
       "    <tr style=\"text-align: right;\">\n",
       "      <th></th>\n",
       "      <th>Name</th>\n",
       "      <th>Week</th>\n",
       "      <th>Duration</th>\n",
       "      <th>Pulse</th>\n",
       "      <th>Maxpulse</th>\n",
       "      <th>Calories</th>\n",
       "      <th>DMediaGeral</th>\n",
       "      <th>CalsPerMin</th>\n",
       "      <th>Datas</th>\n",
       "    </tr>\n",
       "  </thead>\n",
       "  <tbody>\n",
       "    <tr>\n",
       "      <th>17</th>\n",
       "      <td>Megan</td>\n",
       "      <td>2</td>\n",
       "      <td>45</td>\n",
       "      <td>90</td>\n",
       "      <td>112</td>\n",
       "      <td>NaN</td>\n",
       "      <td>NaN</td>\n",
       "      <td>NaN</td>\n",
       "      <td>10/11/2023</td>\n",
       "    </tr>\n",
       "    <tr>\n",
       "      <th>27</th>\n",
       "      <td>Nicholas</td>\n",
       "      <td>2</td>\n",
       "      <td>60</td>\n",
       "      <td>103</td>\n",
       "      <td>132</td>\n",
       "      <td>NaN</td>\n",
       "      <td>NaN</td>\n",
       "      <td>NaN</td>\n",
       "      <td>12/11/2023</td>\n",
       "    </tr>\n",
       "    <tr>\n",
       "      <th>91</th>\n",
       "      <td>Nicholas</td>\n",
       "      <td>5</td>\n",
       "      <td>45</td>\n",
       "      <td>107</td>\n",
       "      <td>137</td>\n",
       "      <td>NaN</td>\n",
       "      <td>NaN</td>\n",
       "      <td>NaN</td>\n",
       "      <td>12/12/2023</td>\n",
       "    </tr>\n",
       "    <tr>\n",
       "      <th>118</th>\n",
       "      <td>James</td>\n",
       "      <td>6</td>\n",
       "      <td>60</td>\n",
       "      <td>105</td>\n",
       "      <td>125</td>\n",
       "      <td>NaN</td>\n",
       "      <td>NaN</td>\n",
       "      <td>NaN</td>\n",
       "      <td>13/12/2023</td>\n",
       "    </tr>\n",
       "    <tr>\n",
       "      <th>141</th>\n",
       "      <td>Robert</td>\n",
       "      <td>7</td>\n",
       "      <td>60</td>\n",
       "      <td>97</td>\n",
       "      <td>127</td>\n",
       "      <td>NaN</td>\n",
       "      <td>NaN</td>\n",
       "      <td>NaN</td>\n",
       "      <td>25/12/2023</td>\n",
       "    </tr>\n",
       "  </tbody>\n",
       "</table>\n",
       "</div>"
      ],
      "text/plain": [
       "         Name  Week  Duration  Pulse  Maxpulse  Calories  DMediaGeral  \\\n",
       "17      Megan     2        45     90       112       NaN          NaN   \n",
       "27   Nicholas     2        60    103       132       NaN          NaN   \n",
       "91   Nicholas     5        45    107       137       NaN          NaN   \n",
       "118     James     6        60    105       125       NaN          NaN   \n",
       "141    Robert     7        60     97       127       NaN          NaN   \n",
       "\n",
       "     CalsPerMin       Datas  \n",
       "17          NaN  10/11/2023  \n",
       "27          NaN  12/11/2023  \n",
       "91          NaN  12/12/2023  \n",
       "118         NaN  13/12/2023  \n",
       "141         NaN  25/12/2023  "
      ]
     },
     "execution_count": 135,
     "metadata": {},
     "output_type": "execute_result"
    }
   ],
   "source": [
    "df_linhas_nulas"
   ]
  },
  {
   "cell_type": "code",
   "execution_count": 136,
   "id": "b5ebe3f5-a78a-49d7-a80c-3438b9c860c3",
   "metadata": {
    "tags": []
   },
   "outputs": [
    {
     "name": "stderr",
     "output_type": "stream",
     "text": [
      "C:\\Users\\Administrator\\AppData\\Local\\Temp\\ipykernel_8776\\1134753123.py:1: SettingWithCopyWarning: \n",
      "A value is trying to be set on a copy of a slice from a DataFrame.\n",
      "Try using .loc[row_indexer,col_indexer] = value instead\n",
      "\n",
      "See the caveats in the documentation: https://pandas.pydata.org/pandas-docs/stable/user_guide/indexing.html#returning-a-view-versus-a-copy\n",
      "  df_linhas_nulas.Calories = df_linhas_nulas.Calories.fillna(0)\n"
     ]
    }
   ],
   "source": [
    "df_linhas_nulas.Calories = df_linhas_nulas.Calories.fillna(0)"
   ]
  },
  {
   "cell_type": "code",
   "execution_count": 137,
   "id": "e1f8b73a-0b40-45bf-ab43-36cc6a54661f",
   "metadata": {
    "tags": []
   },
   "outputs": [
    {
     "data": {
      "text/html": [
       "<div>\n",
       "<style scoped>\n",
       "    .dataframe tbody tr th:only-of-type {\n",
       "        vertical-align: middle;\n",
       "    }\n",
       "\n",
       "    .dataframe tbody tr th {\n",
       "        vertical-align: top;\n",
       "    }\n",
       "\n",
       "    .dataframe thead th {\n",
       "        text-align: right;\n",
       "    }\n",
       "</style>\n",
       "<table border=\"1\" class=\"dataframe\">\n",
       "  <thead>\n",
       "    <tr style=\"text-align: right;\">\n",
       "      <th></th>\n",
       "      <th>Name</th>\n",
       "      <th>Week</th>\n",
       "      <th>Duration</th>\n",
       "      <th>Pulse</th>\n",
       "      <th>Maxpulse</th>\n",
       "      <th>Calories</th>\n",
       "      <th>DMediaGeral</th>\n",
       "      <th>CalsPerMin</th>\n",
       "      <th>Datas</th>\n",
       "    </tr>\n",
       "  </thead>\n",
       "  <tbody>\n",
       "    <tr>\n",
       "      <th>17</th>\n",
       "      <td>Megan</td>\n",
       "      <td>2</td>\n",
       "      <td>45</td>\n",
       "      <td>90</td>\n",
       "      <td>112</td>\n",
       "      <td>0.0</td>\n",
       "      <td>NaN</td>\n",
       "      <td>NaN</td>\n",
       "      <td>10/11/2023</td>\n",
       "    </tr>\n",
       "    <tr>\n",
       "      <th>27</th>\n",
       "      <td>Nicholas</td>\n",
       "      <td>2</td>\n",
       "      <td>60</td>\n",
       "      <td>103</td>\n",
       "      <td>132</td>\n",
       "      <td>0.0</td>\n",
       "      <td>NaN</td>\n",
       "      <td>NaN</td>\n",
       "      <td>12/11/2023</td>\n",
       "    </tr>\n",
       "    <tr>\n",
       "      <th>91</th>\n",
       "      <td>Nicholas</td>\n",
       "      <td>5</td>\n",
       "      <td>45</td>\n",
       "      <td>107</td>\n",
       "      <td>137</td>\n",
       "      <td>0.0</td>\n",
       "      <td>NaN</td>\n",
       "      <td>NaN</td>\n",
       "      <td>12/12/2023</td>\n",
       "    </tr>\n",
       "    <tr>\n",
       "      <th>118</th>\n",
       "      <td>James</td>\n",
       "      <td>6</td>\n",
       "      <td>60</td>\n",
       "      <td>105</td>\n",
       "      <td>125</td>\n",
       "      <td>0.0</td>\n",
       "      <td>NaN</td>\n",
       "      <td>NaN</td>\n",
       "      <td>13/12/2023</td>\n",
       "    </tr>\n",
       "    <tr>\n",
       "      <th>141</th>\n",
       "      <td>Robert</td>\n",
       "      <td>7</td>\n",
       "      <td>60</td>\n",
       "      <td>97</td>\n",
       "      <td>127</td>\n",
       "      <td>0.0</td>\n",
       "      <td>NaN</td>\n",
       "      <td>NaN</td>\n",
       "      <td>25/12/2023</td>\n",
       "    </tr>\n",
       "  </tbody>\n",
       "</table>\n",
       "</div>"
      ],
      "text/plain": [
       "         Name  Week  Duration  Pulse  Maxpulse  Calories  DMediaGeral  \\\n",
       "17      Megan     2        45     90       112       0.0          NaN   \n",
       "27   Nicholas     2        60    103       132       0.0          NaN   \n",
       "91   Nicholas     5        45    107       137       0.0          NaN   \n",
       "118     James     6        60    105       125       0.0          NaN   \n",
       "141    Robert     7        60     97       127       0.0          NaN   \n",
       "\n",
       "     CalsPerMin       Datas  \n",
       "17          NaN  10/11/2023  \n",
       "27          NaN  12/11/2023  \n",
       "91          NaN  12/12/2023  \n",
       "118         NaN  13/12/2023  \n",
       "141         NaN  25/12/2023  "
      ]
     },
     "execution_count": 137,
     "metadata": {},
     "output_type": "execute_result"
    }
   ],
   "source": [
    "df_linhas_nulas"
   ]
  },
  {
   "cell_type": "code",
   "execution_count": 138,
   "id": "2efb2e96-d96d-4934-bd4e-36f1cded356e",
   "metadata": {
    "tags": []
   },
   "outputs": [
    {
     "name": "stderr",
     "output_type": "stream",
     "text": [
      "C:\\Users\\Administrator\\AppData\\Local\\Temp\\ipykernel_8776\\2811971901.py:1: SettingWithCopyWarning: \n",
      "A value is trying to be set on a copy of a slice from a DataFrame.\n",
      "Try using .loc[row_indexer,col_indexer] = value instead\n",
      "\n",
      "See the caveats in the documentation: https://pandas.pydata.org/pandas-docs/stable/user_guide/indexing.html#returning-a-view-versus-a-copy\n",
      "  df_linhas_nulas.DMediaGeral = df_linhas_nulas.DMediaGeral.fillna(\n"
     ]
    }
   ],
   "source": [
    "df_linhas_nulas.DMediaGeral = df_linhas_nulas.DMediaGeral.fillna(\n",
    "    df_data.DMediaGeral.median()\n",
    ")"
   ]
  },
  {
   "cell_type": "code",
   "execution_count": 139,
   "id": "c852cfd7-5058-4aa0-bff6-57fbc9d5c45d",
   "metadata": {
    "tags": []
   },
   "outputs": [
    {
     "data": {
      "text/html": [
       "<div>\n",
       "<style scoped>\n",
       "    .dataframe tbody tr th:only-of-type {\n",
       "        vertical-align: middle;\n",
       "    }\n",
       "\n",
       "    .dataframe tbody tr th {\n",
       "        vertical-align: top;\n",
       "    }\n",
       "\n",
       "    .dataframe thead th {\n",
       "        text-align: right;\n",
       "    }\n",
       "</style>\n",
       "<table border=\"1\" class=\"dataframe\">\n",
       "  <thead>\n",
       "    <tr style=\"text-align: right;\">\n",
       "      <th></th>\n",
       "      <th>Name</th>\n",
       "      <th>Week</th>\n",
       "      <th>Duration</th>\n",
       "      <th>Pulse</th>\n",
       "      <th>Maxpulse</th>\n",
       "      <th>Calories</th>\n",
       "      <th>DMediaGeral</th>\n",
       "      <th>CalsPerMin</th>\n",
       "      <th>Datas</th>\n",
       "    </tr>\n",
       "  </thead>\n",
       "  <tbody>\n",
       "    <tr>\n",
       "      <th>17</th>\n",
       "      <td>Megan</td>\n",
       "      <td>2</td>\n",
       "      <td>45</td>\n",
       "      <td>90</td>\n",
       "      <td>112</td>\n",
       "      <td>0.0</td>\n",
       "      <td>-57.2</td>\n",
       "      <td>NaN</td>\n",
       "      <td>10/11/2023</td>\n",
       "    </tr>\n",
       "    <tr>\n",
       "      <th>27</th>\n",
       "      <td>Nicholas</td>\n",
       "      <td>2</td>\n",
       "      <td>60</td>\n",
       "      <td>103</td>\n",
       "      <td>132</td>\n",
       "      <td>0.0</td>\n",
       "      <td>-57.2</td>\n",
       "      <td>NaN</td>\n",
       "      <td>12/11/2023</td>\n",
       "    </tr>\n",
       "    <tr>\n",
       "      <th>91</th>\n",
       "      <td>Nicholas</td>\n",
       "      <td>5</td>\n",
       "      <td>45</td>\n",
       "      <td>107</td>\n",
       "      <td>137</td>\n",
       "      <td>0.0</td>\n",
       "      <td>-57.2</td>\n",
       "      <td>NaN</td>\n",
       "      <td>12/12/2023</td>\n",
       "    </tr>\n",
       "    <tr>\n",
       "      <th>118</th>\n",
       "      <td>James</td>\n",
       "      <td>6</td>\n",
       "      <td>60</td>\n",
       "      <td>105</td>\n",
       "      <td>125</td>\n",
       "      <td>0.0</td>\n",
       "      <td>-57.2</td>\n",
       "      <td>NaN</td>\n",
       "      <td>13/12/2023</td>\n",
       "    </tr>\n",
       "    <tr>\n",
       "      <th>141</th>\n",
       "      <td>Robert</td>\n",
       "      <td>7</td>\n",
       "      <td>60</td>\n",
       "      <td>97</td>\n",
       "      <td>127</td>\n",
       "      <td>0.0</td>\n",
       "      <td>-57.2</td>\n",
       "      <td>NaN</td>\n",
       "      <td>25/12/2023</td>\n",
       "    </tr>\n",
       "  </tbody>\n",
       "</table>\n",
       "</div>"
      ],
      "text/plain": [
       "         Name  Week  Duration  Pulse  Maxpulse  Calories  DMediaGeral  \\\n",
       "17      Megan     2        45     90       112       0.0        -57.2   \n",
       "27   Nicholas     2        60    103       132       0.0        -57.2   \n",
       "91   Nicholas     5        45    107       137       0.0        -57.2   \n",
       "118     James     6        60    105       125       0.0        -57.2   \n",
       "141    Robert     7        60     97       127       0.0        -57.2   \n",
       "\n",
       "     CalsPerMin       Datas  \n",
       "17          NaN  10/11/2023  \n",
       "27          NaN  12/11/2023  \n",
       "91          NaN  12/12/2023  \n",
       "118         NaN  13/12/2023  \n",
       "141         NaN  25/12/2023  "
      ]
     },
     "execution_count": 139,
     "metadata": {},
     "output_type": "execute_result"
    }
   ],
   "source": [
    "df_linhas_nulas"
   ]
  },
  {
   "cell_type": "code",
   "execution_count": 140,
   "id": "957a9d5f-2ca2-4ed0-8b1d-a2aae928269b",
   "metadata": {
    "tags": []
   },
   "outputs": [
    {
     "name": "stderr",
     "output_type": "stream",
     "text": [
      "C:\\Users\\Administrator\\AppData\\Local\\Temp\\ipykernel_8776\\3020260983.py:1: SettingWithCopyWarning: \n",
      "A value is trying to be set on a copy of a slice from a DataFrame.\n",
      "Try using .loc[row_indexer,col_indexer] = value instead\n",
      "\n",
      "See the caveats in the documentation: https://pandas.pydata.org/pandas-docs/stable/user_guide/indexing.html#returning-a-view-versus-a-copy\n",
      "  df_linhas_nulas.CalsPerMin = df_linhas_nulas.CalsPerMin.fillna(\n"
     ]
    }
   ],
   "source": [
    "df_linhas_nulas.CalsPerMin = df_linhas_nulas.CalsPerMin.fillna(\n",
    "    df_linhas_nulas.Duration.max()\n",
    ")"
   ]
  },
  {
   "cell_type": "code",
   "execution_count": 141,
   "id": "28e7cc1f-3f30-4d7a-bcb1-fd430a400b32",
   "metadata": {
    "tags": []
   },
   "outputs": [
    {
     "data": {
      "text/html": [
       "<div>\n",
       "<style scoped>\n",
       "    .dataframe tbody tr th:only-of-type {\n",
       "        vertical-align: middle;\n",
       "    }\n",
       "\n",
       "    .dataframe tbody tr th {\n",
       "        vertical-align: top;\n",
       "    }\n",
       "\n",
       "    .dataframe thead th {\n",
       "        text-align: right;\n",
       "    }\n",
       "</style>\n",
       "<table border=\"1\" class=\"dataframe\">\n",
       "  <thead>\n",
       "    <tr style=\"text-align: right;\">\n",
       "      <th></th>\n",
       "      <th>Name</th>\n",
       "      <th>Week</th>\n",
       "      <th>Duration</th>\n",
       "      <th>Pulse</th>\n",
       "      <th>Maxpulse</th>\n",
       "      <th>Calories</th>\n",
       "      <th>DMediaGeral</th>\n",
       "      <th>CalsPerMin</th>\n",
       "      <th>Datas</th>\n",
       "    </tr>\n",
       "  </thead>\n",
       "  <tbody>\n",
       "    <tr>\n",
       "      <th>17</th>\n",
       "      <td>Megan</td>\n",
       "      <td>2</td>\n",
       "      <td>45</td>\n",
       "      <td>90</td>\n",
       "      <td>112</td>\n",
       "      <td>0.0</td>\n",
       "      <td>-57.2</td>\n",
       "      <td>60.0</td>\n",
       "      <td>10/11/2023</td>\n",
       "    </tr>\n",
       "    <tr>\n",
       "      <th>27</th>\n",
       "      <td>Nicholas</td>\n",
       "      <td>2</td>\n",
       "      <td>60</td>\n",
       "      <td>103</td>\n",
       "      <td>132</td>\n",
       "      <td>0.0</td>\n",
       "      <td>-57.2</td>\n",
       "      <td>60.0</td>\n",
       "      <td>12/11/2023</td>\n",
       "    </tr>\n",
       "    <tr>\n",
       "      <th>91</th>\n",
       "      <td>Nicholas</td>\n",
       "      <td>5</td>\n",
       "      <td>45</td>\n",
       "      <td>107</td>\n",
       "      <td>137</td>\n",
       "      <td>0.0</td>\n",
       "      <td>-57.2</td>\n",
       "      <td>60.0</td>\n",
       "      <td>12/12/2023</td>\n",
       "    </tr>\n",
       "    <tr>\n",
       "      <th>118</th>\n",
       "      <td>James</td>\n",
       "      <td>6</td>\n",
       "      <td>60</td>\n",
       "      <td>105</td>\n",
       "      <td>125</td>\n",
       "      <td>0.0</td>\n",
       "      <td>-57.2</td>\n",
       "      <td>60.0</td>\n",
       "      <td>13/12/2023</td>\n",
       "    </tr>\n",
       "    <tr>\n",
       "      <th>141</th>\n",
       "      <td>Robert</td>\n",
       "      <td>7</td>\n",
       "      <td>60</td>\n",
       "      <td>97</td>\n",
       "      <td>127</td>\n",
       "      <td>0.0</td>\n",
       "      <td>-57.2</td>\n",
       "      <td>60.0</td>\n",
       "      <td>25/12/2023</td>\n",
       "    </tr>\n",
       "  </tbody>\n",
       "</table>\n",
       "</div>"
      ],
      "text/plain": [
       "         Name  Week  Duration  Pulse  Maxpulse  Calories  DMediaGeral  \\\n",
       "17      Megan     2        45     90       112       0.0        -57.2   \n",
       "27   Nicholas     2        60    103       132       0.0        -57.2   \n",
       "91   Nicholas     5        45    107       137       0.0        -57.2   \n",
       "118     James     6        60    105       125       0.0        -57.2   \n",
       "141    Robert     7        60     97       127       0.0        -57.2   \n",
       "\n",
       "     CalsPerMin       Datas  \n",
       "17         60.0  10/11/2023  \n",
       "27         60.0  12/11/2023  \n",
       "91         60.0  12/12/2023  \n",
       "118        60.0  13/12/2023  \n",
       "141        60.0  25/12/2023  "
      ]
     },
     "execution_count": 141,
     "metadata": {},
     "output_type": "execute_result"
    }
   ],
   "source": [
    "df_linhas_nulas"
   ]
  },
  {
   "cell_type": "code",
   "execution_count": 144,
   "id": "204bcf51-eb95-474c-8d15-3bfe306e61ec",
   "metadata": {
    "tags": []
   },
   "outputs": [],
   "source": [
    "df_data.fillna(1, inplace=True)"
   ]
  },
  {
   "cell_type": "code",
   "execution_count": 146,
   "id": "8b522373-fd10-4a54-814d-2c62b226adc2",
   "metadata": {
    "tags": []
   },
   "outputs": [
    {
     "data": {
      "text/html": [
       "<div>\n",
       "<style scoped>\n",
       "    .dataframe tbody tr th:only-of-type {\n",
       "        vertical-align: middle;\n",
       "    }\n",
       "\n",
       "    .dataframe tbody tr th {\n",
       "        vertical-align: top;\n",
       "    }\n",
       "\n",
       "    .dataframe thead th {\n",
       "        text-align: right;\n",
       "    }\n",
       "</style>\n",
       "<table border=\"1\" class=\"dataframe\">\n",
       "  <thead>\n",
       "    <tr style=\"text-align: right;\">\n",
       "      <th></th>\n",
       "      <th>Week</th>\n",
       "      <th>Duration</th>\n",
       "      <th>Pulse</th>\n",
       "      <th>Maxpulse</th>\n",
       "      <th>Calories</th>\n",
       "      <th>DMediaGeral</th>\n",
       "      <th>CalsPerMin</th>\n",
       "    </tr>\n",
       "  </thead>\n",
       "  <tbody>\n",
       "    <tr>\n",
       "      <th>count</th>\n",
       "      <td>169.000000</td>\n",
       "      <td>169.000000</td>\n",
       "      <td>169.000000</td>\n",
       "      <td>169.000000</td>\n",
       "      <td>169.000000</td>\n",
       "      <td>169.000000</td>\n",
       "      <td>169.000000</td>\n",
       "    </tr>\n",
       "    <tr>\n",
       "      <th>mean</th>\n",
       "      <td>4.834320</td>\n",
       "      <td>63.846154</td>\n",
       "      <td>107.461538</td>\n",
       "      <td>134.047337</td>\n",
       "      <td>364.701775</td>\n",
       "      <td>0.020118</td>\n",
       "      <td>5.831361</td>\n",
       "    </tr>\n",
       "    <tr>\n",
       "      <th>std</th>\n",
       "      <td>2.134413</td>\n",
       "      <td>42.299949</td>\n",
       "      <td>14.510259</td>\n",
       "      <td>16.450434</td>\n",
       "      <td>270.006129</td>\n",
       "      <td>262.386047</td>\n",
       "      <td>1.789825</td>\n",
       "    </tr>\n",
       "    <tr>\n",
       "      <th>min</th>\n",
       "      <td>1.000000</td>\n",
       "      <td>15.000000</td>\n",
       "      <td>80.000000</td>\n",
       "      <td>100.000000</td>\n",
       "      <td>1.000000</td>\n",
       "      <td>-325.500000</td>\n",
       "      <td>1.000000</td>\n",
       "    </tr>\n",
       "    <tr>\n",
       "      <th>25%</th>\n",
       "      <td>3.000000</td>\n",
       "      <td>45.000000</td>\n",
       "      <td>100.000000</td>\n",
       "      <td>124.000000</td>\n",
       "      <td>250.000000</td>\n",
       "      <td>-122.500000</td>\n",
       "      <td>5.000000</td>\n",
       "    </tr>\n",
       "    <tr>\n",
       "      <th>50%</th>\n",
       "      <td>5.000000</td>\n",
       "      <td>60.000000</td>\n",
       "      <td>105.000000</td>\n",
       "      <td>131.000000</td>\n",
       "      <td>310.200000</td>\n",
       "      <td>-54.800000</td>\n",
       "      <td>5.800000</td>\n",
       "    </tr>\n",
       "    <tr>\n",
       "      <th>75%</th>\n",
       "      <td>7.000000</td>\n",
       "      <td>60.000000</td>\n",
       "      <td>111.000000</td>\n",
       "      <td>141.000000</td>\n",
       "      <td>384.000000</td>\n",
       "      <td>8.200000</td>\n",
       "      <td>6.600000</td>\n",
       "    </tr>\n",
       "    <tr>\n",
       "      <th>max</th>\n",
       "      <td>8.000000</td>\n",
       "      <td>300.000000</td>\n",
       "      <td>159.000000</td>\n",
       "      <td>184.000000</td>\n",
       "      <td>1860.400000</td>\n",
       "      <td>1484.600000</td>\n",
       "      <td>11.500000</td>\n",
       "    </tr>\n",
       "  </tbody>\n",
       "</table>\n",
       "</div>"
      ],
      "text/plain": [
       "             Week    Duration       Pulse    Maxpulse     Calories  \\\n",
       "count  169.000000  169.000000  169.000000  169.000000   169.000000   \n",
       "mean     4.834320   63.846154  107.461538  134.047337   364.701775   \n",
       "std      2.134413   42.299949   14.510259   16.450434   270.006129   \n",
       "min      1.000000   15.000000   80.000000  100.000000     1.000000   \n",
       "25%      3.000000   45.000000  100.000000  124.000000   250.000000   \n",
       "50%      5.000000   60.000000  105.000000  131.000000   310.200000   \n",
       "75%      7.000000   60.000000  111.000000  141.000000   384.000000   \n",
       "max      8.000000  300.000000  159.000000  184.000000  1860.400000   \n",
       "\n",
       "       DMediaGeral  CalsPerMin  \n",
       "count   169.000000  169.000000  \n",
       "mean      0.020118    5.831361  \n",
       "std     262.386047    1.789825  \n",
       "min    -325.500000    1.000000  \n",
       "25%    -122.500000    5.000000  \n",
       "50%     -54.800000    5.800000  \n",
       "75%       8.200000    6.600000  \n",
       "max    1484.600000   11.500000  "
      ]
     },
     "execution_count": 146,
     "metadata": {},
     "output_type": "execute_result"
    }
   ],
   "source": [
    "df_data.describe()"
   ]
  },
  {
   "cell_type": "markdown",
   "id": "ca714ef0-6bb6-4875-bbba-07a963828842",
   "metadata": {
    "tags": []
   },
   "source": [
    "### 1. Transformar a variável Name em uma variável categorica."
   ]
  },
  {
   "cell_type": "code",
   "execution_count": null,
   "id": "0a38569f-c0a7-4252-8aae-e4bcb0bc9fe2",
   "metadata": {},
   "outputs": [],
   "source": []
  }
 ],
 "metadata": {
  "kernelspec": {
   "display_name": "Python 3 (ipykernel)",
   "language": "python",
   "name": "python3"
  },
  "language_info": {
   "codemirror_mode": {
    "name": "ipython",
    "version": 3
   },
   "file_extension": ".py",
   "mimetype": "text/x-python",
   "name": "python",
   "nbconvert_exporter": "python",
   "pygments_lexer": "ipython3",
   "version": "3.11.5"
  }
 },
 "nbformat": 4,
 "nbformat_minor": 5
}
