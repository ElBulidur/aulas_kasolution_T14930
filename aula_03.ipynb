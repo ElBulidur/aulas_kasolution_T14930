{
 "cells": [
  {
   "cell_type": "code",
   "execution_count": 3,
   "id": "74f6ce45-4574-4647-9eba-819cd633ad0d",
   "metadata": {
    "tags": []
   },
   "outputs": [],
   "source": [
    "import pandas as pd"
   ]
  },
  {
   "cell_type": "code",
   "execution_count": 88,
   "id": "9cd174f8-5773-4583-83d5-313c8a41a8b7",
   "metadata": {
    "tags": []
   },
   "outputs": [],
   "source": [
    "df_data = pd.read_csv(\"datasets/data.csv\")"
   ]
  },
  {
   "cell_type": "code",
   "execution_count": 89,
   "id": "fc2884f6-6f46-47e3-8287-6ebdb58227ca",
   "metadata": {
    "tags": []
   },
   "outputs": [
    {
     "data": {
      "text/html": [
       "<div>\n",
       "<style scoped>\n",
       "    .dataframe tbody tr th:only-of-type {\n",
       "        vertical-align: middle;\n",
       "    }\n",
       "\n",
       "    .dataframe tbody tr th {\n",
       "        vertical-align: top;\n",
       "    }\n",
       "\n",
       "    .dataframe thead th {\n",
       "        text-align: right;\n",
       "    }\n",
       "</style>\n",
       "<table border=\"1\" class=\"dataframe\">\n",
       "  <thead>\n",
       "    <tr style=\"text-align: right;\">\n",
       "      <th></th>\n",
       "      <th>Name</th>\n",
       "      <th>Duration</th>\n",
       "      <th>Pulse</th>\n",
       "      <th>Maxpulse</th>\n",
       "      <th>Calories</th>\n",
       "    </tr>\n",
       "  </thead>\n",
       "  <tbody>\n",
       "    <tr>\n",
       "      <th>0</th>\n",
       "      <td>Robert</td>\n",
       "      <td>60</td>\n",
       "      <td>110</td>\n",
       "      <td>130</td>\n",
       "      <td>409.1</td>\n",
       "    </tr>\n",
       "    <tr>\n",
       "      <th>1</th>\n",
       "      <td>Mark</td>\n",
       "      <td>60</td>\n",
       "      <td>117</td>\n",
       "      <td>145</td>\n",
       "      <td>479.0</td>\n",
       "    </tr>\n",
       "  </tbody>\n",
       "</table>\n",
       "</div>"
      ],
      "text/plain": [
       "     Name  Duration  Pulse  Maxpulse  Calories\n",
       "0  Robert        60    110       130     409.1\n",
       "1    Mark        60    117       145     479.0"
      ]
     },
     "execution_count": 89,
     "metadata": {},
     "output_type": "execute_result"
    }
   ],
   "source": [
    "df_data.head(2)"
   ]
  },
  {
   "cell_type": "code",
   "execution_count": 32,
   "id": "558fa711-607b-4123-81c5-6583b374bee7",
   "metadata": {
    "tags": []
   },
   "outputs": [],
   "source": [
    "df_data2 = pd.read_csv(\"datasets/data2.csv\")"
   ]
  },
  {
   "cell_type": "code",
   "execution_count": 33,
   "id": "935c68dd-b017-4fea-b2ac-38fc0de3cb54",
   "metadata": {
    "tags": []
   },
   "outputs": [
    {
     "data": {
      "text/html": [
       "<div>\n",
       "<style scoped>\n",
       "    .dataframe tbody tr th:only-of-type {\n",
       "        vertical-align: middle;\n",
       "    }\n",
       "\n",
       "    .dataframe tbody tr th {\n",
       "        vertical-align: top;\n",
       "    }\n",
       "\n",
       "    .dataframe thead th {\n",
       "        text-align: right;\n",
       "    }\n",
       "</style>\n",
       "<table border=\"1\" class=\"dataframe\">\n",
       "  <thead>\n",
       "    <tr style=\"text-align: right;\">\n",
       "      <th></th>\n",
       "      <th>Name</th>\n",
       "      <th>Week</th>\n",
       "      <th>Duration</th>\n",
       "      <th>Pulse</th>\n",
       "      <th>Maxpulse</th>\n",
       "      <th>Calories</th>\n",
       "    </tr>\n",
       "  </thead>\n",
       "  <tbody>\n",
       "    <tr>\n",
       "      <th>0</th>\n",
       "      <td>Robert</td>\n",
       "      <td>1</td>\n",
       "      <td>60</td>\n",
       "      <td>110</td>\n",
       "      <td>130</td>\n",
       "      <td>409.1</td>\n",
       "    </tr>\n",
       "    <tr>\n",
       "      <th>1</th>\n",
       "      <td>Mark</td>\n",
       "      <td>1</td>\n",
       "      <td>60</td>\n",
       "      <td>117</td>\n",
       "      <td>145</td>\n",
       "      <td>479.0</td>\n",
       "    </tr>\n",
       "  </tbody>\n",
       "</table>\n",
       "</div>"
      ],
      "text/plain": [
       "     Name  Week  Duration  Pulse  Maxpulse  Calories\n",
       "0  Robert     1        60    110       130     409.1\n",
       "1    Mark     1        60    117       145     479.0"
      ]
     },
     "execution_count": 33,
     "metadata": {},
     "output_type": "execute_result"
    }
   ],
   "source": [
    "df_data2.head(2)"
   ]
  },
  {
   "cell_type": "code",
   "execution_count": 38,
   "id": "12289dad-5c18-47e0-819b-2ce08202be55",
   "metadata": {
    "tags": []
   },
   "outputs": [
    {
     "data": {
      "text/html": [
       "<div>\n",
       "<style scoped>\n",
       "    .dataframe tbody tr th:only-of-type {\n",
       "        vertical-align: middle;\n",
       "    }\n",
       "\n",
       "    .dataframe tbody tr th {\n",
       "        vertical-align: top;\n",
       "    }\n",
       "\n",
       "    .dataframe thead th {\n",
       "        text-align: right;\n",
       "    }\n",
       "</style>\n",
       "<table border=\"1\" class=\"dataframe\">\n",
       "  <thead>\n",
       "    <tr style=\"text-align: right;\">\n",
       "      <th></th>\n",
       "      <th>Duration</th>\n",
       "      <th>Pulse</th>\n",
       "      <th>Maxpulse</th>\n",
       "      <th>Calories</th>\n",
       "    </tr>\n",
       "    <tr>\n",
       "      <th>Name</th>\n",
       "      <th></th>\n",
       "      <th></th>\n",
       "      <th></th>\n",
       "      <th></th>\n",
       "    </tr>\n",
       "  </thead>\n",
       "  <tbody>\n",
       "    <tr>\n",
       "      <th>Charles</th>\n",
       "      <td>710</td>\n",
       "      <td>988</td>\n",
       "      <td>1277</td>\n",
       "      <td>4016.5</td>\n",
       "    </tr>\n",
       "    <tr>\n",
       "      <th>Clark</th>\n",
       "      <td>995</td>\n",
       "      <td>1704</td>\n",
       "      <td>2113</td>\n",
       "      <td>5416.2</td>\n",
       "    </tr>\n",
       "    <tr>\n",
       "      <th>Dante</th>\n",
       "      <td>430</td>\n",
       "      <td>814</td>\n",
       "      <td>997</td>\n",
       "      <td>2704.4</td>\n",
       "    </tr>\n",
       "    <tr>\n",
       "      <th>James</th>\n",
       "      <td>435</td>\n",
       "      <td>747</td>\n",
       "      <td>948</td>\n",
       "      <td>2589.5</td>\n",
       "    </tr>\n",
       "    <tr>\n",
       "      <th>Jobs</th>\n",
       "      <td>1260</td>\n",
       "      <td>1885</td>\n",
       "      <td>2333</td>\n",
       "      <td>7637.0</td>\n",
       "    </tr>\n",
       "  </tbody>\n",
       "</table>\n",
       "</div>"
      ],
      "text/plain": [
       "         Duration  Pulse  Maxpulse  Calories\n",
       "Name                                        \n",
       "Charles       710    988      1277    4016.5\n",
       "Clark         995   1704      2113    5416.2\n",
       "Dante         430    814       997    2704.4\n",
       "James         435    747       948    2589.5\n",
       "Jobs         1260   1885      2333    7637.0"
      ]
     },
     "execution_count": 38,
     "metadata": {},
     "output_type": "execute_result"
    }
   ],
   "source": [
    "df_1 = df_data.groupby(by=\"Name\").sum()\n",
    "df_1.head()"
   ]
  },
  {
   "cell_type": "code",
   "execution_count": 39,
   "id": "abe8e4c9-f4cd-46c9-911f-fa7220263910",
   "metadata": {
    "tags": []
   },
   "outputs": [
    {
     "data": {
      "text/plain": [
       "Index(['Duration', 'Pulse', 'Maxpulse', 'Calories'], dtype='object')"
      ]
     },
     "execution_count": 39,
     "metadata": {},
     "output_type": "execute_result"
    }
   ],
   "source": [
    "df_1.columns"
   ]
  },
  {
   "cell_type": "code",
   "execution_count": 40,
   "id": "e756cfb3-50f3-492f-aef2-214e06aad072",
   "metadata": {
    "tags": []
   },
   "outputs": [],
   "source": [
    "df_1.index\n",
    "df_1[\"Name\"] = df_1.index"
   ]
  },
  {
   "cell_type": "code",
   "execution_count": 41,
   "id": "2530f763-eb2b-41ba-9666-968549a79f8f",
   "metadata": {
    "tags": []
   },
   "outputs": [
    {
     "data": {
      "text/html": [
       "<div>\n",
       "<style scoped>\n",
       "    .dataframe tbody tr th:only-of-type {\n",
       "        vertical-align: middle;\n",
       "    }\n",
       "\n",
       "    .dataframe tbody tr th {\n",
       "        vertical-align: top;\n",
       "    }\n",
       "\n",
       "    .dataframe thead th {\n",
       "        text-align: right;\n",
       "    }\n",
       "</style>\n",
       "<table border=\"1\" class=\"dataframe\">\n",
       "  <thead>\n",
       "    <tr style=\"text-align: right;\">\n",
       "      <th></th>\n",
       "      <th>Duration</th>\n",
       "      <th>Pulse</th>\n",
       "      <th>Maxpulse</th>\n",
       "      <th>Calories</th>\n",
       "      <th>Name</th>\n",
       "    </tr>\n",
       "    <tr>\n",
       "      <th>Name</th>\n",
       "      <th></th>\n",
       "      <th></th>\n",
       "      <th></th>\n",
       "      <th></th>\n",
       "      <th></th>\n",
       "    </tr>\n",
       "  </thead>\n",
       "  <tbody>\n",
       "    <tr>\n",
       "      <th>Charles</th>\n",
       "      <td>710</td>\n",
       "      <td>988</td>\n",
       "      <td>1277</td>\n",
       "      <td>4016.5</td>\n",
       "      <td>Charles</td>\n",
       "    </tr>\n",
       "    <tr>\n",
       "      <th>Clark</th>\n",
       "      <td>995</td>\n",
       "      <td>1704</td>\n",
       "      <td>2113</td>\n",
       "      <td>5416.2</td>\n",
       "      <td>Clark</td>\n",
       "    </tr>\n",
       "  </tbody>\n",
       "</table>\n",
       "</div>"
      ],
      "text/plain": [
       "         Duration  Pulse  Maxpulse  Calories     Name\n",
       "Name                                                 \n",
       "Charles       710    988      1277    4016.5  Charles\n",
       "Clark         995   1704      2113    5416.2    Clark"
      ]
     },
     "execution_count": 41,
     "metadata": {},
     "output_type": "execute_result"
    }
   ],
   "source": [
    "df_1.head(2)"
   ]
  },
  {
   "cell_type": "code",
   "execution_count": 42,
   "id": "efa12f72-aa44-4985-9eed-52b8b86876c4",
   "metadata": {
    "tags": []
   },
   "outputs": [],
   "source": [
    "colunas = ['Name', 'Duration', 'Pulse', 'Maxpulse', 'Calories']\n",
    "\n",
    "df_1 = df_1[colunas]"
   ]
  },
  {
   "cell_type": "code",
   "execution_count": 43,
   "id": "c69ba02c-25aa-4890-a072-92dcdfe33a2a",
   "metadata": {
    "tags": []
   },
   "outputs": [
    {
     "data": {
      "text/html": [
       "<div>\n",
       "<style scoped>\n",
       "    .dataframe tbody tr th:only-of-type {\n",
       "        vertical-align: middle;\n",
       "    }\n",
       "\n",
       "    .dataframe tbody tr th {\n",
       "        vertical-align: top;\n",
       "    }\n",
       "\n",
       "    .dataframe thead th {\n",
       "        text-align: right;\n",
       "    }\n",
       "</style>\n",
       "<table border=\"1\" class=\"dataframe\">\n",
       "  <thead>\n",
       "    <tr style=\"text-align: right;\">\n",
       "      <th></th>\n",
       "      <th>Name</th>\n",
       "      <th>Duration</th>\n",
       "      <th>Pulse</th>\n",
       "      <th>Maxpulse</th>\n",
       "      <th>Calories</th>\n",
       "    </tr>\n",
       "    <tr>\n",
       "      <th>Name</th>\n",
       "      <th></th>\n",
       "      <th></th>\n",
       "      <th></th>\n",
       "      <th></th>\n",
       "      <th></th>\n",
       "    </tr>\n",
       "  </thead>\n",
       "  <tbody>\n",
       "    <tr>\n",
       "      <th>Charles</th>\n",
       "      <td>Charles</td>\n",
       "      <td>710</td>\n",
       "      <td>988</td>\n",
       "      <td>1277</td>\n",
       "      <td>4016.5</td>\n",
       "    </tr>\n",
       "    <tr>\n",
       "      <th>Clark</th>\n",
       "      <td>Clark</td>\n",
       "      <td>995</td>\n",
       "      <td>1704</td>\n",
       "      <td>2113</td>\n",
       "      <td>5416.2</td>\n",
       "    </tr>\n",
       "  </tbody>\n",
       "</table>\n",
       "</div>"
      ],
      "text/plain": [
       "            Name  Duration  Pulse  Maxpulse  Calories\n",
       "Name                                                 \n",
       "Charles  Charles       710    988      1277    4016.5\n",
       "Clark      Clark       995   1704      2113    5416.2"
      ]
     },
     "execution_count": 43,
     "metadata": {},
     "output_type": "execute_result"
    }
   ],
   "source": [
    "df_1.head(2)"
   ]
  },
  {
   "cell_type": "code",
   "execution_count": 46,
   "id": "658c1f15-ec7a-49bc-85b6-1b9ca34c0126",
   "metadata": {
    "tags": []
   },
   "outputs": [],
   "source": [
    "# df_1.reset_index()\n",
    "df_1.index = range(len(df_1))"
   ]
  },
  {
   "cell_type": "code",
   "execution_count": 20,
   "id": "e132be68-948b-4eb5-872f-f42a16a20ed1",
   "metadata": {
    "tags": []
   },
   "outputs": [],
   "source": [
    "# df_1.rename(columns=['Nome', 'Duration', 'Pulse', 'Maxpulse', 'Calories'])"
   ]
  },
  {
   "cell_type": "code",
   "execution_count": 48,
   "id": "02620775-9ff0-44b5-8fa2-bd7579a0e37d",
   "metadata": {
    "tags": []
   },
   "outputs": [
    {
     "data": {
      "text/html": [
       "<div>\n",
       "<style scoped>\n",
       "    .dataframe tbody tr th:only-of-type {\n",
       "        vertical-align: middle;\n",
       "    }\n",
       "\n",
       "    .dataframe tbody tr th {\n",
       "        vertical-align: top;\n",
       "    }\n",
       "\n",
       "    .dataframe thead th {\n",
       "        text-align: right;\n",
       "    }\n",
       "</style>\n",
       "<table border=\"1\" class=\"dataframe\">\n",
       "  <thead>\n",
       "    <tr style=\"text-align: right;\">\n",
       "      <th></th>\n",
       "      <th>Name</th>\n",
       "      <th>Duration</th>\n",
       "      <th>Pulse</th>\n",
       "      <th>Maxpulse</th>\n",
       "      <th>Calories</th>\n",
       "    </tr>\n",
       "  </thead>\n",
       "  <tbody>\n",
       "    <tr>\n",
       "      <th>0</th>\n",
       "      <td>Charles</td>\n",
       "      <td>710</td>\n",
       "      <td>988</td>\n",
       "      <td>1277</td>\n",
       "      <td>4016.5</td>\n",
       "    </tr>\n",
       "    <tr>\n",
       "      <th>1</th>\n",
       "      <td>Clark</td>\n",
       "      <td>995</td>\n",
       "      <td>1704</td>\n",
       "      <td>2113</td>\n",
       "      <td>5416.2</td>\n",
       "    </tr>\n",
       "    <tr>\n",
       "      <th>2</th>\n",
       "      <td>Dante</td>\n",
       "      <td>430</td>\n",
       "      <td>814</td>\n",
       "      <td>997</td>\n",
       "      <td>2704.4</td>\n",
       "    </tr>\n",
       "    <tr>\n",
       "      <th>3</th>\n",
       "      <td>James</td>\n",
       "      <td>435</td>\n",
       "      <td>747</td>\n",
       "      <td>948</td>\n",
       "      <td>2589.5</td>\n",
       "    </tr>\n",
       "    <tr>\n",
       "      <th>4</th>\n",
       "      <td>Jobs</td>\n",
       "      <td>1260</td>\n",
       "      <td>1885</td>\n",
       "      <td>2333</td>\n",
       "      <td>7637.0</td>\n",
       "    </tr>\n",
       "  </tbody>\n",
       "</table>\n",
       "</div>"
      ],
      "text/plain": [
       "      Name  Duration  Pulse  Maxpulse  Calories\n",
       "0  Charles       710    988      1277    4016.5\n",
       "1    Clark       995   1704      2113    5416.2\n",
       "2    Dante       430    814       997    2704.4\n",
       "3    James       435    747       948    2589.5\n",
       "4     Jobs      1260   1885      2333    7637.0"
      ]
     },
     "execution_count": 48,
     "metadata": {},
     "output_type": "execute_result"
    }
   ],
   "source": [
    "df_1.head()"
   ]
  },
  {
   "cell_type": "code",
   "execution_count": 49,
   "id": "88e96adc-2a10-4175-a3a1-555ee0447082",
   "metadata": {
    "tags": []
   },
   "outputs": [],
   "source": [
    "## APPLY"
   ]
  },
  {
   "cell_type": "code",
   "execution_count": 50,
   "id": "334348cb-7a53-450d-b7ed-9bd9ed237a60",
   "metadata": {
    "tags": []
   },
   "outputs": [
    {
     "data": {
      "text/html": [
       "<div>\n",
       "<style scoped>\n",
       "    .dataframe tbody tr th:only-of-type {\n",
       "        vertical-align: middle;\n",
       "    }\n",
       "\n",
       "    .dataframe tbody tr th {\n",
       "        vertical-align: top;\n",
       "    }\n",
       "\n",
       "    .dataframe thead th {\n",
       "        text-align: right;\n",
       "    }\n",
       "</style>\n",
       "<table border=\"1\" class=\"dataframe\">\n",
       "  <thead>\n",
       "    <tr style=\"text-align: right;\">\n",
       "      <th></th>\n",
       "      <th>Name</th>\n",
       "      <th>Duration</th>\n",
       "      <th>Pulse</th>\n",
       "      <th>Maxpulse</th>\n",
       "      <th>Calories</th>\n",
       "    </tr>\n",
       "  </thead>\n",
       "  <tbody>\n",
       "    <tr>\n",
       "      <th>0</th>\n",
       "      <td>Robert</td>\n",
       "      <td>60</td>\n",
       "      <td>110</td>\n",
       "      <td>130</td>\n",
       "      <td>409.1</td>\n",
       "    </tr>\n",
       "    <tr>\n",
       "      <th>1</th>\n",
       "      <td>Mark</td>\n",
       "      <td>60</td>\n",
       "      <td>117</td>\n",
       "      <td>145</td>\n",
       "      <td>479.0</td>\n",
       "    </tr>\n",
       "  </tbody>\n",
       "</table>\n",
       "</div>"
      ],
      "text/plain": [
       "     Name  Duration  Pulse  Maxpulse  Calories\n",
       "0  Robert        60    110       130     409.1\n",
       "1    Mark        60    117       145     479.0"
      ]
     },
     "execution_count": 50,
     "metadata": {},
     "output_type": "execute_result"
    }
   ],
   "source": [
    "df_data.head(2)"
   ]
  },
  {
   "cell_type": "markdown",
   "id": "93ab7953-d573-44c3-843e-736363056acf",
   "metadata": {
    "tags": []
   },
   "source": [
    "#### meta do exercicios duracao de 60 (sim | nao)"
   ]
  },
  {
   "cell_type": "code",
   "execution_count": 55,
   "id": "ca7742fe-fa8e-4a90-a5ea-9ea73b6edbe4",
   "metadata": {
    "tags": []
   },
   "outputs": [],
   "source": [
    "# df_data[df_data.Duration < 60]"
   ]
  },
  {
   "cell_type": "code",
   "execution_count": 60,
   "id": "e4bad1e8-a283-4f36-8198-4660c5669130",
   "metadata": {
    "tags": []
   },
   "outputs": [],
   "source": [
    "# import numpy as np\n",
    "# df_data[\"Meta\"] = np.nan"
   ]
  },
  {
   "cell_type": "code",
   "execution_count": 83,
   "id": "e5b41f29-988d-48d8-afce-201e34dd449f",
   "metadata": {
    "tags": []
   },
   "outputs": [],
   "source": [
    "def verifica_duracao(x):\n",
    "    if x >= 60:\n",
    "        return \"Sim\"\n",
    "    else:\n",
    "        return \"Nao\""
   ]
  },
  {
   "cell_type": "code",
   "execution_count": 84,
   "id": "7459e032-c0df-4fb4-86de-f000f60f43aa",
   "metadata": {
    "tags": []
   },
   "outputs": [],
   "source": [
    "df_data[\"Meta\"] = df_data.Duration.apply(verifica_duracao)#axis=1"
   ]
  },
  {
   "cell_type": "code",
   "execution_count": 91,
   "id": "2f18f2e3-3909-4444-8ba4-8a5552586195",
   "metadata": {
    "tags": []
   },
   "outputs": [],
   "source": [
    "df_data[\"Meta\"] = df_data.Duration.apply(\n",
    "    lambda x: \"sim\" if x >= 60 else \"Nao\"\n",
    ")#axis=1"
   ]
  },
  {
   "cell_type": "code",
   "execution_count": 93,
   "id": "ba8098c6-078b-44a4-a9b9-ca1551b73d77",
   "metadata": {
    "tags": []
   },
   "outputs": [
    {
     "data": {
      "text/html": [
       "<div>\n",
       "<style scoped>\n",
       "    .dataframe tbody tr th:only-of-type {\n",
       "        vertical-align: middle;\n",
       "    }\n",
       "\n",
       "    .dataframe tbody tr th {\n",
       "        vertical-align: top;\n",
       "    }\n",
       "\n",
       "    .dataframe thead th {\n",
       "        text-align: right;\n",
       "    }\n",
       "</style>\n",
       "<table border=\"1\" class=\"dataframe\">\n",
       "  <thead>\n",
       "    <tr style=\"text-align: right;\">\n",
       "      <th></th>\n",
       "      <th>Name</th>\n",
       "      <th>Duration</th>\n",
       "      <th>Pulse</th>\n",
       "      <th>Maxpulse</th>\n",
       "      <th>Calories</th>\n",
       "      <th>Meta</th>\n",
       "    </tr>\n",
       "  </thead>\n",
       "  <tbody>\n",
       "    <tr>\n",
       "      <th>0</th>\n",
       "      <td>Robert</td>\n",
       "      <td>60</td>\n",
       "      <td>110</td>\n",
       "      <td>130</td>\n",
       "      <td>409.1</td>\n",
       "      <td>sim</td>\n",
       "    </tr>\n",
       "    <tr>\n",
       "      <th>1</th>\n",
       "      <td>Mark</td>\n",
       "      <td>60</td>\n",
       "      <td>117</td>\n",
       "      <td>145</td>\n",
       "      <td>479.0</td>\n",
       "      <td>sim</td>\n",
       "    </tr>\n",
       "  </tbody>\n",
       "</table>\n",
       "</div>"
      ],
      "text/plain": [
       "     Name  Duration  Pulse  Maxpulse  Calories Meta\n",
       "0  Robert        60    110       130     409.1  sim\n",
       "1    Mark        60    117       145     479.0  sim"
      ]
     },
     "execution_count": 93,
     "metadata": {},
     "output_type": "execute_result"
    }
   ],
   "source": [
    "df_data.head(2)"
   ]
  },
  {
   "cell_type": "code",
   "execution_count": 113,
   "id": "a825feb6-06a2-4c07-a749-7675c1d9eb6f",
   "metadata": {
    "tags": []
   },
   "outputs": [],
   "source": [
    "def analise_meta(linha):\n",
    "    if linha.Meta == \"sim\" and linha.Pulse < 110:\n",
    "        return \"Foi Facil\"\n",
    "    elif linha.Meta == \"sim\":\n",
    "        return \"Foi dificil\"\n",
    "    else:\n",
    "        return \"Fraco\""
   ]
  },
  {
   "cell_type": "code",
   "execution_count": 114,
   "id": "231c7b5e-5977-4bc6-8f13-9d11317629e7",
   "metadata": {
    "tags": []
   },
   "outputs": [],
   "source": [
    "df_data[\"metaVSpulse\"] = df_data.apply(analise_meta, axis=1)"
   ]
  },
  {
   "cell_type": "code",
   "execution_count": 115,
   "id": "80fa8565-ba1f-48d7-af8f-27a10498461a",
   "metadata": {
    "tags": []
   },
   "outputs": [
    {
     "data": {
      "text/html": [
       "<div>\n",
       "<style scoped>\n",
       "    .dataframe tbody tr th:only-of-type {\n",
       "        vertical-align: middle;\n",
       "    }\n",
       "\n",
       "    .dataframe tbody tr th {\n",
       "        vertical-align: top;\n",
       "    }\n",
       "\n",
       "    .dataframe thead th {\n",
       "        text-align: right;\n",
       "    }\n",
       "</style>\n",
       "<table border=\"1\" class=\"dataframe\">\n",
       "  <thead>\n",
       "    <tr style=\"text-align: right;\">\n",
       "      <th></th>\n",
       "      <th>Name</th>\n",
       "      <th>Duration</th>\n",
       "      <th>Pulse</th>\n",
       "      <th>Maxpulse</th>\n",
       "      <th>Calories</th>\n",
       "      <th>Meta</th>\n",
       "      <th>metaVSpulse</th>\n",
       "    </tr>\n",
       "  </thead>\n",
       "  <tbody>\n",
       "    <tr>\n",
       "      <th>0</th>\n",
       "      <td>Robert</td>\n",
       "      <td>60</td>\n",
       "      <td>110</td>\n",
       "      <td>130</td>\n",
       "      <td>409.1</td>\n",
       "      <td>sim</td>\n",
       "      <td>Foi dificil</td>\n",
       "    </tr>\n",
       "    <tr>\n",
       "      <th>1</th>\n",
       "      <td>Mark</td>\n",
       "      <td>60</td>\n",
       "      <td>117</td>\n",
       "      <td>145</td>\n",
       "      <td>479.0</td>\n",
       "      <td>sim</td>\n",
       "      <td>Foi dificil</td>\n",
       "    </tr>\n",
       "    <tr>\n",
       "      <th>2</th>\n",
       "      <td>Susan</td>\n",
       "      <td>60</td>\n",
       "      <td>103</td>\n",
       "      <td>135</td>\n",
       "      <td>340.0</td>\n",
       "      <td>sim</td>\n",
       "      <td>Foi Facil</td>\n",
       "    </tr>\n",
       "    <tr>\n",
       "      <th>3</th>\n",
       "      <td>Peter</td>\n",
       "      <td>45</td>\n",
       "      <td>109</td>\n",
       "      <td>175</td>\n",
       "      <td>282.4</td>\n",
       "      <td>Nao</td>\n",
       "      <td>Fraco</td>\n",
       "    </tr>\n",
       "    <tr>\n",
       "      <th>4</th>\n",
       "      <td>Dante</td>\n",
       "      <td>45</td>\n",
       "      <td>117</td>\n",
       "      <td>148</td>\n",
       "      <td>406.0</td>\n",
       "      <td>Nao</td>\n",
       "      <td>Fraco</td>\n",
       "    </tr>\n",
       "    <tr>\n",
       "      <th>5</th>\n",
       "      <td>Samantha</td>\n",
       "      <td>60</td>\n",
       "      <td>102</td>\n",
       "      <td>127</td>\n",
       "      <td>300.0</td>\n",
       "      <td>sim</td>\n",
       "      <td>Foi Facil</td>\n",
       "    </tr>\n",
       "    <tr>\n",
       "      <th>6</th>\n",
       "      <td>Leonel</td>\n",
       "      <td>60</td>\n",
       "      <td>110</td>\n",
       "      <td>136</td>\n",
       "      <td>374.0</td>\n",
       "      <td>sim</td>\n",
       "      <td>Foi dificil</td>\n",
       "    </tr>\n",
       "    <tr>\n",
       "      <th>7</th>\n",
       "      <td>Jobs</td>\n",
       "      <td>45</td>\n",
       "      <td>104</td>\n",
       "      <td>134</td>\n",
       "      <td>253.3</td>\n",
       "      <td>Nao</td>\n",
       "      <td>Fraco</td>\n",
       "    </tr>\n",
       "    <tr>\n",
       "      <th>8</th>\n",
       "      <td>Clark</td>\n",
       "      <td>30</td>\n",
       "      <td>109</td>\n",
       "      <td>133</td>\n",
       "      <td>195.1</td>\n",
       "      <td>Nao</td>\n",
       "      <td>Fraco</td>\n",
       "    </tr>\n",
       "    <tr>\n",
       "      <th>9</th>\n",
       "      <td>Louise</td>\n",
       "      <td>60</td>\n",
       "      <td>98</td>\n",
       "      <td>124</td>\n",
       "      <td>269.0</td>\n",
       "      <td>sim</td>\n",
       "      <td>Foi Facil</td>\n",
       "    </tr>\n",
       "    <tr>\n",
       "      <th>10</th>\n",
       "      <td>Charles</td>\n",
       "      <td>60</td>\n",
       "      <td>103</td>\n",
       "      <td>147</td>\n",
       "      <td>329.3</td>\n",
       "      <td>sim</td>\n",
       "      <td>Foi Facil</td>\n",
       "    </tr>\n",
       "    <tr>\n",
       "      <th>11</th>\n",
       "      <td>Megan</td>\n",
       "      <td>60</td>\n",
       "      <td>100</td>\n",
       "      <td>120</td>\n",
       "      <td>250.7</td>\n",
       "      <td>sim</td>\n",
       "      <td>Foi Facil</td>\n",
       "    </tr>\n",
       "    <tr>\n",
       "      <th>12</th>\n",
       "      <td>James</td>\n",
       "      <td>60</td>\n",
       "      <td>106</td>\n",
       "      <td>128</td>\n",
       "      <td>345.3</td>\n",
       "      <td>sim</td>\n",
       "      <td>Foi Facil</td>\n",
       "    </tr>\n",
       "    <tr>\n",
       "      <th>13</th>\n",
       "      <td>Nicholas</td>\n",
       "      <td>60</td>\n",
       "      <td>104</td>\n",
       "      <td>132</td>\n",
       "      <td>379.3</td>\n",
       "      <td>sim</td>\n",
       "      <td>Foi Facil</td>\n",
       "    </tr>\n",
       "    <tr>\n",
       "      <th>14</th>\n",
       "      <td>Robert</td>\n",
       "      <td>60</td>\n",
       "      <td>98</td>\n",
       "      <td>123</td>\n",
       "      <td>275.0</td>\n",
       "      <td>sim</td>\n",
       "      <td>Foi Facil</td>\n",
       "    </tr>\n",
       "    <tr>\n",
       "      <th>15</th>\n",
       "      <td>Clark</td>\n",
       "      <td>60</td>\n",
       "      <td>98</td>\n",
       "      <td>120</td>\n",
       "      <td>215.2</td>\n",
       "      <td>sim</td>\n",
       "      <td>Foi Facil</td>\n",
       "    </tr>\n",
       "    <tr>\n",
       "      <th>16</th>\n",
       "      <td>Leonel</td>\n",
       "      <td>60</td>\n",
       "      <td>100</td>\n",
       "      <td>120</td>\n",
       "      <td>300.0</td>\n",
       "      <td>sim</td>\n",
       "      <td>Foi Facil</td>\n",
       "    </tr>\n",
       "    <tr>\n",
       "      <th>17</th>\n",
       "      <td>Megan</td>\n",
       "      <td>45</td>\n",
       "      <td>90</td>\n",
       "      <td>112</td>\n",
       "      <td>NaN</td>\n",
       "      <td>Nao</td>\n",
       "      <td>Fraco</td>\n",
       "    </tr>\n",
       "    <tr>\n",
       "      <th>18</th>\n",
       "      <td>Susan</td>\n",
       "      <td>60</td>\n",
       "      <td>103</td>\n",
       "      <td>123</td>\n",
       "      <td>323.0</td>\n",
       "      <td>sim</td>\n",
       "      <td>Foi Facil</td>\n",
       "    </tr>\n",
       "    <tr>\n",
       "      <th>19</th>\n",
       "      <td>Clark</td>\n",
       "      <td>45</td>\n",
       "      <td>97</td>\n",
       "      <td>125</td>\n",
       "      <td>243.0</td>\n",
       "      <td>Nao</td>\n",
       "      <td>Fraco</td>\n",
       "    </tr>\n",
       "  </tbody>\n",
       "</table>\n",
       "</div>"
      ],
      "text/plain": [
       "        Name  Duration  Pulse  Maxpulse  Calories Meta  metaVSpulse\n",
       "0     Robert        60    110       130     409.1  sim  Foi dificil\n",
       "1       Mark        60    117       145     479.0  sim  Foi dificil\n",
       "2      Susan        60    103       135     340.0  sim    Foi Facil\n",
       "3      Peter        45    109       175     282.4  Nao        Fraco\n",
       "4      Dante        45    117       148     406.0  Nao        Fraco\n",
       "5   Samantha        60    102       127     300.0  sim    Foi Facil\n",
       "6     Leonel        60    110       136     374.0  sim  Foi dificil\n",
       "7       Jobs        45    104       134     253.3  Nao        Fraco\n",
       "8      Clark        30    109       133     195.1  Nao        Fraco\n",
       "9     Louise        60     98       124     269.0  sim    Foi Facil\n",
       "10   Charles        60    103       147     329.3  sim    Foi Facil\n",
       "11     Megan        60    100       120     250.7  sim    Foi Facil\n",
       "12     James        60    106       128     345.3  sim    Foi Facil\n",
       "13  Nicholas        60    104       132     379.3  sim    Foi Facil\n",
       "14    Robert        60     98       123     275.0  sim    Foi Facil\n",
       "15     Clark        60     98       120     215.2  sim    Foi Facil\n",
       "16    Leonel        60    100       120     300.0  sim    Foi Facil\n",
       "17     Megan        45     90       112       NaN  Nao        Fraco\n",
       "18     Susan        60    103       123     323.0  sim    Foi Facil\n",
       "19     Clark        45     97       125     243.0  Nao        Fraco"
      ]
     },
     "execution_count": 115,
     "metadata": {},
     "output_type": "execute_result"
    }
   ],
   "source": [
    "df_data.head(20)"
   ]
  },
  {
   "cell_type": "code",
   "execution_count": null,
   "id": "1e498950-fffe-4338-8d54-856c7efec45d",
   "metadata": {},
   "outputs": [],
   "source": []
  }
 ],
 "metadata": {
  "kernelspec": {
   "display_name": "Python 3 (ipykernel)",
   "language": "python",
   "name": "python3"
  },
  "language_info": {
   "codemirror_mode": {
    "name": "ipython",
    "version": 3
   },
   "file_extension": ".py",
   "mimetype": "text/x-python",
   "name": "python",
   "nbconvert_exporter": "python",
   "pygments_lexer": "ipython3",
   "version": "3.11.5"
  }
 },
 "nbformat": 4,
 "nbformat_minor": 5
}
