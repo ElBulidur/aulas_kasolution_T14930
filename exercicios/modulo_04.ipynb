{
 "cells": [
  {
   "cell_type": "markdown",
   "id": "93c7f445-0a3f-49db-aac1-5db51f01b7f4",
   "metadata": {},
   "source": [
    "# Modulo 04"
   ]
  },
  {
   "cell_type": "markdown",
   "id": "a35a6598-b899-42f2-8679-499b4e08de44",
   "metadata": {},
   "source": [
    "### Laboratório 1\n",
    "\n",
    "Usando os arquivos **clientes.csv** e **pedidos.csv**, determinar um agrupamento com as colunas **CODCLI**, **NOME** e **CIDADE** presente em **clientes.csv** com as colunas **CODCLI** e **VLR_TOTAL** presente em **pedidos.csv**. Usar as funções **merge()** e **groupby()**, de modo a determinar as quantidades de pedidos por cliente.\n",
    "\n",
    "Após esta operação, transformar a coluna **CIDADE** em dado categórico e apresentar uma descrição.\n",
    "\n",
    "Obs.: A coluna **CIDADE** é uma coluna numérica, indicando o código da cidade."
   ]
  },
  {
   "cell_type": "code",
   "execution_count": 59,
   "id": "a0f0ed17-e505-4c1e-830e-1cd6d69dba56",
   "metadata": {
    "tags": []
   },
   "outputs": [],
   "source": [
    "import pandas as pd"
   ]
  },
  {
   "cell_type": "code",
   "execution_count": 60,
   "id": "5b4dc973-8e81-4d63-a78c-43ba28a0296a",
   "metadata": {
    "tags": []
   },
   "outputs": [],
   "source": [
    "# Pegar os arquivos\n",
    "\n",
    "df_clientes = pd.read_csv(\"../datasets/clientes.csv\", sep=\";\")\n",
    "df_pedidos = pd.read_csv(\"../datasets/pedidos.csv\", sep=\";\")"
   ]
  },
  {
   "cell_type": "code",
   "execution_count": 61,
   "id": "72021224-97c7-4b5f-8756-7350f9f33254",
   "metadata": {
    "tags": []
   },
   "outputs": [
    {
     "data": {
      "text/html": [
       "<div>\n",
       "<style scoped>\n",
       "    .dataframe tbody tr th:only-of-type {\n",
       "        vertical-align: middle;\n",
       "    }\n",
       "\n",
       "    .dataframe tbody tr th {\n",
       "        vertical-align: top;\n",
       "    }\n",
       "\n",
       "    .dataframe thead th {\n",
       "        text-align: right;\n",
       "    }\n",
       "</style>\n",
       "<table border=\"1\" class=\"dataframe\">\n",
       "  <thead>\n",
       "    <tr style=\"text-align: right;\">\n",
       "      <th></th>\n",
       "      <th>CODCLI</th>\n",
       "      <th>NOME</th>\n",
       "      <th>FANTASIA</th>\n",
       "      <th>ENDERECO</th>\n",
       "      <th>BAIRRO</th>\n",
       "      <th>CIDADE</th>\n",
       "      <th>ESTADO</th>\n",
       "      <th>CEP</th>\n",
       "      <th>END_COB</th>\n",
       "      <th>BAI_COB</th>\n",
       "      <th>...</th>\n",
       "      <th>EST_COB</th>\n",
       "      <th>CEP_COB</th>\n",
       "      <th>CNPJ</th>\n",
       "      <th>INSCRICAO</th>\n",
       "      <th>FONE1</th>\n",
       "      <th>FAX</th>\n",
       "      <th>E_MAIL</th>\n",
       "      <th>DATA_CAD</th>\n",
       "      <th>ICMS</th>\n",
       "      <th>REVENDA_CONSUMIDOR</th>\n",
       "    </tr>\n",
       "  </thead>\n",
       "  <tbody>\n",
       "    <tr>\n",
       "      <th>0</th>\n",
       "      <td>3</td>\n",
       "      <td>AUGUSTO FOLHINHAS LTDA</td>\n",
       "      <td>AUGUSTO F. LTDA</td>\n",
       "      <td>RODOVIA SP 294 KM 453</td>\n",
       "      <td>MARILIA</td>\n",
       "      <td>MARILIA</td>\n",
       "      <td>SP</td>\n",
       "      <td>17500000.0</td>\n",
       "      <td>RODOVIA SP 294 KM 453</td>\n",
       "      <td>NaN</td>\n",
       "      <td>...</td>\n",
       "      <td>SP</td>\n",
       "      <td>17500000.0</td>\n",
       "      <td>55230056000124</td>\n",
       "      <td>438.027.140-117</td>\n",
       "      <td>0144331774</td>\n",
       "      <td>NaN</td>\n",
       "      <td>NaN</td>\n",
       "      <td>1997-02-06 00:00:00.000</td>\n",
       "      <td>18.0</td>\n",
       "      <td>C</td>\n",
       "    </tr>\n",
       "    <tr>\n",
       "      <th>1</th>\n",
       "      <td>4</td>\n",
       "      <td>ASSEIS BRINDES COMERCIO INDUSTRIA LTDA</td>\n",
       "      <td>ASSIS BRINDES LTDA</td>\n",
       "      <td>R.COMENDADOR JOSE ZILLO,401</td>\n",
       "      <td>PQ. DOS OCACIS</td>\n",
       "      <td>ASSIS</td>\n",
       "      <td>SP</td>\n",
       "      <td>19800000.0</td>\n",
       "      <td>R.COMENDADOR JOSE ZILLO,401</td>\n",
       "      <td>PQ. DOS OCACIS</td>\n",
       "      <td>...</td>\n",
       "      <td>SP</td>\n",
       "      <td>19800000.0</td>\n",
       "      <td>47578117000110</td>\n",
       "      <td>189.017.896.112</td>\n",
       "      <td>018 3223490</td>\n",
       "      <td>018 3243927</td>\n",
       "      <td>PAULO Angelino</td>\n",
       "      <td>1997-02-06 00:00:00.000</td>\n",
       "      <td>18.0</td>\n",
       "      <td>C</td>\n",
       "    </tr>\n",
       "  </tbody>\n",
       "</table>\n",
       "<p>2 rows × 21 columns</p>\n",
       "</div>"
      ],
      "text/plain": [
       "   CODCLI                                    NOME            FANTASIA  \\\n",
       "0       3                  AUGUSTO FOLHINHAS LTDA     AUGUSTO F. LTDA   \n",
       "1       4  ASSEIS BRINDES COMERCIO INDUSTRIA LTDA  ASSIS BRINDES LTDA   \n",
       "\n",
       "                      ENDERECO          BAIRRO   CIDADE ESTADO         CEP  \\\n",
       "0        RODOVIA SP 294 KM 453         MARILIA  MARILIA     SP  17500000.0   \n",
       "1  R.COMENDADOR JOSE ZILLO,401  PQ. DOS OCACIS    ASSIS     SP  19800000.0   \n",
       "\n",
       "                       END_COB         BAI_COB  ... EST_COB     CEP_COB  \\\n",
       "0        RODOVIA SP 294 KM 453             NaN  ...      SP  17500000.0   \n",
       "1  R.COMENDADOR JOSE ZILLO,401  PQ. DOS OCACIS  ...      SP  19800000.0   \n",
       "\n",
       "             CNPJ        INSCRICAO         FONE1           FAX  \\\n",
       "0  55230056000124  438.027.140-117    0144331774           NaN   \n",
       "1  47578117000110  189.017.896.112   018 3223490   018 3243927   \n",
       "\n",
       "           E_MAIL                 DATA_CAD  ICMS  REVENDA_CONSUMIDOR  \n",
       "0             NaN  1997-02-06 00:00:00.000  18.0                   C  \n",
       "1  PAULO Angelino  1997-02-06 00:00:00.000  18.0                   C  \n",
       "\n",
       "[2 rows x 21 columns]"
      ]
     },
     "execution_count": 61,
     "metadata": {},
     "output_type": "execute_result"
    }
   ],
   "source": [
    "df_clientes.head(2)"
   ]
  },
  {
   "cell_type": "code",
   "execution_count": 62,
   "id": "a36b37d5-4090-44e5-b1e1-74ad86b50266",
   "metadata": {
    "tags": []
   },
   "outputs": [
    {
     "data": {
      "text/html": [
       "<div>\n",
       "<style scoped>\n",
       "    .dataframe tbody tr th:only-of-type {\n",
       "        vertical-align: middle;\n",
       "    }\n",
       "\n",
       "    .dataframe tbody tr th {\n",
       "        vertical-align: top;\n",
       "    }\n",
       "\n",
       "    .dataframe thead th {\n",
       "        text-align: right;\n",
       "    }\n",
       "</style>\n",
       "<table border=\"1\" class=\"dataframe\">\n",
       "  <thead>\n",
       "    <tr style=\"text-align: right;\">\n",
       "      <th></th>\n",
       "      <th>NUM_PEDIDO</th>\n",
       "      <th>CODCLI</th>\n",
       "      <th>CODVEN</th>\n",
       "      <th>DATA_EMISSAO</th>\n",
       "      <th>VLR_TOTAL</th>\n",
       "      <th>SITUACAO</th>\n",
       "      <th>OBSERVACOES</th>\n",
       "    </tr>\n",
       "  </thead>\n",
       "  <tbody>\n",
       "    <tr>\n",
       "      <th>0</th>\n",
       "      <td>1</td>\n",
       "      <td>5</td>\n",
       "      <td>3</td>\n",
       "      <td>2005-03-20 01:53:13.497</td>\n",
       "      <td>2.0</td>\n",
       "      <td>E</td>\n",
       "      <td>NaN</td>\n",
       "    </tr>\n",
       "    <tr>\n",
       "      <th>1</th>\n",
       "      <td>2</td>\n",
       "      <td>431</td>\n",
       "      <td>2</td>\n",
       "      <td>2012-12-18 01:53:13.497</td>\n",
       "      <td>30.7</td>\n",
       "      <td>E</td>\n",
       "      <td>Vazio</td>\n",
       "    </tr>\n",
       "  </tbody>\n",
       "</table>\n",
       "</div>"
      ],
      "text/plain": [
       "   NUM_PEDIDO  CODCLI  CODVEN             DATA_EMISSAO  VLR_TOTAL SITUACAO  \\\n",
       "0           1       5       3  2005-03-20 01:53:13.497        2.0        E   \n",
       "1           2     431       2  2012-12-18 01:53:13.497       30.7        E   \n",
       "\n",
       "  OBSERVACOES  \n",
       "0         NaN  \n",
       "1       Vazio  "
      ]
     },
     "execution_count": 62,
     "metadata": {},
     "output_type": "execute_result"
    }
   ],
   "source": [
    "df_pedidos.head(2)"
   ]
  },
  {
   "cell_type": "code",
   "execution_count": 63,
   "id": "7205128f-0da3-45df-9c42-df5cb230b12a",
   "metadata": {
    "tags": []
   },
   "outputs": [],
   "source": [
    "df_agrupamento = pd.merge(\n",
    "    df_clientes[[\"CODCLI\", \"NOME\", \"CIDADE\"]],\n",
    "    df_pedidos[[\"CODCLI\", \"VLR_TOTAL\"]],\n",
    "    on=\"CODCLI\"\n",
    ").groupby([\"CODCLI\", \"NOME\", \"CIDADE\"]).count().reset_index()"
   ]
  },
  {
   "cell_type": "code",
   "execution_count": 64,
   "id": "ca73b401-9e3a-4e2e-a4e5-53bd7ca8e698",
   "metadata": {
    "tags": []
   },
   "outputs": [],
   "source": [
    "# df_agrupamento.index = df_agrupamento.CODCLI"
   ]
  },
  {
   "cell_type": "code",
   "execution_count": 65,
   "id": "253ac21d-4810-46d8-b26a-d2a1bfd6fccf",
   "metadata": {
    "tags": []
   },
   "outputs": [],
   "source": [
    "df_agrupamento = df_agrupamento.rename(columns={\"VLR_TOTAL\":\"QTD\"})"
   ]
  },
  {
   "cell_type": "code",
   "execution_count": 66,
   "id": "3c33d928-d028-44d9-9fba-6cba0e41f17b",
   "metadata": {
    "tags": []
   },
   "outputs": [
    {
     "data": {
      "text/html": [
       "<div>\n",
       "<style scoped>\n",
       "    .dataframe tbody tr th:only-of-type {\n",
       "        vertical-align: middle;\n",
       "    }\n",
       "\n",
       "    .dataframe tbody tr th {\n",
       "        vertical-align: top;\n",
       "    }\n",
       "\n",
       "    .dataframe thead th {\n",
       "        text-align: right;\n",
       "    }\n",
       "</style>\n",
       "<table border=\"1\" class=\"dataframe\">\n",
       "  <thead>\n",
       "    <tr style=\"text-align: right;\">\n",
       "      <th></th>\n",
       "      <th>CODCLI</th>\n",
       "      <th>NOME</th>\n",
       "      <th>CIDADE</th>\n",
       "      <th>QTD</th>\n",
       "    </tr>\n",
       "  </thead>\n",
       "  <tbody>\n",
       "    <tr>\n",
       "      <th>0</th>\n",
       "      <td>3</td>\n",
       "      <td>AUGUSTO FOLHINHAS LTDA</td>\n",
       "      <td>MARILIA</td>\n",
       "      <td>16</td>\n",
       "    </tr>\n",
       "    <tr>\n",
       "      <th>1</th>\n",
       "      <td>4</td>\n",
       "      <td>ASSEIS BRINDES COMERCIO INDUSTRIA LTDA</td>\n",
       "      <td>ASSIS</td>\n",
       "      <td>23</td>\n",
       "    </tr>\n",
       "  </tbody>\n",
       "</table>\n",
       "</div>"
      ],
      "text/plain": [
       "   CODCLI                                    NOME   CIDADE  QTD\n",
       "0       3                  AUGUSTO FOLHINHAS LTDA  MARILIA   16\n",
       "1       4  ASSEIS BRINDES COMERCIO INDUSTRIA LTDA    ASSIS   23"
      ]
     },
     "execution_count": 66,
     "metadata": {},
     "output_type": "execute_result"
    }
   ],
   "source": [
    "df_agrupamento.head(2)"
   ]
  },
  {
   "cell_type": "code",
   "execution_count": 67,
   "id": "8880f0cd-ac0d-40bc-adcc-fa9ccc3cfcf4",
   "metadata": {
    "tags": []
   },
   "outputs": [
    {
     "name": "stdout",
     "output_type": "stream",
     "text": [
      "<class 'pandas.core.frame.DataFrame'>\n",
      "RangeIndex: 540 entries, 0 to 539\n",
      "Data columns (total 4 columns):\n",
      " #   Column  Non-Null Count  Dtype \n",
      "---  ------  --------------  ----- \n",
      " 0   CODCLI  540 non-null    int64 \n",
      " 1   NOME    540 non-null    object\n",
      " 2   CIDADE  540 non-null    object\n",
      " 3   QTD     540 non-null    int64 \n",
      "dtypes: int64(2), object(2)\n",
      "memory usage: 17.0+ KB\n"
     ]
    }
   ],
   "source": [
    "df_agrupamento.info()"
   ]
  },
  {
   "cell_type": "code",
   "execution_count": 68,
   "id": "05ebb45c-278b-45bc-806f-8a2741d92e24",
   "metadata": {
    "tags": []
   },
   "outputs": [],
   "source": [
    "df_agrupamento.CIDADE = df_agrupamento.CIDADE.astype(\"category\")"
   ]
  },
  {
   "cell_type": "code",
   "execution_count": 69,
   "id": "e72f5c58-6b55-46cb-84eb-69eff8176316",
   "metadata": {
    "tags": []
   },
   "outputs": [
    {
     "name": "stdout",
     "output_type": "stream",
     "text": [
      "<class 'pandas.core.frame.DataFrame'>\n",
      "RangeIndex: 540 entries, 0 to 539\n",
      "Data columns (total 4 columns):\n",
      " #   Column  Non-Null Count  Dtype   \n",
      "---  ------  --------------  -----   \n",
      " 0   CODCLI  540 non-null    int64   \n",
      " 1   NOME    540 non-null    object  \n",
      " 2   CIDADE  540 non-null    category\n",
      " 3   QTD     540 non-null    int64   \n",
      "dtypes: category(1), int64(2), object(1)\n",
      "memory usage: 19.4+ KB\n"
     ]
    }
   ],
   "source": [
    "df_agrupamento.info()"
   ]
  },
  {
   "cell_type": "code",
   "execution_count": 70,
   "id": "fbbd3bc5-17e7-4014-8f6e-e189bf57cdb4",
   "metadata": {
    "tags": []
   },
   "outputs": [
    {
     "data": {
      "text/plain": [
       "count    540.000000\n",
       "mean     106.553704\n",
       "std       54.118221\n",
       "min        0.000000\n",
       "25%       51.750000\n",
       "50%      120.000000\n",
       "75%      159.000000\n",
       "max      194.000000\n",
       "dtype: float64"
      ]
     },
     "execution_count": 70,
     "metadata": {},
     "output_type": "execute_result"
    }
   ],
   "source": [
    "df_agrupamento.CIDADE.cat.codes.describe()"
   ]
  },
  {
   "cell_type": "code",
   "execution_count": 71,
   "id": "70c7cb40-589d-4ca6-8a04-2525ae9134e6",
   "metadata": {
    "tags": []
   },
   "outputs": [
    {
     "data": {
      "text/plain": [
       "count           541\n",
       "unique          196\n",
       "top       SAO PAULO\n",
       "freq            111\n",
       "Name: CIDADE, dtype: object"
      ]
     },
     "execution_count": 71,
     "metadata": {},
     "output_type": "execute_result"
    }
   ],
   "source": [
    "df_clientes.CIDADE.describe()"
   ]
  },
  {
   "cell_type": "code",
   "execution_count": 73,
   "id": "6cecc2fd-40d1-4587-9876-6534e3a60a0c",
   "metadata": {
    "tags": []
   },
   "outputs": [
    {
     "data": {
      "text/html": [
       "<div>\n",
       "<style scoped>\n",
       "    .dataframe tbody tr th:only-of-type {\n",
       "        vertical-align: middle;\n",
       "    }\n",
       "\n",
       "    .dataframe tbody tr th {\n",
       "        vertical-align: top;\n",
       "    }\n",
       "\n",
       "    .dataframe thead th {\n",
       "        text-align: right;\n",
       "    }\n",
       "</style>\n",
       "<table border=\"1\" class=\"dataframe\">\n",
       "  <thead>\n",
       "    <tr style=\"text-align: right;\">\n",
       "      <th></th>\n",
       "      <th>CODCLI</th>\n",
       "      <th>NOME</th>\n",
       "      <th>FANTASIA</th>\n",
       "      <th>ENDERECO</th>\n",
       "      <th>BAIRRO</th>\n",
       "      <th>CIDADE</th>\n",
       "      <th>ESTADO</th>\n",
       "      <th>CEP</th>\n",
       "      <th>END_COB</th>\n",
       "      <th>BAI_COB</th>\n",
       "      <th>...</th>\n",
       "      <th>EST_COB</th>\n",
       "      <th>CEP_COB</th>\n",
       "      <th>CNPJ</th>\n",
       "      <th>INSCRICAO</th>\n",
       "      <th>FONE1</th>\n",
       "      <th>FAX</th>\n",
       "      <th>E_MAIL</th>\n",
       "      <th>DATA_CAD</th>\n",
       "      <th>ICMS</th>\n",
       "      <th>REVENDA_CONSUMIDOR</th>\n",
       "    </tr>\n",
       "  </thead>\n",
       "  <tbody>\n",
       "    <tr>\n",
       "      <th>count</th>\n",
       "      <td>562.000000</td>\n",
       "      <td>562</td>\n",
       "      <td>562</td>\n",
       "      <td>543</td>\n",
       "      <td>461</td>\n",
       "      <td>541</td>\n",
       "      <td>554</td>\n",
       "      <td>4.980000e+02</td>\n",
       "      <td>316</td>\n",
       "      <td>216</td>\n",
       "      <td>...</td>\n",
       "      <td>291</td>\n",
       "      <td>2.800000e+02</td>\n",
       "      <td>483</td>\n",
       "      <td>465</td>\n",
       "      <td>474</td>\n",
       "      <td>131</td>\n",
       "      <td>127</td>\n",
       "      <td>474</td>\n",
       "      <td>561.000000</td>\n",
       "      <td>561</td>\n",
       "    </tr>\n",
       "    <tr>\n",
       "      <th>unique</th>\n",
       "      <td>NaN</td>\n",
       "      <td>557</td>\n",
       "      <td>556</td>\n",
       "      <td>540</td>\n",
       "      <td>320</td>\n",
       "      <td>196</td>\n",
       "      <td>21</td>\n",
       "      <td>NaN</td>\n",
       "      <td>297</td>\n",
       "      <td>155</td>\n",
       "      <td>...</td>\n",
       "      <td>19</td>\n",
       "      <td>NaN</td>\n",
       "      <td>475</td>\n",
       "      <td>448</td>\n",
       "      <td>463</td>\n",
       "      <td>130</td>\n",
       "      <td>120</td>\n",
       "      <td>77</td>\n",
       "      <td>NaN</td>\n",
       "      <td>2</td>\n",
       "    </tr>\n",
       "    <tr>\n",
       "      <th>top</th>\n",
       "      <td>NaN</td>\n",
       "      <td>JOSE CAMILO NETO</td>\n",
       "      <td>MARJO REPRESENTACOES</td>\n",
       "      <td>R.SAO PAULO,3305</td>\n",
       "      <td>CENTRO</td>\n",
       "      <td>SAO PAULO</td>\n",
       "      <td>SP</td>\n",
       "      <td>NaN</td>\n",
       "      <td>O MESMO</td>\n",
       "      <td>CENTRO</td>\n",
       "      <td>...</td>\n",
       "      <td>SP</td>\n",
       "      <td>NaN</td>\n",
       "      <td>00101525000113</td>\n",
       "      <td>ISENTO</td>\n",
       "      <td>012 3311203</td>\n",
       "      <td>021 3577780</td>\n",
       "      <td>C/JANAINA</td>\n",
       "      <td>1997-02-17 00:00:00.000</td>\n",
       "      <td>NaN</td>\n",
       "      <td>C</td>\n",
       "    </tr>\n",
       "    <tr>\n",
       "      <th>freq</th>\n",
       "      <td>NaN</td>\n",
       "      <td>2</td>\n",
       "      <td>2</td>\n",
       "      <td>2</td>\n",
       "      <td>88</td>\n",
       "      <td>111</td>\n",
       "      <td>302</td>\n",
       "      <td>NaN</td>\n",
       "      <td>14</td>\n",
       "      <td>47</td>\n",
       "      <td>...</td>\n",
       "      <td>127</td>\n",
       "      <td>NaN</td>\n",
       "      <td>2</td>\n",
       "      <td>9</td>\n",
       "      <td>2</td>\n",
       "      <td>2</td>\n",
       "      <td>3</td>\n",
       "      <td>163</td>\n",
       "      <td>NaN</td>\n",
       "      <td>373</td>\n",
       "    </tr>\n",
       "    <tr>\n",
       "      <th>mean</th>\n",
       "      <td>304.690391</td>\n",
       "      <td>NaN</td>\n",
       "      <td>NaN</td>\n",
       "      <td>NaN</td>\n",
       "      <td>NaN</td>\n",
       "      <td>NaN</td>\n",
       "      <td>NaN</td>\n",
       "      <td>3.049698e+07</td>\n",
       "      <td>NaN</td>\n",
       "      <td>NaN</td>\n",
       "      <td>...</td>\n",
       "      <td>NaN</td>\n",
       "      <td>3.459510e+07</td>\n",
       "      <td>NaN</td>\n",
       "      <td>NaN</td>\n",
       "      <td>NaN</td>\n",
       "      <td>NaN</td>\n",
       "      <td>NaN</td>\n",
       "      <td>NaN</td>\n",
       "      <td>14.121212</td>\n",
       "      <td>NaN</td>\n",
       "    </tr>\n",
       "    <tr>\n",
       "      <th>std</th>\n",
       "      <td>176.994255</td>\n",
       "      <td>NaN</td>\n",
       "      <td>NaN</td>\n",
       "      <td>NaN</td>\n",
       "      <td>NaN</td>\n",
       "      <td>NaN</td>\n",
       "      <td>NaN</td>\n",
       "      <td>2.863685e+07</td>\n",
       "      <td>NaN</td>\n",
       "      <td>NaN</td>\n",
       "      <td>...</td>\n",
       "      <td>NaN</td>\n",
       "      <td>2.977841e+07</td>\n",
       "      <td>NaN</td>\n",
       "      <td>NaN</td>\n",
       "      <td>NaN</td>\n",
       "      <td>NaN</td>\n",
       "      <td>NaN</td>\n",
       "      <td>NaN</td>\n",
       "      <td>4.641382</td>\n",
       "      <td>NaN</td>\n",
       "    </tr>\n",
       "    <tr>\n",
       "      <th>min</th>\n",
       "      <td>3.000000</td>\n",
       "      <td>NaN</td>\n",
       "      <td>NaN</td>\n",
       "      <td>NaN</td>\n",
       "      <td>NaN</td>\n",
       "      <td>NaN</td>\n",
       "      <td>NaN</td>\n",
       "      <td>1.000000e+06</td>\n",
       "      <td>NaN</td>\n",
       "      <td>NaN</td>\n",
       "      <td>...</td>\n",
       "      <td>NaN</td>\n",
       "      <td>0.000000e+00</td>\n",
       "      <td>NaN</td>\n",
       "      <td>NaN</td>\n",
       "      <td>NaN</td>\n",
       "      <td>NaN</td>\n",
       "      <td>NaN</td>\n",
       "      <td>NaN</td>\n",
       "      <td>0.000000</td>\n",
       "      <td>NaN</td>\n",
       "    </tr>\n",
       "    <tr>\n",
       "      <th>25%</th>\n",
       "      <td>151.250000</td>\n",
       "      <td>NaN</td>\n",
       "      <td>NaN</td>\n",
       "      <td>NaN</td>\n",
       "      <td>NaN</td>\n",
       "      <td>NaN</td>\n",
       "      <td>NaN</td>\n",
       "      <td>8.625900e+06</td>\n",
       "      <td>NaN</td>\n",
       "      <td>NaN</td>\n",
       "      <td>...</td>\n",
       "      <td>NaN</td>\n",
       "      <td>9.850182e+06</td>\n",
       "      <td>NaN</td>\n",
       "      <td>NaN</td>\n",
       "      <td>NaN</td>\n",
       "      <td>NaN</td>\n",
       "      <td>NaN</td>\n",
       "      <td>NaN</td>\n",
       "      <td>12.000000</td>\n",
       "      <td>NaN</td>\n",
       "    </tr>\n",
       "    <tr>\n",
       "      <th>50%</th>\n",
       "      <td>301.500000</td>\n",
       "      <td>NaN</td>\n",
       "      <td>NaN</td>\n",
       "      <td>NaN</td>\n",
       "      <td>NaN</td>\n",
       "      <td>NaN</td>\n",
       "      <td>NaN</td>\n",
       "      <td>1.715000e+07</td>\n",
       "      <td>NaN</td>\n",
       "      <td>NaN</td>\n",
       "      <td>...</td>\n",
       "      <td>NaN</td>\n",
       "      <td>2.246012e+07</td>\n",
       "      <td>NaN</td>\n",
       "      <td>NaN</td>\n",
       "      <td>NaN</td>\n",
       "      <td>NaN</td>\n",
       "      <td>NaN</td>\n",
       "      <td>NaN</td>\n",
       "      <td>18.000000</td>\n",
       "      <td>NaN</td>\n",
       "    </tr>\n",
       "    <tr>\n",
       "      <th>75%</th>\n",
       "      <td>450.750000</td>\n",
       "      <td>NaN</td>\n",
       "      <td>NaN</td>\n",
       "      <td>NaN</td>\n",
       "      <td>NaN</td>\n",
       "      <td>NaN</td>\n",
       "      <td>NaN</td>\n",
       "      <td>5.269269e+07</td>\n",
       "      <td>NaN</td>\n",
       "      <td>NaN</td>\n",
       "      <td>...</td>\n",
       "      <td>NaN</td>\n",
       "      <td>6.400558e+07</td>\n",
       "      <td>NaN</td>\n",
       "      <td>NaN</td>\n",
       "      <td>NaN</td>\n",
       "      <td>NaN</td>\n",
       "      <td>NaN</td>\n",
       "      <td>NaN</td>\n",
       "      <td>18.000000</td>\n",
       "      <td>NaN</td>\n",
       "    </tr>\n",
       "    <tr>\n",
       "      <th>max</th>\n",
       "      <td>632.000000</td>\n",
       "      <td>NaN</td>\n",
       "      <td>NaN</td>\n",
       "      <td>NaN</td>\n",
       "      <td>NaN</td>\n",
       "      <td>NaN</td>\n",
       "      <td>NaN</td>\n",
       "      <td>9.970000e+07</td>\n",
       "      <td>NaN</td>\n",
       "      <td>NaN</td>\n",
       "      <td>...</td>\n",
       "      <td>NaN</td>\n",
       "      <td>9.572000e+07</td>\n",
       "      <td>NaN</td>\n",
       "      <td>NaN</td>\n",
       "      <td>NaN</td>\n",
       "      <td>NaN</td>\n",
       "      <td>NaN</td>\n",
       "      <td>NaN</td>\n",
       "      <td>18.000000</td>\n",
       "      <td>NaN</td>\n",
       "    </tr>\n",
       "  </tbody>\n",
       "</table>\n",
       "<p>11 rows × 21 columns</p>\n",
       "</div>"
      ],
      "text/plain": [
       "            CODCLI              NOME              FANTASIA          ENDERECO  \\\n",
       "count   562.000000               562                   562               543   \n",
       "unique         NaN               557                   556               540   \n",
       "top            NaN  JOSE CAMILO NETO  MARJO REPRESENTACOES  R.SAO PAULO,3305   \n",
       "freq           NaN                 2                     2                 2   \n",
       "mean    304.690391               NaN                   NaN               NaN   \n",
       "std     176.994255               NaN                   NaN               NaN   \n",
       "min       3.000000               NaN                   NaN               NaN   \n",
       "25%     151.250000               NaN                   NaN               NaN   \n",
       "50%     301.500000               NaN                   NaN               NaN   \n",
       "75%     450.750000               NaN                   NaN               NaN   \n",
       "max     632.000000               NaN                   NaN               NaN   \n",
       "\n",
       "        BAIRRO     CIDADE ESTADO           CEP  END_COB BAI_COB  ... EST_COB  \\\n",
       "count      461        541    554  4.980000e+02      316     216  ...     291   \n",
       "unique     320        196     21           NaN      297     155  ...      19   \n",
       "top     CENTRO  SAO PAULO     SP           NaN  O MESMO  CENTRO  ...      SP   \n",
       "freq        88        111    302           NaN       14      47  ...     127   \n",
       "mean       NaN        NaN    NaN  3.049698e+07      NaN     NaN  ...     NaN   \n",
       "std        NaN        NaN    NaN  2.863685e+07      NaN     NaN  ...     NaN   \n",
       "min        NaN        NaN    NaN  1.000000e+06      NaN     NaN  ...     NaN   \n",
       "25%        NaN        NaN    NaN  8.625900e+06      NaN     NaN  ...     NaN   \n",
       "50%        NaN        NaN    NaN  1.715000e+07      NaN     NaN  ...     NaN   \n",
       "75%        NaN        NaN    NaN  5.269269e+07      NaN     NaN  ...     NaN   \n",
       "max        NaN        NaN    NaN  9.970000e+07      NaN     NaN  ...     NaN   \n",
       "\n",
       "             CEP_COB            CNPJ INSCRICAO         FONE1           FAX  \\\n",
       "count   2.800000e+02             483       465           474           131   \n",
       "unique           NaN             475       448           463           130   \n",
       "top              NaN  00101525000113    ISENTO   012 3311203   021 3577780   \n",
       "freq             NaN               2         9             2             2   \n",
       "mean    3.459510e+07             NaN       NaN           NaN           NaN   \n",
       "std     2.977841e+07             NaN       NaN           NaN           NaN   \n",
       "min     0.000000e+00             NaN       NaN           NaN           NaN   \n",
       "25%     9.850182e+06             NaN       NaN           NaN           NaN   \n",
       "50%     2.246012e+07             NaN       NaN           NaN           NaN   \n",
       "75%     6.400558e+07             NaN       NaN           NaN           NaN   \n",
       "max     9.572000e+07             NaN       NaN           NaN           NaN   \n",
       "\n",
       "           E_MAIL                 DATA_CAD        ICMS  REVENDA_CONSUMIDOR  \n",
       "count         127                      474  561.000000                 561  \n",
       "unique        120                       77         NaN                   2  \n",
       "top     C/JANAINA  1997-02-17 00:00:00.000         NaN                   C  \n",
       "freq            3                      163         NaN                 373  \n",
       "mean          NaN                      NaN   14.121212                 NaN  \n",
       "std           NaN                      NaN    4.641382                 NaN  \n",
       "min           NaN                      NaN    0.000000                 NaN  \n",
       "25%           NaN                      NaN   12.000000                 NaN  \n",
       "50%           NaN                      NaN   18.000000                 NaN  \n",
       "75%           NaN                      NaN   18.000000                 NaN  \n",
       "max           NaN                      NaN   18.000000                 NaN  \n",
       "\n",
       "[11 rows x 21 columns]"
      ]
     },
     "execution_count": 73,
     "metadata": {},
     "output_type": "execute_result"
    }
   ],
   "source": [
    "df_clientes.describe(include=\"all\")"
   ]
  },
  {
   "cell_type": "code",
   "execution_count": null,
   "id": "e6d42d43-0d74-4150-89bd-bd3a3db908d3",
   "metadata": {
    "tags": []
   },
   "outputs": [],
   "source": [
    "df_agrupamento.CIDADE.cat.codes.plot.box(vert=False)"
   ]
  },
  {
   "cell_type": "code",
   "execution_count": 74,
   "id": "31e828a2-ddd8-4910-a49d-9a9dcff12d4f",
   "metadata": {
    "tags": []
   },
   "outputs": [
    {
     "data": {
      "text/plain": [
       "CODCLI    0\n",
       "NOME      0\n",
       "CIDADE    0\n",
       "QTD       0\n",
       "dtype: int64"
      ]
     },
     "execution_count": 74,
     "metadata": {},
     "output_type": "execute_result"
    }
   ],
   "source": [
    "df_agrupamento.isnull().sum()"
   ]
  },
  {
   "cell_type": "code",
   "execution_count": 77,
   "id": "0b540478-2cbc-41e4-a806-533390c04d61",
   "metadata": {
    "tags": []
   },
   "outputs": [],
   "source": [
    "# df_agrupamento.to_csv(\"../arquivos_gerados/modulo_04.csv\")"
   ]
  }
 ],
 "metadata": {
  "kernelspec": {
   "display_name": "Python 3 (ipykernel)",
   "language": "python",
   "name": "python3"
  },
  "language_info": {
   "codemirror_mode": {
    "name": "ipython",
    "version": 3
   },
   "file_extension": ".py",
   "mimetype": "text/x-python",
   "name": "python",
   "nbconvert_exporter": "python",
   "pygments_lexer": "ipython3",
   "version": "3.11.5"
  }
 },
 "nbformat": 4,
 "nbformat_minor": 5
}
