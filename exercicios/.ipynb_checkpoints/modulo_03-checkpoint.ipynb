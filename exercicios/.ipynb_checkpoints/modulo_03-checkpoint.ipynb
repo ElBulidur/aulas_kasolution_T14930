{
 "cells": [
  {
   "cell_type": "markdown",
   "id": "29c9f45f-a6a2-453b-a40f-c8616cee7852",
   "metadata": {},
   "source": [
    "# Modulo 03"
   ]
  },
  {
   "cell_type": "markdown",
   "id": "feac6955-96d6-4b73-b4b0-f529748f39d3",
   "metadata": {},
   "source": [
    "### Laboratório 1\n",
    "\n",
    "Escrever um programa que:\n",
    "\n",
    "- Receba duas datas informadas pelo usuário;\n",
    "- Receba um valor em dias;\n",
    "- Calcule a diferença entre as duas datas recebidas;\n",
    "- Adicione o valor numérico recebido à segunda data"
   ]
  },
  {
   "cell_type": "code",
   "execution_count": 5,
   "id": "80139b6e-eb99-4b75-90d2-662898e130ad",
   "metadata": {
    "tags": []
   },
   "outputs": [],
   "source": [
    "import pandas as pd"
   ]
  },
  {
   "cell_type": "code",
   "execution_count": 24,
   "id": "20e1f49a-624e-47d3-84ee-b7ce829dbc44",
   "metadata": {
    "tags": []
   },
   "outputs": [
    {
     "name": "stdin",
     "output_type": "stream",
     "text": [
      "Coloque a data inicial:  01/11/2023\n",
      "Coloque a data final:  20/11/2023\n",
      "Coloque o numero de dias:  10\n"
     ]
    },
    {
     "name": "stdout",
     "output_type": "stream",
     "text": [
      "A diferencia entre as duas datas informadas e: 19 days 00:00:00\n",
      "Data inicial + 10 dias ficara: 2023-11-30 00:00:00\n"
     ]
    }
   ],
   "source": [
    "# Pegando as datas\n",
    "data_inicial = input(\"Coloque a data inicial: \")\n",
    "data_final = input(\"Coloque a data final: \")\n",
    "\n",
    "# Converter as datas para Timestamp\n",
    "ts1 = pd.Timestamp(\n",
    "    pd.to_datetime(data_inicial, format=\"%d/%m/%Y\")\n",
    ")\n",
    "\n",
    "ts2 = pd.Timestamp(\n",
    "    pd.to_datetime(data_final, format=\"%d/%m/%Y\")\n",
    ")\n",
    "\n",
    "# Diferencia dos dias\n",
    "diferencia = ts2 - ts1\n",
    "\n",
    "# Adicionando mais dias\n",
    "dias = int(input(\"Coloque o numero de dias: \"))\n",
    "ts3 = ts2 + pd.Timedelta(days=dias)\n",
    "\n",
    "print(f\"A diferencia entre as duas datas informadas e: {diferencia}\")\n",
    "print(f\"Data Final + {dias} dias ficara: {ts3}\")"
   ]
  }
 ],
 "metadata": {
  "kernelspec": {
   "display_name": "Python 3 (ipykernel)",
   "language": "python",
   "name": "python3"
  },
  "language_info": {
   "codemirror_mode": {
    "name": "ipython",
    "version": 3
   },
   "file_extension": ".py",
   "mimetype": "text/x-python",
   "name": "python",
   "nbconvert_exporter": "python",
   "pygments_lexer": "ipython3",
   "version": "3.11.5"
  }
 },
 "nbformat": 4,
 "nbformat_minor": 5
}
