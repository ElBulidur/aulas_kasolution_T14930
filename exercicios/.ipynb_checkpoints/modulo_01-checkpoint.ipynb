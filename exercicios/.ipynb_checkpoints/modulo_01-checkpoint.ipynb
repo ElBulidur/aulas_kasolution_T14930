{
 "cells": [
  {
   "cell_type": "markdown",
   "id": "65c36aa1-a249-4009-8ba6-ca85d75c0a16",
   "metadata": {},
   "source": [
    "# Modulo 01\n",
    "    1. Laboratório 1 - Cite os cenários onde a análise de dados pode ser aplicada.\n",
    "    2. Laboratório 2 - Qual a finalidade da biblioteca Numpy?"
   ]
  },
  {
   "cell_type": "markdown",
   "id": "b9cee219-fd12-4911-acda-fd7f87ef9f14",
   "metadata": {},
   "source": [
    "# Laboratorio 01\n",
    "\n",
    "- Sistema de recomendacao\n",
    "- Dados meteorologicos\n",
    "- Dados de estoques\n",
    "- Dados financeiros"
   ]
  },
  {
   "cell_type": "markdown",
   "id": "5b2744fa-7158-494f-b855-4181c5ab55d0",
   "metadata": {},
   "source": [
    "# Laboratorio 02"
   ]
  },
  {
   "cell_type": "code",
   "execution_count": 1,
   "id": "257a43a0-a869-47ed-8940-34d17916e9b8",
   "metadata": {
    "tags": []
   },
   "outputs": [],
   "source": [
    "import pandas as pd\n",
    "import numpy as np"
   ]
  },
  {
   "cell_type": "code",
   "execution_count": 5,
   "id": "86aa5c1b-ff3f-4b0d-9e38-6ec878db8530",
   "metadata": {
    "tags": []
   },
   "outputs": [],
   "source": [
    "n = np.array([1,2,3,4])"
   ]
  },
  {
   "cell_type": "code",
   "execution_count": 6,
   "id": "7ec95c2b-4eff-4b81-b4a9-e9e84980b903",
   "metadata": {
    "tags": []
   },
   "outputs": [
    {
     "data": {
      "text/plain": [
       "10"
      ]
     },
     "execution_count": 6,
     "metadata": {},
     "output_type": "execute_result"
    }
   ],
   "source": [
    "n.sum()"
   ]
  },
  {
   "cell_type": "code",
   "execution_count": 7,
   "id": "ccec7a85-74e9-43c6-ba75-a421fea1435d",
   "metadata": {
    "tags": []
   },
   "outputs": [
    {
     "data": {
      "text/plain": [
       "1.118033988749895"
      ]
     },
     "execution_count": 7,
     "metadata": {},
     "output_type": "execute_result"
    }
   ],
   "source": [
    "n.std()"
   ]
  },
  {
   "cell_type": "code",
   "execution_count": 8,
   "id": "f2851cf0-6b74-42c6-86d5-208073a4b6ab",
   "metadata": {
    "tags": []
   },
   "outputs": [
    {
     "data": {
      "text/plain": [
       "4"
      ]
     },
     "execution_count": 8,
     "metadata": {},
     "output_type": "execute_result"
    }
   ],
   "source": [
    "n.max()"
   ]
  },
  {
   "cell_type": "code",
   "execution_count": 9,
   "id": "889b78a5-5caa-4d3f-b851-6101a9c091d1",
   "metadata": {
    "tags": []
   },
   "outputs": [
    {
     "data": {
      "text/plain": [
       "1"
      ]
     },
     "execution_count": 9,
     "metadata": {},
     "output_type": "execute_result"
    }
   ],
   "source": [
    "n.min()"
   ]
  },
  {
   "cell_type": "code",
   "execution_count": 10,
   "id": "60565d85-5cfb-42ff-8b6d-bf56a410b699",
   "metadata": {
    "tags": []
   },
   "outputs": [],
   "source": [
    "s = pd.Series(n)"
   ]
  },
  {
   "cell_type": "code",
   "execution_count": 11,
   "id": "006da834-d0e3-436d-944e-909652d3c50b",
   "metadata": {
    "tags": []
   },
   "outputs": [
    {
     "data": {
      "text/plain": [
       "0    1\n",
       "1    2\n",
       "2    3\n",
       "3    4\n",
       "dtype: int32"
      ]
     },
     "execution_count": 11,
     "metadata": {},
     "output_type": "execute_result"
    }
   ],
   "source": [
    "s"
   ]
  },
  {
   "cell_type": "code",
   "execution_count": 21,
   "id": "6d4b465d-c45f-4e69-91bd-4a5730fad680",
   "metadata": {
    "tags": []
   },
   "outputs": [],
   "source": [
    "s1 = pd.Series(s.apply(np.max))"
   ]
  },
  {
   "cell_type": "code",
   "execution_count": 22,
   "id": "c9842a81-a3c1-4957-baed-74aab59036a4",
   "metadata": {
    "tags": []
   },
   "outputs": [
    {
     "data": {
      "text/plain": [
       "0    1\n",
       "1    2\n",
       "2    3\n",
       "3    4\n",
       "dtype: int32"
      ]
     },
     "execution_count": 22,
     "metadata": {},
     "output_type": "execute_result"
    }
   ],
   "source": [
    "s1"
   ]
  },
  {
   "cell_type": "code",
   "execution_count": 24,
   "id": "8efcbffc-c916-461a-ace8-c0821620c3a7",
   "metadata": {
    "tags": []
   },
   "outputs": [
    {
     "data": {
      "text/plain": [
       "array([1, 2, 3, 4])"
      ]
     },
     "execution_count": 24,
     "metadata": {},
     "output_type": "execute_result"
    }
   ],
   "source": [
    "n = np.array([1,2,3,4])\n",
    "n # array "
   ]
  },
  {
   "cell_type": "code",
   "execution_count": 26,
   "id": "21650d3d-6a9a-48eb-b8f4-a4a03742b68e",
   "metadata": {
    "tags": []
   },
   "outputs": [
    {
     "data": {
      "text/plain": [
       "array([[1, 2, 3, 4],\n",
       "       [1, 2, 3, 4]])"
      ]
     },
     "execution_count": 26,
     "metadata": {},
     "output_type": "execute_result"
    }
   ],
   "source": [
    "m = np.array(\n",
    "    [\n",
    "        [1,2,3,4],\n",
    "        [1,2,3,4]\n",
    "])\n",
    "m # matriz"
   ]
  },
  {
   "cell_type": "code",
   "execution_count": 27,
   "id": "ddb17213-796e-4565-a5b1-007a6673462d",
   "metadata": {
    "tags": []
   },
   "outputs": [
    {
     "data": {
      "text/plain": [
       "array([[[1, 2, 3, 4],\n",
       "        [1, 2, 3, 4]],\n",
       "\n",
       "       [[1, 2, 3, 4],\n",
       "        [1, 2, 3, 4]]])"
      ]
     },
     "execution_count": 27,
     "metadata": {},
     "output_type": "execute_result"
    }
   ],
   "source": [
    "t = np.array(\n",
    "    [\n",
    "        [[1, 2, 3, 4],\n",
    "       [1, 2, 3, 4]],\n",
    "        [[1, 2, 3, 4],\n",
    "       [1, 2, 3, 4]]\n",
    "    ]\n",
    ")\n",
    "t # tensor"
   ]
  },
  {
   "cell_type": "code",
   "execution_count": 47,
   "id": "ead785c9-9b72-4ec8-9fd3-c0816424b4c1",
   "metadata": {
    "tags": []
   },
   "outputs": [
    {
     "data": {
      "text/plain": [
       "array([[[0., 0.],\n",
       "        [0., 0.]],\n",
       "\n",
       "       [[0., 0.],\n",
       "        [0., 0.]],\n",
       "\n",
       "       [[0., 0.],\n",
       "        [0., 0.]]])"
      ]
     },
     "execution_count": 47,
     "metadata": {},
     "output_type": "execute_result"
    }
   ],
   "source": [
    "npz = np.zeros(shape=(3, 2, 2))\n",
    "npz"
   ]
  },
  {
   "cell_type": "code",
   "execution_count": 49,
   "id": "bcba5a05-779e-4055-8df6-a9d4d1a1384e",
   "metadata": {
    "tags": []
   },
   "outputs": [],
   "source": [
    "# npz[0][1][1] = 10"
   ]
  },
  {
   "cell_type": "code",
   "execution_count": 52,
   "id": "16c6b992-3422-429b-8948-8bc3136ed0b2",
   "metadata": {
    "tags": []
   },
   "outputs": [
    {
     "data": {
      "text/plain": [
       "array([[[1., 1.],\n",
       "        [1., 1.]],\n",
       "\n",
       "       [[1., 1.],\n",
       "        [1., 1.]],\n",
       "\n",
       "       [[1., 1.],\n",
       "        [1., 1.]]])"
      ]
     },
     "execution_count": 52,
     "metadata": {},
     "output_type": "execute_result"
    }
   ],
   "source": [
    "npo = np.ones(shape=(3, 2, 2))\n",
    "npo"
   ]
  },
  {
   "cell_type": "code",
   "execution_count": 104,
   "id": "8ac95498-cb56-4c8b-987e-b1ab387af862",
   "metadata": {
    "tags": []
   },
   "outputs": [
    {
     "data": {
      "text/plain": [
       "array([[[0. , 0. , 0.3, 1. , 0. , 0. , 1. , 1. , 1. , 1. ],\n",
       "        [1. , 1. , 1. , 0. , 0. , 1. , 0.5, 0. , 0. , 1. ]]])"
      ]
     },
     "execution_count": 104,
     "metadata": {},
     "output_type": "execute_result"
    }
   ],
   "source": [
    "npe = np.empty((1, 2, 10))\n",
    "npe"
   ]
  },
  {
   "cell_type": "code",
   "execution_count": 85,
   "id": "651d070f-f6c4-49f7-b69c-db95ef35af8f",
   "metadata": {
    "tags": []
   },
   "outputs": [
    {
     "data": {
      "text/plain": [
       "array([ 1,  4,  7, 10, 13, 16, 19])"
      ]
     },
     "execution_count": 85,
     "metadata": {},
     "output_type": "execute_result"
    }
   ],
   "source": [
    "npa = np.arange(1, 20, 3)\n",
    "npa"
   ]
  },
  {
   "cell_type": "code",
   "execution_count": 100,
   "id": "13e60cd3-b236-4dcf-a4fa-7dc9f197aab3",
   "metadata": {
    "tags": []
   },
   "outputs": [
    {
     "data": {
      "text/plain": [
       "array([['x', 'x', 'x', 'x', 'x', 'x', 'x', 'x', 'x', 'x'],\n",
       "       ['x', 'x', 'x', 'x', 'x', 'x', 'x', 'x', 'x', 'x'],\n",
       "       ['x', 'x', 'x', 'x', 'x', 'x', 'x', 'x', 'x', 'x'],\n",
       "       ['x', 'x', 'x', 'x', 'x', 'x', 'x', 'x', 'x', 'x'],\n",
       "       ['x', 'x', 'x', 'x', 'x', 'x', 'x', 'x', 'x', 'x'],\n",
       "       ['x', 'x', 'x', 'x', 'x', 'x', 'x', 'x', 'x', 'x'],\n",
       "       ['x', 'x', 'x', 'x', 'x', 'x', 'x', 'x', 'x', 'x'],\n",
       "       ['x', 'x', 'x', 'x', 'x', 'x', 'x', 'x', 'x', 'x'],\n",
       "       ['x', 'x', 'x', 'x', 'x', 'x', 'x', 'x', 'x', 'x'],\n",
       "       ['x', 'x', 'x', 'x', 'x', 'x', 'x', 'x', 'x', 'x']], dtype='<U1')"
      ]
     },
     "execution_count": 100,
     "metadata": {},
     "output_type": "execute_result"
    }
   ],
   "source": [
    "npful = np.full((10,10), \"x\")\n",
    "npful"
   ]
  },
  {
   "cell_type": "code",
   "execution_count": 106,
   "id": "e93116e0-4811-41c3-8ea8-f8f2999e9527",
   "metadata": {
    "tags": []
   },
   "outputs": [],
   "source": [
    "npful[0][2] = \"o\""
   ]
  },
  {
   "cell_type": "code",
   "execution_count": 107,
   "id": "98f12037-1649-456e-b1ee-6e6c44c10cb0",
   "metadata": {
    "tags": []
   },
   "outputs": [
    {
     "data": {
      "text/plain": [
       "array([['x', 'x', 'o', 'x', 'x', 'x', 'x', 'x', 'x', 'x'],\n",
       "       ['x', 'x', 'x', 'x', 'x', 'x', 'x', 'x', 'x', 'x'],\n",
       "       ['x', 'x', 'x', 'x', 'x', 'x', 'x', 'x', 'x', 'x'],\n",
       "       ['x', 'x', 'x', 'x', 'x', 'x', 'x', 'x', 'x', 'x'],\n",
       "       ['x', 'x', 'x', 'x', 'x', 'x', 'x', 'x', 'x', 'x'],\n",
       "       ['x', 'x', 'x', 'x', 'x', 'x', 'x', 'x', 'x', 'x'],\n",
       "       ['x', 'x', 'x', 'x', 'x', 'x', 'x', 'x', 'x', 'x'],\n",
       "       ['x', 'x', 'x', 'x', 'x', 'x', 'x', 'x', 'x', 'x'],\n",
       "       ['x', 'x', 'x', 'x', 'x', 'x', 'x', 'x', 'x', 'x'],\n",
       "       ['x', 'x', 'x', 'x', 'x', 'x', 'x', 'x', 'x', 'x']], dtype='<U1')"
      ]
     },
     "execution_count": 107,
     "metadata": {},
     "output_type": "execute_result"
    }
   ],
   "source": [
    "npful"
   ]
  },
  {
   "cell_type": "code",
   "execution_count": null,
   "id": "998c245f-e5db-401c-8309-327e4afc7bb9",
   "metadata": {},
   "outputs": [],
   "source": []
  }
 ],
 "metadata": {
  "kernelspec": {
   "display_name": "Python 3 (ipykernel)",
   "language": "python",
   "name": "python3"
  },
  "language_info": {
   "codemirror_mode": {
    "name": "ipython",
    "version": 3
   },
   "file_extension": ".py",
   "mimetype": "text/x-python",
   "name": "python",
   "nbconvert_exporter": "python",
   "pygments_lexer": "ipython3",
   "version": "3.11.5"
  }
 },
 "nbformat": 4,
 "nbformat_minor": 5
}
