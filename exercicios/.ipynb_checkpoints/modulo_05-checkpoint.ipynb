{
 "cells": [
  {
   "cell_type": "markdown",
   "id": "34b43c91-e701-4763-ae21-2629cb069daf",
   "metadata": {},
   "source": [
    "# Modulo 05"
   ]
  },
  {
   "cell_type": "markdown",
   "id": "12c16410-e0c1-4bfb-8cd3-df630b79e9e2",
   "metadata": {},
   "source": [
    "### Laboratório 1\n",
    "\n",
    "Usar o dataframe gerado no Laboratório do Módulo 04. Com o componente Matplotlib, gerar um gráfico relacionando as cidades com as quantidades de pedidos realizada. Considerar os elementos contendo a quantidade menor que 20, em um gráfico de barras."
   ]
  },
  {
   "cell_type": "code",
   "execution_count": 1,
   "id": "ec35785b-5d75-4c6b-bde3-3ce496f5504d",
   "metadata": {
    "tags": []
   },
   "outputs": [],
   "source": [
    "import pandas as pd\n",
    "import matplotlib.pyplot as plt"
   ]
  },
  {
   "cell_type": "code",
   "execution_count": 4,
   "id": "b6738467-a5cb-4ca2-9b04-94b32a5153c6",
   "metadata": {
    "tags": []
   },
   "outputs": [],
   "source": [
    "df = pd.read_csv(\"../arquivos_gerados/modulo_04.csv\", index_col=\"Unnamed: 0\")"
   ]
  },
  {
   "cell_type": "code",
   "execution_count": 5,
   "id": "0db7282f-c111-458b-80a3-a916da6b8b53",
   "metadata": {
    "tags": []
   },
   "outputs": [
    {
     "data": {
      "text/html": [
       "<div>\n",
       "<style scoped>\n",
       "    .dataframe tbody tr th:only-of-type {\n",
       "        vertical-align: middle;\n",
       "    }\n",
       "\n",
       "    .dataframe tbody tr th {\n",
       "        vertical-align: top;\n",
       "    }\n",
       "\n",
       "    .dataframe thead th {\n",
       "        text-align: right;\n",
       "    }\n",
       "</style>\n",
       "<table border=\"1\" class=\"dataframe\">\n",
       "  <thead>\n",
       "    <tr style=\"text-align: right;\">\n",
       "      <th></th>\n",
       "      <th>CODCLI</th>\n",
       "      <th>NOME</th>\n",
       "      <th>CIDADE</th>\n",
       "      <th>QTD</th>\n",
       "    </tr>\n",
       "  </thead>\n",
       "  <tbody>\n",
       "    <tr>\n",
       "      <th>0</th>\n",
       "      <td>3</td>\n",
       "      <td>AUGUSTO FOLHINHAS LTDA</td>\n",
       "      <td>MARILIA</td>\n",
       "      <td>16</td>\n",
       "    </tr>\n",
       "    <tr>\n",
       "      <th>1</th>\n",
       "      <td>4</td>\n",
       "      <td>ASSEIS BRINDES COMERCIO INDUSTRIA LTDA</td>\n",
       "      <td>ASSIS</td>\n",
       "      <td>23</td>\n",
       "    </tr>\n",
       "  </tbody>\n",
       "</table>\n",
       "</div>"
      ],
      "text/plain": [
       "   CODCLI                                    NOME   CIDADE  QTD\n",
       "0       3                  AUGUSTO FOLHINHAS LTDA  MARILIA   16\n",
       "1       4  ASSEIS BRINDES COMERCIO INDUSTRIA LTDA    ASSIS   23"
      ]
     },
     "execution_count": 5,
     "metadata": {},
     "output_type": "execute_result"
    }
   ],
   "source": [
    "df.head(2)"
   ]
  },
  {
   "cell_type": "code",
   "execution_count": 8,
   "id": "2ace2a1e-04ff-49ce-ae15-701ea8894d38",
   "metadata": {
    "tags": []
   },
   "outputs": [
    {
     "data": {
      "text/plain": [
       "(540, 4)"
      ]
     },
     "execution_count": 8,
     "metadata": {},
     "output_type": "execute_result"
    }
   ],
   "source": [
    "df.shape"
   ]
  },
  {
   "cell_type": "code",
   "execution_count": 6,
   "id": "85660372-907f-4dd5-a882-2a97fe99d109",
   "metadata": {
    "tags": []
   },
   "outputs": [],
   "source": [
    "selecao = df.QTD < 20\n",
    "\n",
    "df_a_plotar = df[selecao]"
   ]
  },
  {
   "cell_type": "code",
   "execution_count": 7,
   "id": "d93a8a60-3f6c-449d-a32f-ce3c0a71f6bf",
   "metadata": {
    "tags": []
   },
   "outputs": [
    {
     "data": {
      "text/plain": [
       "(265, 4)"
      ]
     },
     "execution_count": 7,
     "metadata": {},
     "output_type": "execute_result"
    }
   ],
   "source": [
    "df_a_plotar.shape"
   ]
  },
  {
   "cell_type": "code",
   "execution_count": 9,
   "id": "022593d6-7f38-4d66-890a-4689308d8327",
   "metadata": {
    "tags": []
   },
   "outputs": [
    {
     "name": "stdout",
     "output_type": "stream",
     "text": [
      "<class 'pandas.core.frame.DataFrame'>\n",
      "Index: 265 entries, 0 to 536\n",
      "Data columns (total 4 columns):\n",
      " #   Column  Non-Null Count  Dtype \n",
      "---  ------  --------------  ----- \n",
      " 0   CODCLI  265 non-null    int64 \n",
      " 1   NOME    265 non-null    object\n",
      " 2   CIDADE  265 non-null    object\n",
      " 3   QTD     265 non-null    int64 \n",
      "dtypes: int64(2), object(2)\n",
      "memory usage: 10.4+ KB\n"
     ]
    }
   ],
   "source": [
    "df_a_plotar.info()"
   ]
  },
  {
   "cell_type": "code",
   "execution_count": 10,
   "id": "0b29295f-6e43-476b-b0ac-f6f51cde42d7",
   "metadata": {
    "tags": []
   },
   "outputs": [],
   "source": [
    "df_a_plotar = df_a_plotar.astype(\n",
    "    {\n",
    "        \"NOME\":\"category\",\n",
    "        \"CIDADE\": \"category\"\n",
    "    }\n",
    ")"
   ]
  },
  {
   "cell_type": "code",
   "execution_count": 11,
   "id": "615b2a90-c982-47ad-9951-894ff019f26f",
   "metadata": {
    "tags": []
   },
   "outputs": [
    {
     "name": "stdout",
     "output_type": "stream",
     "text": [
      "<class 'pandas.core.frame.DataFrame'>\n",
      "Index: 265 entries, 0 to 536\n",
      "Data columns (total 4 columns):\n",
      " #   Column  Non-Null Count  Dtype   \n",
      "---  ------  --------------  -----   \n",
      " 0   CODCLI  265 non-null    int64   \n",
      " 1   NOME    265 non-null    category\n",
      " 2   CIDADE  265 non-null    category\n",
      " 3   QTD     265 non-null    int64   \n",
      "dtypes: category(2), int64(2)\n",
      "memory usage: 22.2 KB\n"
     ]
    }
   ],
   "source": [
    "df_a_plotar.info()"
   ]
  },
  {
   "cell_type": "code",
   "execution_count": 12,
   "id": "82013495-12d0-407a-ba99-2c14bb8304b5",
   "metadata": {
    "tags": []
   },
   "outputs": [
    {
     "data": {
      "text/plain": [
       "CODCLI    0\n",
       "NOME      0\n",
       "CIDADE    0\n",
       "QTD       0\n",
       "dtype: int64"
      ]
     },
     "execution_count": 12,
     "metadata": {},
     "output_type": "execute_result"
    }
   ],
   "source": [
    "# Verificar se tem nulos\n",
    "df_a_plotar.isna().sum()"
   ]
  },
  {
   "cell_type": "code",
   "execution_count": 31,
   "id": "c0367d5e-ff14-47ce-b21e-1b3b8bbc7814",
   "metadata": {
    "tags": []
   },
   "outputs": [
    {
     "data": {
      "image/png": "[encoded data removed]",
      "text/plain": [
       "<Figure size 1500x400 with 1 Axes>"
      ]
     },
     "metadata": {},
     "output_type": "display_data"
    }
   ],
   "source": [
    "plt.figure(figsize=(15,4))\n",
    "\n",
    "plt.bar(\n",
    "    df[0:5].CIDADE,\n",
    "    df[0:5].QTD\n",
    ")\n",
    "\n",
    "plt.show()"
   ]
  },
  {
   "cell_type": "code",
   "execution_count": null,
   "id": "aa7732aa-776c-4f8f-a9c8-4f833b6df7f4",
   "metadata": {},
   "outputs": [],
   "source": []
  }
 ],
 "metadata": {
  "kernelspec": {
   "display_name": "Python 3 (ipykernel)",
   "language": "python",
   "name": "python3"
  },
  "language_info": {
   "codemirror_mode": {
    "name": "ipython",
    "version": 3
   },
   "file_extension": ".py",
   "mimetype": "text/x-python",
   "name": "python",
   "nbconvert_exporter": "python",
   "pygments_lexer": "ipython3",
   "version": "3.11.5"
  }
 },
 "nbformat": 4,
 "nbformat_minor": 5
}
