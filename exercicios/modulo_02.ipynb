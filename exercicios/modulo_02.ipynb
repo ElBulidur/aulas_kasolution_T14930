{
 "cells": [
  {
   "cell_type": "markdown",
   "id": "fbb261af-5090-4e4f-9831-9f610f0a16ae",
   "metadata": {},
   "source": [
    "# Laboratórios do Módulo 2"
   ]
  },
  {
   "cell_type": "markdown",
   "id": "0dd12b3a-e94d-4abd-8141-e00487102d3f",
   "metadata": {},
   "source": [
    "### Laboratório 1\n",
    "\n",
    "Considere os arquivos clientes.csv e pedidos.csv. Escrever um programa que:\n",
    "\n",
    "- Leia os dois arquivos e os armazene em dataframes;\n",
    "- Use a função merge() para combinar os clientes e os pedidos, destacando a quantidade de pedidos por cliente."
   ]
  },
  {
   "cell_type": "code",
   "execution_count": 1,
   "id": "f3f122e9-2222-4226-aff1-f67df6427c2c",
   "metadata": {
    "tags": []
   },
   "outputs": [],
   "source": [
    "import pandas as pd"
   ]
  },
  {
   "cell_type": "code",
   "execution_count": 3,
   "id": "c3e5cde5-c0ca-40e1-b14c-f644f69412a8",
   "metadata": {
    "tags": []
   },
   "outputs": [],
   "source": [
    "df_clientes = pd.read_csv(\"../datasets/clientes.csv\", sep=\";\")"
   ]
  },
  {
   "cell_type": "code",
   "execution_count": 5,
   "id": "1b89491b-e2a8-40dc-b7b7-d8a7b2af11bc",
   "metadata": {
    "tags": []
   },
   "outputs": [
    {
     "data": {
      "text/html": [
       "<div>\n",
       "<style scoped>\n",
       "    .dataframe tbody tr th:only-of-type {\n",
       "        vertical-align: middle;\n",
       "    }\n",
       "\n",
       "    .dataframe tbody tr th {\n",
       "        vertical-align: top;\n",
       "    }\n",
       "\n",
       "    .dataframe thead th {\n",
       "        text-align: right;\n",
       "    }\n",
       "</style>\n",
       "<table border=\"1\" class=\"dataframe\">\n",
       "  <thead>\n",
       "    <tr style=\"text-align: right;\">\n",
       "      <th></th>\n",
       "      <th>CODCLI</th>\n",
       "      <th>NOME</th>\n",
       "      <th>FANTASIA</th>\n",
       "      <th>ENDERECO</th>\n",
       "      <th>BAIRRO</th>\n",
       "      <th>CIDADE</th>\n",
       "      <th>ESTADO</th>\n",
       "      <th>CEP</th>\n",
       "      <th>END_COB</th>\n",
       "      <th>BAI_COB</th>\n",
       "      <th>...</th>\n",
       "      <th>EST_COB</th>\n",
       "      <th>CEP_COB</th>\n",
       "      <th>CNPJ</th>\n",
       "      <th>INSCRICAO</th>\n",
       "      <th>FONE1</th>\n",
       "      <th>FAX</th>\n",
       "      <th>E_MAIL</th>\n",
       "      <th>DATA_CAD</th>\n",
       "      <th>ICMS</th>\n",
       "      <th>REVENDA_CONSUMIDOR</th>\n",
       "    </tr>\n",
       "  </thead>\n",
       "  <tbody>\n",
       "    <tr>\n",
       "      <th>0</th>\n",
       "      <td>3</td>\n",
       "      <td>AUGUSTO FOLHINHAS LTDA</td>\n",
       "      <td>AUGUSTO F. LTDA</td>\n",
       "      <td>RODOVIA SP 294 KM 453</td>\n",
       "      <td>MARILIA</td>\n",
       "      <td>MARILIA</td>\n",
       "      <td>SP</td>\n",
       "      <td>17500000.0</td>\n",
       "      <td>RODOVIA SP 294 KM 453</td>\n",
       "      <td>NaN</td>\n",
       "      <td>...</td>\n",
       "      <td>SP</td>\n",
       "      <td>17500000.0</td>\n",
       "      <td>55230056000124</td>\n",
       "      <td>438.027.140-117</td>\n",
       "      <td>0144331774</td>\n",
       "      <td>NaN</td>\n",
       "      <td>NaN</td>\n",
       "      <td>1997-02-06 00:00:00.000</td>\n",
       "      <td>18.0</td>\n",
       "      <td>C</td>\n",
       "    </tr>\n",
       "    <tr>\n",
       "      <th>1</th>\n",
       "      <td>4</td>\n",
       "      <td>ASSEIS BRINDES COMERCIO INDUSTRIA LTDA</td>\n",
       "      <td>ASSIS BRINDES LTDA</td>\n",
       "      <td>R.COMENDADOR JOSE ZILLO,401</td>\n",
       "      <td>PQ. DOS OCACIS</td>\n",
       "      <td>ASSIS</td>\n",
       "      <td>SP</td>\n",
       "      <td>19800000.0</td>\n",
       "      <td>R.COMENDADOR JOSE ZILLO,401</td>\n",
       "      <td>PQ. DOS OCACIS</td>\n",
       "      <td>...</td>\n",
       "      <td>SP</td>\n",
       "      <td>19800000.0</td>\n",
       "      <td>47578117000110</td>\n",
       "      <td>189.017.896.112</td>\n",
       "      <td>018 3223490</td>\n",
       "      <td>018 3243927</td>\n",
       "      <td>PAULO Angelino</td>\n",
       "      <td>1997-02-06 00:00:00.000</td>\n",
       "      <td>18.0</td>\n",
       "      <td>C</td>\n",
       "    </tr>\n",
       "  </tbody>\n",
       "</table>\n",
       "<p>2 rows × 21 columns</p>\n",
       "</div>"
      ],
      "text/plain": [
       "   CODCLI                                    NOME            FANTASIA  \\\n",
       "0       3                  AUGUSTO FOLHINHAS LTDA     AUGUSTO F. LTDA   \n",
       "1       4  ASSEIS BRINDES COMERCIO INDUSTRIA LTDA  ASSIS BRINDES LTDA   \n",
       "\n",
       "                      ENDERECO          BAIRRO   CIDADE ESTADO         CEP  \\\n",
       "0        RODOVIA SP 294 KM 453         MARILIA  MARILIA     SP  17500000.0   \n",
       "1  R.COMENDADOR JOSE ZILLO,401  PQ. DOS OCACIS    ASSIS     SP  19800000.0   \n",
       "\n",
       "                       END_COB         BAI_COB  ... EST_COB     CEP_COB  \\\n",
       "0        RODOVIA SP 294 KM 453             NaN  ...      SP  17500000.0   \n",
       "1  R.COMENDADOR JOSE ZILLO,401  PQ. DOS OCACIS  ...      SP  19800000.0   \n",
       "\n",
       "             CNPJ        INSCRICAO         FONE1           FAX  \\\n",
       "0  55230056000124  438.027.140-117    0144331774           NaN   \n",
       "1  47578117000110  189.017.896.112   018 3223490   018 3243927   \n",
       "\n",
       "           E_MAIL                 DATA_CAD  ICMS  REVENDA_CONSUMIDOR  \n",
       "0             NaN  1997-02-06 00:00:00.000  18.0                   C  \n",
       "1  PAULO Angelino  1997-02-06 00:00:00.000  18.0                   C  \n",
       "\n",
       "[2 rows x 21 columns]"
      ]
     },
     "execution_count": 5,
     "metadata": {},
     "output_type": "execute_result"
    }
   ],
   "source": [
    "df_clientes.head(2)"
   ]
  },
  {
   "cell_type": "code",
   "execution_count": 7,
   "id": "0b576a9c-e4f4-45f3-974b-c064d14d6b32",
   "metadata": {
    "tags": []
   },
   "outputs": [],
   "source": [
    "df_pedidos = pd.read_csv(\"../datasets/pedidos.csv\", sep=\";\")"
   ]
  },
  {
   "cell_type": "code",
   "execution_count": 33,
   "id": "c5c8208b-734a-465f-a264-e486c5eb4e39",
   "metadata": {
    "tags": []
   },
   "outputs": [
    {
     "data": {
      "text/html": [
       "<div>\n",
       "<style scoped>\n",
       "    .dataframe tbody tr th:only-of-type {\n",
       "        vertical-align: middle;\n",
       "    }\n",
       "\n",
       "    .dataframe tbody tr th {\n",
       "        vertical-align: top;\n",
       "    }\n",
       "\n",
       "    .dataframe thead th {\n",
       "        text-align: right;\n",
       "    }\n",
       "</style>\n",
       "<table border=\"1\" class=\"dataframe\">\n",
       "  <thead>\n",
       "    <tr style=\"text-align: right;\">\n",
       "      <th></th>\n",
       "      <th>NUM_PEDIDO</th>\n",
       "      <th>CODCLI</th>\n",
       "      <th>CODVEN</th>\n",
       "      <th>DATA_EMISSAO</th>\n",
       "      <th>VLR_TOTAL</th>\n",
       "      <th>SITUACAO</th>\n",
       "      <th>OBSERVACOES</th>\n",
       "    </tr>\n",
       "  </thead>\n",
       "  <tbody>\n",
       "    <tr>\n",
       "      <th>0</th>\n",
       "      <td>1</td>\n",
       "      <td>5</td>\n",
       "      <td>3</td>\n",
       "      <td>2005-03-20 01:53:13.497</td>\n",
       "      <td>2.0</td>\n",
       "      <td>E</td>\n",
       "      <td>NaN</td>\n",
       "    </tr>\n",
       "    <tr>\n",
       "      <th>1</th>\n",
       "      <td>2</td>\n",
       "      <td>431</td>\n",
       "      <td>2</td>\n",
       "      <td>2012-12-18 01:53:13.497</td>\n",
       "      <td>30.7</td>\n",
       "      <td>E</td>\n",
       "      <td>Vazio</td>\n",
       "    </tr>\n",
       "  </tbody>\n",
       "</table>\n",
       "</div>"
      ],
      "text/plain": [
       "   NUM_PEDIDO  CODCLI  CODVEN             DATA_EMISSAO  VLR_TOTAL SITUACAO  \\\n",
       "0           1       5       3  2005-03-20 01:53:13.497        2.0        E   \n",
       "1           2     431       2  2012-12-18 01:53:13.497       30.7        E   \n",
       "\n",
       "  OBSERVACOES  \n",
       "0         NaN  \n",
       "1       Vazio  "
      ]
     },
     "execution_count": 33,
     "metadata": {},
     "output_type": "execute_result"
    }
   ],
   "source": [
    "df_pedidos.head(2)"
   ]
  },
  {
   "cell_type": "code",
   "execution_count": 12,
   "id": "078063cc-f1f6-4098-a155-ec9f0f1e1f1a",
   "metadata": {
    "tags": []
   },
   "outputs": [
    {
     "data": {
      "text/plain": [
       "(562, 21)"
      ]
     },
     "execution_count": 12,
     "metadata": {},
     "output_type": "execute_result"
    }
   ],
   "source": [
    "df_clientes.shape"
   ]
  },
  {
   "cell_type": "code",
   "execution_count": 13,
   "id": "9e5679f0-fe4d-47a5-9ce1-55cc43849392",
   "metadata": {
    "tags": []
   },
   "outputs": [
    {
     "data": {
      "text/plain": [
       "(11322, 7)"
      ]
     },
     "execution_count": 13,
     "metadata": {},
     "output_type": "execute_result"
    }
   ],
   "source": [
    "df_pedidos.shape"
   ]
  },
  {
   "cell_type": "code",
   "execution_count": 110,
   "id": "003ec94e-35df-4ead-a70d-b3b027e6f885",
   "metadata": {
    "tags": []
   },
   "outputs": [],
   "source": [
    "df_pedidos_por_cliente = pd.merge(\n",
    "    df_clientes[[\"CODCLI\", \"NOME\"]],\n",
    "    df_pedidos[[\"CODCLI\", \"VLR_TOTAL\"]], on=\"CODCLI\"\n",
    ")"
   ]
  },
  {
   "cell_type": "code",
   "execution_count": 111,
   "id": "ef931108-9be2-4674-b841-e480d184f690",
   "metadata": {
    "tags": []
   },
   "outputs": [
    {
     "data": {
      "text/plain": [
       "(11322, 3)"
      ]
     },
     "execution_count": 111,
     "metadata": {},
     "output_type": "execute_result"
    }
   ],
   "source": [
    "df_pedidos_por_cliente.shape"
   ]
  },
  {
   "cell_type": "code",
   "execution_count": 112,
   "id": "9205a625-9a25-4c2b-ad9b-adad12e353ba",
   "metadata": {
    "tags": []
   },
   "outputs": [
    {
     "data": {
      "text/html": [
       "<div>\n",
       "<style scoped>\n",
       "    .dataframe tbody tr th:only-of-type {\n",
       "        vertical-align: middle;\n",
       "    }\n",
       "\n",
       "    .dataframe tbody tr th {\n",
       "        vertical-align: top;\n",
       "    }\n",
       "\n",
       "    .dataframe thead th {\n",
       "        text-align: right;\n",
       "    }\n",
       "</style>\n",
       "<table border=\"1\" class=\"dataframe\">\n",
       "  <thead>\n",
       "    <tr style=\"text-align: right;\">\n",
       "      <th></th>\n",
       "      <th>CODCLI</th>\n",
       "      <th>NOME</th>\n",
       "      <th>VLR_TOTAL</th>\n",
       "    </tr>\n",
       "  </thead>\n",
       "  <tbody>\n",
       "    <tr>\n",
       "      <th>11317</th>\n",
       "      <td>626</td>\n",
       "      <td>PROGERAL IND. DE ARTEFATOS PLASTICOS LTDA.</td>\n",
       "      <td>2119.09</td>\n",
       "    </tr>\n",
       "    <tr>\n",
       "      <th>11318</th>\n",
       "      <td>626</td>\n",
       "      <td>PROGERAL IND. DE ARTEFATOS PLASTICOS LTDA.</td>\n",
       "      <td>5880.46</td>\n",
       "    </tr>\n",
       "    <tr>\n",
       "      <th>11319</th>\n",
       "      <td>626</td>\n",
       "      <td>PROGERAL IND. DE ARTEFATOS PLASTICOS LTDA.</td>\n",
       "      <td>1053.95</td>\n",
       "    </tr>\n",
       "    <tr>\n",
       "      <th>11320</th>\n",
       "      <td>626</td>\n",
       "      <td>PROGERAL IND. DE ARTEFATOS PLASTICOS LTDA.</td>\n",
       "      <td>2257.57</td>\n",
       "    </tr>\n",
       "    <tr>\n",
       "      <th>11321</th>\n",
       "      <td>626</td>\n",
       "      <td>PROGERAL IND. DE ARTEFATOS PLASTICOS LTDA.</td>\n",
       "      <td>10112.21</td>\n",
       "    </tr>\n",
       "  </tbody>\n",
       "</table>\n",
       "</div>"
      ],
      "text/plain": [
       "       CODCLI                                        NOME  VLR_TOTAL\n",
       "11317     626  PROGERAL IND. DE ARTEFATOS PLASTICOS LTDA.    2119.09\n",
       "11318     626  PROGERAL IND. DE ARTEFATOS PLASTICOS LTDA.    5880.46\n",
       "11319     626  PROGERAL IND. DE ARTEFATOS PLASTICOS LTDA.    1053.95\n",
       "11320     626  PROGERAL IND. DE ARTEFATOS PLASTICOS LTDA.    2257.57\n",
       "11321     626  PROGERAL IND. DE ARTEFATOS PLASTICOS LTDA.   10112.21"
      ]
     },
     "execution_count": 112,
     "metadata": {},
     "output_type": "execute_result"
    }
   ],
   "source": [
    "df_pedidos_por_cliente.tail()"
   ]
  },
  {
   "cell_type": "code",
   "execution_count": 115,
   "id": "0eef2a46-23fd-4df5-8633-2e2bd34b48a1",
   "metadata": {
    "tags": []
   },
   "outputs": [
    {
     "data": {
      "text/html": [
       "<div>\n",
       "<style scoped>\n",
       "    .dataframe tbody tr th:only-of-type {\n",
       "        vertical-align: middle;\n",
       "    }\n",
       "\n",
       "    .dataframe tbody tr th {\n",
       "        vertical-align: top;\n",
       "    }\n",
       "\n",
       "    .dataframe thead th {\n",
       "        text-align: right;\n",
       "    }\n",
       "</style>\n",
       "<table border=\"1\" class=\"dataframe\">\n",
       "  <thead>\n",
       "    <tr style=\"text-align: right;\">\n",
       "      <th></th>\n",
       "      <th>CODCLI</th>\n",
       "      <th>NOME</th>\n",
       "      <th>PEDIDOS</th>\n",
       "    </tr>\n",
       "  </thead>\n",
       "  <tbody>\n",
       "    <tr>\n",
       "      <th>0</th>\n",
       "      <td>3</td>\n",
       "      <td>AUGUSTO FOLHINHAS LTDA</td>\n",
       "      <td>1</td>\n",
       "    </tr>\n",
       "    <tr>\n",
       "      <th>1</th>\n",
       "      <td>4</td>\n",
       "      <td>ASSEIS BRINDES COMERCIO INDUSTRIA LTDA</td>\n",
       "      <td>1</td>\n",
       "    </tr>\n",
       "    <tr>\n",
       "      <th>2</th>\n",
       "      <td>5</td>\n",
       "      <td>AVEL APOLIMARIO VEICULOS S.A</td>\n",
       "      <td>1</td>\n",
       "    </tr>\n",
       "    <tr>\n",
       "      <th>3</th>\n",
       "      <td>6</td>\n",
       "      <td>ANTONIO M.DE SOUZA</td>\n",
       "      <td>1</td>\n",
       "    </tr>\n",
       "    <tr>\n",
       "      <th>4</th>\n",
       "      <td>7</td>\n",
       "      <td>ERISTON SERIGRAFIA ESTRUT.ART.PLAST.LTDA.-ME</td>\n",
       "      <td>1</td>\n",
       "    </tr>\n",
       "  </tbody>\n",
       "</table>\n",
       "</div>"
      ],
      "text/plain": [
       "   CODCLI                                          NOME  PEDIDOS\n",
       "0       3                        AUGUSTO FOLHINHAS LTDA        1\n",
       "1       4        ASSEIS BRINDES COMERCIO INDUSTRIA LTDA        1\n",
       "2       5                  AVEL APOLIMARIO VEICULOS S.A        1\n",
       "3       6                            ANTONIO M.DE SOUZA        1\n",
       "4       7  ERISTON SERIGRAFIA ESTRUT.ART.PLAST.LTDA.-ME        1"
      ]
     },
     "execution_count": 115,
     "metadata": {},
     "output_type": "execute_result"
    }
   ],
   "source": [
    "df_pedidos_por_cliente = df_pedidos_por_cliente.groupby([\"CODCLI\", \"NOME\"]).count().reset_index()\n",
    "df_pedidos_por_cliente.columns = [\"CODCLI\", \"NOME\", \"PEDIDOS\"]\n",
    "df_pedidos_por_cliente.head()"
   ]
  },
  {
   "cell_type": "code",
   "execution_count": 101,
   "id": "6d9ed016-d436-42a5-8845-9b6623b18a69",
   "metadata": {
    "tags": []
   },
   "outputs": [],
   "source": [
    "# df_pedidos_por_cliente.sort_values(by=['VLR_TOTAL']).head()"
   ]
  },
  {
   "cell_type": "code",
   "execution_count": 75,
   "id": "52b00660-90d2-4182-82fb-aeefd3810b2e",
   "metadata": {
    "tags": []
   },
   "outputs": [],
   "source": [
    "count_1 = df_pedidos_por_cliente[df_pedidos_por_cliente.NOME == \"AUGUSTO FOLHINHAS LTDA\"].VLR_TOTAL.value_counts()\n",
    "sort_2 = df_pedidos_por_cliente[df_pedidos_por_cliente.NOME == \"AUGUSTO FOLHINHAS LTDA\"].VLR_TOTAL.sort_values()"
   ]
  },
  {
   "cell_type": "code",
   "execution_count": 76,
   "id": "831c3e3c-f3df-4424-a6cf-b9960d039963",
   "metadata": {
    "tags": []
   },
   "outputs": [
    {
     "data": {
      "text/plain": [
       "pandas.core.series.Series"
      ]
     },
     "execution_count": 76,
     "metadata": {},
     "output_type": "execute_result"
    }
   ],
   "source": [
    "type(count_1)"
   ]
  },
  {
   "cell_type": "code",
   "execution_count": 90,
   "id": "896745c6-ddd3-4d85-9fdb-5f5b04043e62",
   "metadata": {
    "tags": []
   },
   "outputs": [
    {
     "data": {
      "text/plain": [
       "pandas.core.frame.DataFrame"
      ]
     },
     "execution_count": 90,
     "metadata": {},
     "output_type": "execute_result"
    }
   ],
   "source": [
    "type(count_1.reset_index())"
   ]
  },
  {
   "cell_type": "code",
   "execution_count": 102,
   "id": "fa41969d-5760-44d8-9dcd-5027b8b64d90",
   "metadata": {
    "tags": []
   },
   "outputs": [
    {
     "data": {
      "text/plain": [
       "VLR_TOTAL\n",
       "1364.12    1\n",
       "2042.52    1\n",
       "48.44      1\n",
       "762.19     1\n",
       "5894.05    1\n",
       "Name: count, dtype: int64"
      ]
     },
     "execution_count": 102,
     "metadata": {},
     "output_type": "execute_result"
    }
   ],
   "source": [
    "count_1.head()"
   ]
  },
  {
   "cell_type": "markdown",
   "id": "86a66ee3-446f-4baa-9e0d-4ffaeecb3dcd",
   "metadata": {},
   "source": [
    "-----------"
   ]
  },
  {
   "cell_type": "markdown",
   "id": "776bb121-77b7-4eed-9bb9-29b7f77163f1",
   "metadata": {},
   "source": [
    "### Laboratório 2\n",
    "\n",
    "Usando os arquivos pedidos.csv e itenspedido.csv, escreva um programa que:\n",
    "\n",
    "- Leia os dois arquivos e produza um dataframe de cada; \n",
    "- Use a função merge() para combinar os itens e os pedidos, apresentando a soma dos itens por pedido."
   ]
  },
  {
   "cell_type": "code",
   "execution_count": 117,
   "id": "c4124209-7fe8-4dc7-85a4-b55933a7a370",
   "metadata": {
    "tags": []
   },
   "outputs": [],
   "source": [
    "df_pedidos = pd.read_csv(\"../datasets/pedidos.csv\", sep=\";\")"
   ]
  },
  {
   "cell_type": "code",
   "execution_count": 118,
   "id": "551a7768-84b0-464a-a335-f854860ab5a5",
   "metadata": {
    "tags": []
   },
   "outputs": [],
   "source": [
    "df_itenspedido = pd.read_csv(\"../datasets/itenspedido.csv\", sep=\";\")"
   ]
  },
  {
   "cell_type": "code",
   "execution_count": 143,
   "id": "7f45fa81-5bab-4c8d-a4f0-2c12e3e42888",
   "metadata": {
    "tags": []
   },
   "outputs": [
    {
     "data": {
      "text/html": [
       "<div>\n",
       "<style scoped>\n",
       "    .dataframe tbody tr th:only-of-type {\n",
       "        vertical-align: middle;\n",
       "    }\n",
       "\n",
       "    .dataframe tbody tr th {\n",
       "        vertical-align: top;\n",
       "    }\n",
       "\n",
       "    .dataframe thead th {\n",
       "        text-align: right;\n",
       "    }\n",
       "</style>\n",
       "<table border=\"1\" class=\"dataframe\">\n",
       "  <thead>\n",
       "    <tr style=\"text-align: right;\">\n",
       "      <th></th>\n",
       "      <th>NUM_PEDIDO</th>\n",
       "      <th>CODCLI</th>\n",
       "      <th>CODVEN</th>\n",
       "      <th>DATA_EMISSAO</th>\n",
       "      <th>VLR_TOTAL</th>\n",
       "      <th>SITUACAO</th>\n",
       "      <th>OBSERVACOES</th>\n",
       "    </tr>\n",
       "  </thead>\n",
       "  <tbody>\n",
       "    <tr>\n",
       "      <th>0</th>\n",
       "      <td>1</td>\n",
       "      <td>5</td>\n",
       "      <td>3</td>\n",
       "      <td>2005-03-20 01:53:13.497</td>\n",
       "      <td>2.0</td>\n",
       "      <td>E</td>\n",
       "      <td>NaN</td>\n",
       "    </tr>\n",
       "    <tr>\n",
       "      <th>1</th>\n",
       "      <td>2</td>\n",
       "      <td>431</td>\n",
       "      <td>2</td>\n",
       "      <td>2012-12-18 01:53:13.497</td>\n",
       "      <td>30.7</td>\n",
       "      <td>E</td>\n",
       "      <td>Vazio</td>\n",
       "    </tr>\n",
       "  </tbody>\n",
       "</table>\n",
       "</div>"
      ],
      "text/plain": [
       "   NUM_PEDIDO  CODCLI  CODVEN             DATA_EMISSAO  VLR_TOTAL SITUACAO  \\\n",
       "0           1       5       3  2005-03-20 01:53:13.497        2.0        E   \n",
       "1           2     431       2  2012-12-18 01:53:13.497       30.7        E   \n",
       "\n",
       "  OBSERVACOES  \n",
       "0         NaN  \n",
       "1       Vazio  "
      ]
     },
     "execution_count": 143,
     "metadata": {},
     "output_type": "execute_result"
    }
   ],
   "source": [
    "df_pedidos.head(2)"
   ]
  },
  {
   "cell_type": "code",
   "execution_count": 120,
   "id": "74844e32-0083-4752-9df9-9b186d26d8b1",
   "metadata": {
    "tags": []
   },
   "outputs": [
    {
     "data": {
      "text/html": [
       "<div>\n",
       "<style scoped>\n",
       "    .dataframe tbody tr th:only-of-type {\n",
       "        vertical-align: middle;\n",
       "    }\n",
       "\n",
       "    .dataframe tbody tr th {\n",
       "        vertical-align: top;\n",
       "    }\n",
       "\n",
       "    .dataframe thead th {\n",
       "        text-align: right;\n",
       "    }\n",
       "</style>\n",
       "<table border=\"1\" class=\"dataframe\">\n",
       "  <thead>\n",
       "    <tr style=\"text-align: right;\">\n",
       "      <th></th>\n",
       "      <th>NUM_PEDIDO</th>\n",
       "      <th>NUM_ITEM</th>\n",
       "      <th>ID_PRODUTO</th>\n",
       "      <th>COD_PRODUTO</th>\n",
       "      <th>CODCOR</th>\n",
       "      <th>QUANTIDADE</th>\n",
       "      <th>PR_UNITARIO</th>\n",
       "      <th>DATA_ENTREGA</th>\n",
       "      <th>SITUACAO</th>\n",
       "      <th>DESCONTO</th>\n",
       "    </tr>\n",
       "  </thead>\n",
       "  <tbody>\n",
       "    <tr>\n",
       "      <th>0</th>\n",
       "      <td>2</td>\n",
       "      <td>1</td>\n",
       "      <td>7</td>\n",
       "      <td>007</td>\n",
       "      <td>1</td>\n",
       "      <td>50</td>\n",
       "      <td>0.32</td>\n",
       "      <td>2006-01-07 18:10:54.510</td>\n",
       "      <td>P</td>\n",
       "      <td>5</td>\n",
       "    </tr>\n",
       "    <tr>\n",
       "      <th>1</th>\n",
       "      <td>2</td>\n",
       "      <td>2</td>\n",
       "      <td>4</td>\n",
       "      <td>004</td>\n",
       "      <td>1</td>\n",
       "      <td>20</td>\n",
       "      <td>0.50</td>\n",
       "      <td>2006-01-07 18:10:54.510</td>\n",
       "      <td>P</td>\n",
       "      <td>5</td>\n",
       "    </tr>\n",
       "  </tbody>\n",
       "</table>\n",
       "</div>"
      ],
      "text/plain": [
       "   NUM_PEDIDO  NUM_ITEM  ID_PRODUTO COD_PRODUTO  CODCOR  QUANTIDADE  \\\n",
       "0           2         1           7         007       1          50   \n",
       "1           2         2           4         004       1          20   \n",
       "\n",
       "   PR_UNITARIO             DATA_ENTREGA SITUACAO DESCONTO  \n",
       "0         0.32  2006-01-07 18:10:54.510        P        5  \n",
       "1         0.50  2006-01-07 18:10:54.510        P        5  "
      ]
     },
     "execution_count": 120,
     "metadata": {},
     "output_type": "execute_result"
    }
   ],
   "source": [
    "df_itenspedido.head(2)"
   ]
  },
  {
   "cell_type": "code",
   "execution_count": 122,
   "id": "34cda43d-a7a0-4cd9-abfc-9df5ce5fbbce",
   "metadata": {
    "tags": []
   },
   "outputs": [],
   "source": [
    "df_pedidos_itens = pd.merge(\n",
    "    df_pedidos[[\"NUM_PEDIDO\", \"DATA_EMISSAO\"]],\n",
    "    df_itenspedido[[\"NUM_PEDIDO\", \"QUANTIDADE\", \"PR_UNITARIO\"]],\n",
    "    on=\"NUM_PEDIDO\"\n",
    ")"
   ]
  },
  {
   "cell_type": "code",
   "execution_count": 123,
   "id": "8e79309a-3d7e-4d6c-be71-604f02a56ad1",
   "metadata": {
    "tags": []
   },
   "outputs": [
    {
     "data": {
      "text/html": [
       "<div>\n",
       "<style scoped>\n",
       "    .dataframe tbody tr th:only-of-type {\n",
       "        vertical-align: middle;\n",
       "    }\n",
       "\n",
       "    .dataframe tbody tr th {\n",
       "        vertical-align: top;\n",
       "    }\n",
       "\n",
       "    .dataframe thead th {\n",
       "        text-align: right;\n",
       "    }\n",
       "</style>\n",
       "<table border=\"1\" class=\"dataframe\">\n",
       "  <thead>\n",
       "    <tr style=\"text-align: right;\">\n",
       "      <th></th>\n",
       "      <th>NUM_PEDIDO</th>\n",
       "      <th>DATA_EMISSAO</th>\n",
       "      <th>QUANTIDADE</th>\n",
       "      <th>PR_UNITARIO</th>\n",
       "    </tr>\n",
       "  </thead>\n",
       "  <tbody>\n",
       "    <tr>\n",
       "      <th>0</th>\n",
       "      <td>2</td>\n",
       "      <td>2012-12-18 01:53:13.497</td>\n",
       "      <td>50</td>\n",
       "      <td>0.32</td>\n",
       "    </tr>\n",
       "    <tr>\n",
       "      <th>1</th>\n",
       "      <td>2</td>\n",
       "      <td>2012-12-18 01:53:13.497</td>\n",
       "      <td>20</td>\n",
       "      <td>0.50</td>\n",
       "    </tr>\n",
       "  </tbody>\n",
       "</table>\n",
       "</div>"
      ],
      "text/plain": [
       "   NUM_PEDIDO             DATA_EMISSAO  QUANTIDADE  PR_UNITARIO\n",
       "0           2  2012-12-18 01:53:13.497          50         0.32\n",
       "1           2  2012-12-18 01:53:13.497          20         0.50"
      ]
     },
     "execution_count": 123,
     "metadata": {},
     "output_type": "execute_result"
    }
   ],
   "source": [
    "df_pedidos_itens.head(2)"
   ]
  },
  {
   "cell_type": "code",
   "execution_count": 132,
   "id": "f44db1ca-4aa9-4e8f-b6b2-2766e233e981",
   "metadata": {
    "tags": []
   },
   "outputs": [],
   "source": [
    "df_pedidos_itens = df_pedidos_itens.groupby([\"NUM_PEDIDO\", \"DATA_EMISSAO\"]).sum().reset_index()"
   ]
  },
  {
   "cell_type": "code",
   "execution_count": 133,
   "id": "29c5a6d9-e3b8-438e-933e-78b307066b14",
   "metadata": {
    "tags": []
   },
   "outputs": [
    {
     "data": {
      "text/html": [
       "<div>\n",
       "<style scoped>\n",
       "    .dataframe tbody tr th:only-of-type {\n",
       "        vertical-align: middle;\n",
       "    }\n",
       "\n",
       "    .dataframe tbody tr th {\n",
       "        vertical-align: top;\n",
       "    }\n",
       "\n",
       "    .dataframe thead th {\n",
       "        text-align: right;\n",
       "    }\n",
       "</style>\n",
       "<table border=\"1\" class=\"dataframe\">\n",
       "  <thead>\n",
       "    <tr style=\"text-align: right;\">\n",
       "      <th></th>\n",
       "      <th>NUM_PEDIDO</th>\n",
       "      <th>DATA_EMISSAO</th>\n",
       "      <th>QUANTIDADE</th>\n",
       "      <th>PR_UNITARIO</th>\n",
       "    </tr>\n",
       "  </thead>\n",
       "  <tbody>\n",
       "    <tr>\n",
       "      <th>0</th>\n",
       "      <td>2</td>\n",
       "      <td>2012-12-18 01:53:13.497</td>\n",
       "      <td>90</td>\n",
       "      <td>1.12</td>\n",
       "    </tr>\n",
       "    <tr>\n",
       "      <th>1</th>\n",
       "      <td>3</td>\n",
       "      <td>2012-12-18 01:53:13.497</td>\n",
       "      <td>70</td>\n",
       "      <td>2.60</td>\n",
       "    </tr>\n",
       "    <tr>\n",
       "      <th>2</th>\n",
       "      <td>4</td>\n",
       "      <td>2012-12-18 01:53:13.497</td>\n",
       "      <td>500</td>\n",
       "      <td>3.81</td>\n",
       "    </tr>\n",
       "    <tr>\n",
       "      <th>3</th>\n",
       "      <td>5</td>\n",
       "      <td>2012-12-18 01:53:13.497</td>\n",
       "      <td>60</td>\n",
       "      <td>2.54</td>\n",
       "    </tr>\n",
       "    <tr>\n",
       "      <th>4</th>\n",
       "      <td>6</td>\n",
       "      <td>2012-12-18 01:53:13.497</td>\n",
       "      <td>1005</td>\n",
       "      <td>15.77</td>\n",
       "    </tr>\n",
       "  </tbody>\n",
       "</table>\n",
       "</div>"
      ],
      "text/plain": [
       "   NUM_PEDIDO             DATA_EMISSAO  QUANTIDADE  PR_UNITARIO\n",
       "0           2  2012-12-18 01:53:13.497          90         1.12\n",
       "1           3  2012-12-18 01:53:13.497          70         2.60\n",
       "2           4  2012-12-18 01:53:13.497         500         3.81\n",
       "3           5  2012-12-18 01:53:13.497          60         2.54\n",
       "4           6  2012-12-18 01:53:13.497        1005        15.77"
      ]
     },
     "execution_count": 133,
     "metadata": {},
     "output_type": "execute_result"
    }
   ],
   "source": [
    "df_pedidos_itens.head()"
   ]
  },
  {
   "cell_type": "code",
   "execution_count": 136,
   "id": "67b6378f-41fd-41ab-9adc-aeda907d6d2c",
   "metadata": {
    "tags": []
   },
   "outputs": [],
   "source": [
    "df_pedidos_itens[\"VR_TOTAL\"] = df_pedidos_itens.QUANTIDADE * df_pedidos_itens.PR_UNITARIO"
   ]
  },
  {
   "cell_type": "code",
   "execution_count": 137,
   "id": "63907f75-0444-4aef-838f-52115f2503eb",
   "metadata": {
    "tags": []
   },
   "outputs": [
    {
     "data": {
      "text/html": [
       "<div>\n",
       "<style scoped>\n",
       "    .dataframe tbody tr th:only-of-type {\n",
       "        vertical-align: middle;\n",
       "    }\n",
       "\n",
       "    .dataframe tbody tr th {\n",
       "        vertical-align: top;\n",
       "    }\n",
       "\n",
       "    .dataframe thead th {\n",
       "        text-align: right;\n",
       "    }\n",
       "</style>\n",
       "<table border=\"1\" class=\"dataframe\">\n",
       "  <thead>\n",
       "    <tr style=\"text-align: right;\">\n",
       "      <th></th>\n",
       "      <th>NUM_PEDIDO</th>\n",
       "      <th>DATA_EMISSAO</th>\n",
       "      <th>QUANTIDADE</th>\n",
       "      <th>PR_UNITARIO</th>\n",
       "      <th>VR_TOTAL</th>\n",
       "    </tr>\n",
       "  </thead>\n",
       "  <tbody>\n",
       "    <tr>\n",
       "      <th>0</th>\n",
       "      <td>2</td>\n",
       "      <td>2012-12-18 01:53:13.497</td>\n",
       "      <td>90</td>\n",
       "      <td>1.12</td>\n",
       "      <td>100.80</td>\n",
       "    </tr>\n",
       "    <tr>\n",
       "      <th>1</th>\n",
       "      <td>3</td>\n",
       "      <td>2012-12-18 01:53:13.497</td>\n",
       "      <td>70</td>\n",
       "      <td>2.60</td>\n",
       "      <td>182.00</td>\n",
       "    </tr>\n",
       "    <tr>\n",
       "      <th>2</th>\n",
       "      <td>4</td>\n",
       "      <td>2012-12-18 01:53:13.497</td>\n",
       "      <td>500</td>\n",
       "      <td>3.81</td>\n",
       "      <td>1905.00</td>\n",
       "    </tr>\n",
       "    <tr>\n",
       "      <th>3</th>\n",
       "      <td>5</td>\n",
       "      <td>2012-12-18 01:53:13.497</td>\n",
       "      <td>60</td>\n",
       "      <td>2.54</td>\n",
       "      <td>152.40</td>\n",
       "    </tr>\n",
       "    <tr>\n",
       "      <th>4</th>\n",
       "      <td>6</td>\n",
       "      <td>2012-12-18 01:53:13.497</td>\n",
       "      <td>1005</td>\n",
       "      <td>15.77</td>\n",
       "      <td>15848.85</td>\n",
       "    </tr>\n",
       "  </tbody>\n",
       "</table>\n",
       "</div>"
      ],
      "text/plain": [
       "   NUM_PEDIDO             DATA_EMISSAO  QUANTIDADE  PR_UNITARIO  VR_TOTAL\n",
       "0           2  2012-12-18 01:53:13.497          90         1.12    100.80\n",
       "1           3  2012-12-18 01:53:13.497          70         2.60    182.00\n",
       "2           4  2012-12-18 01:53:13.497         500         3.81   1905.00\n",
       "3           5  2012-12-18 01:53:13.497          60         2.54    152.40\n",
       "4           6  2012-12-18 01:53:13.497        1005        15.77  15848.85"
      ]
     },
     "execution_count": 137,
     "metadata": {},
     "output_type": "execute_result"
    }
   ],
   "source": [
    "df_pedidos_itens.head()"
   ]
  },
  {
   "cell_type": "code",
   "execution_count": 140,
   "id": "c5126238-7f91-49c0-88a5-d457d98d421d",
   "metadata": {
    "tags": []
   },
   "outputs": [],
   "source": [
    "df_pedidos_itens = df_pedidos_itens.groupby([\"NUM_PEDIDO\",\"DATA_EMISSAO\",\"QUANTIDADE\",\"PR_UNITARIO\", \"VR_TOTAL\"]).sum().reset_index().sort_values(by=[ \"NUM_PEDIDO\",\"DATA_EMISSAO\",\"QUANTIDADE\",\"PR_UNITARIO\",\"VR_TOTAL\"])"
   ]
  },
  {
   "cell_type": "code",
   "execution_count": 141,
   "id": "c03f95e3-eca0-4486-94ea-ea923b4046a7",
   "metadata": {
    "tags": []
   },
   "outputs": [
    {
     "data": {
      "text/html": [
       "<div>\n",
       "<style scoped>\n",
       "    .dataframe tbody tr th:only-of-type {\n",
       "        vertical-align: middle;\n",
       "    }\n",
       "\n",
       "    .dataframe tbody tr th {\n",
       "        vertical-align: top;\n",
       "    }\n",
       "\n",
       "    .dataframe thead th {\n",
       "        text-align: right;\n",
       "    }\n",
       "</style>\n",
       "<table border=\"1\" class=\"dataframe\">\n",
       "  <thead>\n",
       "    <tr style=\"text-align: right;\">\n",
       "      <th></th>\n",
       "      <th>NUM_PEDIDO</th>\n",
       "      <th>DATA_EMISSAO</th>\n",
       "      <th>QUANTIDADE</th>\n",
       "      <th>PR_UNITARIO</th>\n",
       "      <th>VR_TOTAL</th>\n",
       "    </tr>\n",
       "  </thead>\n",
       "  <tbody>\n",
       "    <tr>\n",
       "      <th>0</th>\n",
       "      <td>2</td>\n",
       "      <td>2012-12-18 01:53:13.497</td>\n",
       "      <td>90</td>\n",
       "      <td>1.12</td>\n",
       "      <td>100.8</td>\n",
       "    </tr>\n",
       "    <tr>\n",
       "      <th>1</th>\n",
       "      <td>3</td>\n",
       "      <td>2012-12-18 01:53:13.497</td>\n",
       "      <td>70</td>\n",
       "      <td>2.60</td>\n",
       "      <td>182.0</td>\n",
       "    </tr>\n",
       "  </tbody>\n",
       "</table>\n",
       "</div>"
      ],
      "text/plain": [
       "   NUM_PEDIDO             DATA_EMISSAO  QUANTIDADE  PR_UNITARIO  VR_TOTAL\n",
       "0           2  2012-12-18 01:53:13.497          90         1.12     100.8\n",
       "1           3  2012-12-18 01:53:13.497          70         2.60     182.0"
      ]
     },
     "execution_count": 141,
     "metadata": {},
     "output_type": "execute_result"
    }
   ],
   "source": [
    "df_pedidos_itens.head(2)"
   ]
  },
  {
   "cell_type": "code",
   "execution_count": 142,
   "id": "6ae79f69-55c3-47ec-a0c8-99b56dd710a4",
   "metadata": {
    "tags": []
   },
   "outputs": [
    {
     "data": {
      "text/plain": [
       "(11285, 5)"
      ]
     },
     "execution_count": 142,
     "metadata": {},
     "output_type": "execute_result"
    }
   ],
   "source": [
    "df_pedidos_itens.shape"
   ]
  },
  {
   "cell_type": "code",
   "execution_count": null,
   "id": "f82e82cd-0a38-4e7d-9cbc-d6a403004790",
   "metadata": {},
   "outputs": [],
   "source": []
  }
 ],
 "metadata": {
  "kernelspec": {
   "display_name": "Python 3 (ipykernel)",
   "language": "python",
   "name": "python3"
  },
  "language_info": {
   "codemirror_mode": {
    "name": "ipython",
    "version": 3
   },
   "file_extension": ".py",
   "mimetype": "text/x-python",
   "name": "python",
   "nbconvert_exporter": "python",
   "pygments_lexer": "ipython3",
   "version": "3.11.5"
  }
 },
 "nbformat": 4,
 "nbformat_minor": 5
}
