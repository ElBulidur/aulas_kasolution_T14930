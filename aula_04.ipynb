{
 "cells": [
  {
   "cell_type": "markdown",
   "id": "63aff620-209d-4fbf-8404-90abc962699f",
   "metadata": {},
   "source": [
    "Reletorio IV"
   ]
  },
  {
   "cell_type": "markdown",
   "id": "c7327c14-2e79-44ac-9326-18085691428f",
   "metadata": {},
   "source": [
    "1. Criar uma coluna no df com base entre caloria e a media Geral de calorias.\n",
    "2. Criar uma coluna com a caloria obtidas por minuto.\n",
    "3. ver dados estatisticos.\n",
    "4. Criar uma variavel de datas no intevalo entre Novembro e Dezembro, basiada na Week.\n",
    "5. Tratar erros de dados ausentes."
   ]
  },
  {
   "cell_type": "code",
   "execution_count": 40,
   "id": "b7ab3933-91a0-4c3e-afc8-e1a35814e94e",
   "metadata": {
    "tags": []
   },
   "outputs": [],
   "source": [
    "import pandas as pd\n",
    "from random import randrange\n",
    "import pytz"
   ]
  },
  {
   "cell_type": "code",
   "execution_count": 41,
   "id": "548d22a5-d1b6-4b90-b5a3-1c77afaf9c68",
   "metadata": {
    "tags": []
   },
   "outputs": [],
   "source": [
    "df_data = pd.read_csv(\"datasets/data2.csv\")"
   ]
  },
  {
   "cell_type": "code",
   "execution_count": 42,
   "id": "7bf76ce2-4f26-413d-86f0-78cbf078cbe9",
   "metadata": {
    "tags": []
   },
   "outputs": [
    {
     "data": {
      "text/html": [
       "<div>\n",
       "<style scoped>\n",
       "    .dataframe tbody tr th:only-of-type {\n",
       "        vertical-align: middle;\n",
       "    }\n",
       "\n",
       "    .dataframe tbody tr th {\n",
       "        vertical-align: top;\n",
       "    }\n",
       "\n",
       "    .dataframe thead th {\n",
       "        text-align: right;\n",
       "    }\n",
       "</style>\n",
       "<table border=\"1\" class=\"dataframe\">\n",
       "  <thead>\n",
       "    <tr style=\"text-align: right;\">\n",
       "      <th></th>\n",
       "      <th>Name</th>\n",
       "      <th>Week</th>\n",
       "      <th>Duration</th>\n",
       "      <th>Pulse</th>\n",
       "      <th>Maxpulse</th>\n",
       "      <th>Calories</th>\n",
       "    </tr>\n",
       "  </thead>\n",
       "  <tbody>\n",
       "    <tr>\n",
       "      <th>0</th>\n",
       "      <td>Robert</td>\n",
       "      <td>1</td>\n",
       "      <td>60</td>\n",
       "      <td>110</td>\n",
       "      <td>130</td>\n",
       "      <td>409.1</td>\n",
       "    </tr>\n",
       "    <tr>\n",
       "      <th>1</th>\n",
       "      <td>Mark</td>\n",
       "      <td>1</td>\n",
       "      <td>60</td>\n",
       "      <td>117</td>\n",
       "      <td>145</td>\n",
       "      <td>479.0</td>\n",
       "    </tr>\n",
       "  </tbody>\n",
       "</table>\n",
       "</div>"
      ],
      "text/plain": [
       "     Name  Week  Duration  Pulse  Maxpulse  Calories\n",
       "0  Robert     1        60    110       130     409.1\n",
       "1    Mark     1        60    117       145     479.0"
      ]
     },
     "execution_count": 42,
     "metadata": {},
     "output_type": "execute_result"
    }
   ],
   "source": [
    "df_data.head(2)"
   ]
  },
  {
   "cell_type": "code",
   "execution_count": 43,
   "id": "9ae4bb68-6d6f-416c-9819-5f7c83b84df1",
   "metadata": {
    "tags": []
   },
   "outputs": [
    {
     "data": {
      "text/plain": [
       "375.79024390243904"
      ]
     },
     "execution_count": 43,
     "metadata": {},
     "output_type": "execute_result"
    }
   ],
   "source": [
    "# Serie\n",
    "df_data.Calories.sum()\n",
    "df_data.Calories.count()\n",
    "df_data.Calories.std()\n",
    "df_data.Calories.min()\n",
    "df_data.Calories.max()\n",
    "df_data['Calories'].var()\n",
    "\n",
    "# Media Geral\n",
    "df_data.Calories.mean()"
   ]
  },
  {
   "cell_type": "code",
   "execution_count": 44,
   "id": "3c4036e6-75c1-46f0-8f7d-de2136671cdc",
   "metadata": {
    "tags": []
   },
   "outputs": [
    {
     "data": {
      "text/html": [
       "<div>\n",
       "<style scoped>\n",
       "    .dataframe tbody tr th:only-of-type {\n",
       "        vertical-align: middle;\n",
       "    }\n",
       "\n",
       "    .dataframe tbody tr th {\n",
       "        vertical-align: top;\n",
       "    }\n",
       "\n",
       "    .dataframe thead th {\n",
       "        text-align: right;\n",
       "    }\n",
       "</style>\n",
       "<table border=\"1\" class=\"dataframe\">\n",
       "  <thead>\n",
       "    <tr style=\"text-align: right;\">\n",
       "      <th></th>\n",
       "      <th>Name</th>\n",
       "      <th>Week</th>\n",
       "      <th>Duration</th>\n",
       "      <th>Pulse</th>\n",
       "      <th>Maxpulse</th>\n",
       "      <th>Calories</th>\n",
       "    </tr>\n",
       "  </thead>\n",
       "  <tbody>\n",
       "    <tr>\n",
       "      <th>89</th>\n",
       "      <td>Leonel</td>\n",
       "      <td>5</td>\n",
       "      <td>20</td>\n",
       "      <td>83</td>\n",
       "      <td>107</td>\n",
       "      <td>50.3</td>\n",
       "    </tr>\n",
       "  </tbody>\n",
       "</table>\n",
       "</div>"
      ],
      "text/plain": [
       "      Name  Week  Duration  Pulse  Maxpulse  Calories\n",
       "89  Leonel     5        20     83       107      50.3"
      ]
     },
     "execution_count": 44,
     "metadata": {},
     "output_type": "execute_result"
    }
   ],
   "source": [
    "df_data[df_data.Calories == 50.3]"
   ]
  },
  {
   "cell_type": "code",
   "execution_count": 45,
   "id": "96b64c93-4771-41cd-bad2-fdb3e4a46dbd",
   "metadata": {
    "tags": []
   },
   "outputs": [
    {
     "data": {
      "text/html": [
       "<div>\n",
       "<style scoped>\n",
       "    .dataframe tbody tr th:only-of-type {\n",
       "        vertical-align: middle;\n",
       "    }\n",
       "\n",
       "    .dataframe tbody tr th {\n",
       "        vertical-align: top;\n",
       "    }\n",
       "\n",
       "    .dataframe thead th {\n",
       "        text-align: right;\n",
       "    }\n",
       "</style>\n",
       "<table border=\"1\" class=\"dataframe\">\n",
       "  <thead>\n",
       "    <tr style=\"text-align: right;\">\n",
       "      <th></th>\n",
       "      <th>Name</th>\n",
       "      <th>Week</th>\n",
       "      <th>Duration</th>\n",
       "      <th>Pulse</th>\n",
       "      <th>Maxpulse</th>\n",
       "      <th>Calories</th>\n",
       "    </tr>\n",
       "  </thead>\n",
       "  <tbody>\n",
       "    <tr>\n",
       "      <th>109</th>\n",
       "      <td>Jobs</td>\n",
       "      <td>6</td>\n",
       "      <td>210</td>\n",
       "      <td>137</td>\n",
       "      <td>184</td>\n",
       "      <td>1860.4</td>\n",
       "    </tr>\n",
       "  </tbody>\n",
       "</table>\n",
       "</div>"
      ],
      "text/plain": [
       "     Name  Week  Duration  Pulse  Maxpulse  Calories\n",
       "109  Jobs     6       210    137       184    1860.4"
      ]
     },
     "execution_count": 45,
     "metadata": {},
     "output_type": "execute_result"
    }
   ],
   "source": [
    "df_data[df_data.Calories == 1860.4]"
   ]
  },
  {
   "cell_type": "code",
   "execution_count": 46,
   "id": "14c612c8-cc39-4af3-abb4-d2b3826e5a43",
   "metadata": {
    "tags": []
   },
   "outputs": [],
   "source": [
    "# df_data.Calories = df_data.Calories.fillna(0)"
   ]
  },
  {
   "cell_type": "code",
   "execution_count": 47,
   "id": "bc095bda-04c1-4eb6-9373-8af733fbdfd5",
   "metadata": {
    "tags": []
   },
   "outputs": [],
   "source": [
    "# df_data.Calories.mean(skipna=False)"
   ]
  },
  {
   "cell_type": "code",
   "execution_count": 48,
   "id": "b1d85804-5298-4cca-a8b8-e3e9acbdeb28",
   "metadata": {
    "tags": []
   },
   "outputs": [],
   "source": [
    "# df_data[df_data.Calories == 0]"
   ]
  },
  {
   "cell_type": "code",
   "execution_count": 49,
   "id": "83411a26-cdee-42e7-a29a-4073677f718a",
   "metadata": {
    "tags": []
   },
   "outputs": [],
   "source": [
    "# df_data.shape"
   ]
  },
  {
   "cell_type": "code",
   "execution_count": 50,
   "id": "7d800fb9-66b4-40fb-9283-c049290665c8",
   "metadata": {
    "tags": []
   },
   "outputs": [],
   "source": [
    "# nums = [1,3,4,0]\n",
    "# nums2 = [1,3,4]\n",
    "\n",
    "# print(f\"media nums = {sum(nums)/len(nums)} | tamanho: {sum(nums)}\")\n",
    "# print(f\"media nums2 = {sum(nums2)/len(nums2)} | tamanho: {sum(nums2)}\")"
   ]
  },
  {
   "cell_type": "code",
   "execution_count": 51,
   "id": "93ca928e-dbcb-4632-8a57-8f987703db11",
   "metadata": {
    "tags": []
   },
   "outputs": [
    {
     "name": "stdout",
     "output_type": "stream",
     "text": [
      "Media Geral: 375.79024390243904\n",
      "Media Leonel: 372.05499999999995\n",
      "Diferencia: 3.7352439024390947\n"
     ]
    }
   ],
   "source": [
    "# Media Geral\n",
    "media_g = df_data.Calories.mean()\n",
    "\n",
    "# Caloria da pessoal\n",
    "selecao = df_data.Name == \"Leonel\"\n",
    "media_leonel = df_data[selecao].Calories.mean()\n",
    "calorias_leonel = df_data[selecao].Calories\n",
    "\n",
    "# Diferencia\n",
    "diferencia = calorias_leonel - media_g\n",
    "\n",
    "print(f\"Media Geral: {media_g}\")\n",
    "print(f\"Media Leonel: {media_leonel}\")\n",
    "print(f\"Diferencia: {media_g - media_leonel}\")"
   ]
  },
  {
   "cell_type": "code",
   "execution_count": 52,
   "id": "9af43f13-2d52-445e-8dbc-78864cb23def",
   "metadata": {
    "tags": []
   },
   "outputs": [],
   "source": [
    "def diferencia_da_media_geral(x):\n",
    "    media_calorias_geral = df_data.Calories.mean()\n",
    "    \n",
    "    try:\n",
    "        return round(x - media_calorias_geral, 1)\n",
    "    except:\n",
    "        return x\n",
    "    "
   ]
  },
  {
   "cell_type": "code",
   "execution_count": 53,
   "id": "b4864f6a-f0b1-48ba-a4d3-81142495009d",
   "metadata": {
    "tags": []
   },
   "outputs": [],
   "source": [
    "df_data[\"DMediaGeral\"] = df_data.Calories.apply(diferencia_da_media_geral)"
   ]
  },
  {
   "cell_type": "code",
   "execution_count": 54,
   "id": "44bd352c-db1b-4940-9f80-d6c80267a498",
   "metadata": {
    "tags": []
   },
   "outputs": [
    {
     "data": {
      "text/html": [
       "<div>\n",
       "<style scoped>\n",
       "    .dataframe tbody tr th:only-of-type {\n",
       "        vertical-align: middle;\n",
       "    }\n",
       "\n",
       "    .dataframe tbody tr th {\n",
       "        vertical-align: top;\n",
       "    }\n",
       "\n",
       "    .dataframe thead th {\n",
       "        text-align: right;\n",
       "    }\n",
       "</style>\n",
       "<table border=\"1\" class=\"dataframe\">\n",
       "  <thead>\n",
       "    <tr style=\"text-align: right;\">\n",
       "      <th></th>\n",
       "      <th>Name</th>\n",
       "      <th>Week</th>\n",
       "      <th>Duration</th>\n",
       "      <th>Pulse</th>\n",
       "      <th>Maxpulse</th>\n",
       "      <th>Calories</th>\n",
       "      <th>DMediaGeral</th>\n",
       "    </tr>\n",
       "  </thead>\n",
       "  <tbody>\n",
       "    <tr>\n",
       "      <th>166</th>\n",
       "      <td>Charles</td>\n",
       "      <td>8</td>\n",
       "      <td>60</td>\n",
       "      <td>115</td>\n",
       "      <td>145</td>\n",
       "      <td>310.2</td>\n",
       "      <td>-65.6</td>\n",
       "    </tr>\n",
       "    <tr>\n",
       "      <th>167</th>\n",
       "      <td>Louise</td>\n",
       "      <td>8</td>\n",
       "      <td>75</td>\n",
       "      <td>120</td>\n",
       "      <td>150</td>\n",
       "      <td>320.4</td>\n",
       "      <td>-55.4</td>\n",
       "    </tr>\n",
       "    <tr>\n",
       "      <th>168</th>\n",
       "      <td>Jobs</td>\n",
       "      <td>8</td>\n",
       "      <td>75</td>\n",
       "      <td>125</td>\n",
       "      <td>150</td>\n",
       "      <td>330.4</td>\n",
       "      <td>-45.4</td>\n",
       "    </tr>\n",
       "  </tbody>\n",
       "</table>\n",
       "</div>"
      ],
      "text/plain": [
       "        Name  Week  Duration  Pulse  Maxpulse  Calories  DMediaGeral\n",
       "166  Charles     8        60    115       145     310.2        -65.6\n",
       "167   Louise     8        75    120       150     320.4        -55.4\n",
       "168     Jobs     8        75    125       150     330.4        -45.4"
      ]
     },
     "execution_count": 54,
     "metadata": {},
     "output_type": "execute_result"
    }
   ],
   "source": [
    "df_data.tail(3)"
   ]
  },
  {
   "cell_type": "markdown",
   "id": "df4e59b5-a768-4cc9-9c28-488b599246fb",
   "metadata": {
    "tags": []
   },
   "source": [
    "### 2. Criar uma coluna com a caloria obtidas por minuto."
   ]
  },
  {
   "cell_type": "code",
   "execution_count": 55,
   "id": "39fc4e5e-5f60-4a3b-a974-6d357cd76176",
   "metadata": {
    "tags": []
   },
   "outputs": [
    {
     "data": {
      "text/plain": [
       "4.271999999999999"
      ]
     },
     "execution_count": 55,
     "metadata": {},
     "output_type": "execute_result"
    }
   ],
   "source": [
    "caloria = 320.4\n",
    "minuto = 75\n",
    "\n",
    "caloria / minuto"
   ]
  },
  {
   "cell_type": "code",
   "execution_count": 56,
   "id": "0454ff39-615d-4ae2-981e-e0c6ad661a1d",
   "metadata": {
    "tags": []
   },
   "outputs": [],
   "source": [
    "# df_data[\"CalsPerMin\"] = df_data.Calories / df_data.Duration"
   ]
  },
  {
   "cell_type": "code",
   "execution_count": 57,
   "id": "2b731092-8888-4b88-9a1c-2a4b7b6c3e06",
   "metadata": {
    "tags": []
   },
   "outputs": [],
   "source": [
    "def calorias_por_minuto(df):\n",
    "    return round(df.Calories / df.Duration, 1)"
   ]
  },
  {
   "cell_type": "code",
   "execution_count": 58,
   "id": "04b3d710-9b95-43a4-8e01-21055f14ddf2",
   "metadata": {
    "tags": []
   },
   "outputs": [],
   "source": [
    "# df_data[\"CalsPerMin\"] = df_data.apply(calorias_por_minuto, axis=1)"
   ]
  },
  {
   "cell_type": "code",
   "execution_count": 59,
   "id": "d92b18b5-29a5-4011-8712-c771b98486d8",
   "metadata": {
    "tags": []
   },
   "outputs": [],
   "source": [
    "df_data[\"CalsPerMin\"] = df_data.apply(\n",
    "    lambda linha: round(linha.Calories / linha.Duration, 1),\n",
    "    axis=1\n",
    ")"
   ]
  },
  {
   "cell_type": "code",
   "execution_count": 60,
   "id": "a0b9ec46-b2d1-479a-a223-8b16508888c8",
   "metadata": {
    "tags": []
   },
   "outputs": [
    {
     "data": {
      "text/html": [
       "<div>\n",
       "<style scoped>\n",
       "    .dataframe tbody tr th:only-of-type {\n",
       "        vertical-align: middle;\n",
       "    }\n",
       "\n",
       "    .dataframe tbody tr th {\n",
       "        vertical-align: top;\n",
       "    }\n",
       "\n",
       "    .dataframe thead th {\n",
       "        text-align: right;\n",
       "    }\n",
       "</style>\n",
       "<table border=\"1\" class=\"dataframe\">\n",
       "  <thead>\n",
       "    <tr style=\"text-align: right;\">\n",
       "      <th></th>\n",
       "      <th>Name</th>\n",
       "      <th>Week</th>\n",
       "      <th>Duration</th>\n",
       "      <th>Pulse</th>\n",
       "      <th>Maxpulse</th>\n",
       "      <th>Calories</th>\n",
       "      <th>DMediaGeral</th>\n",
       "      <th>CalsPerMin</th>\n",
       "    </tr>\n",
       "  </thead>\n",
       "  <tbody>\n",
       "    <tr>\n",
       "      <th>0</th>\n",
       "      <td>Robert</td>\n",
       "      <td>1</td>\n",
       "      <td>60</td>\n",
       "      <td>110</td>\n",
       "      <td>130</td>\n",
       "      <td>409.1</td>\n",
       "      <td>33.3</td>\n",
       "      <td>6.8</td>\n",
       "    </tr>\n",
       "    <tr>\n",
       "      <th>1</th>\n",
       "      <td>Mark</td>\n",
       "      <td>1</td>\n",
       "      <td>60</td>\n",
       "      <td>117</td>\n",
       "      <td>145</td>\n",
       "      <td>479.0</td>\n",
       "      <td>103.2</td>\n",
       "      <td>8.0</td>\n",
       "    </tr>\n",
       "  </tbody>\n",
       "</table>\n",
       "</div>"
      ],
      "text/plain": [
       "     Name  Week  Duration  Pulse  Maxpulse  Calories  DMediaGeral  CalsPerMin\n",
       "0  Robert     1        60    110       130     409.1         33.3         6.8\n",
       "1    Mark     1        60    117       145     479.0        103.2         8.0"
      ]
     },
     "execution_count": 60,
     "metadata": {},
     "output_type": "execute_result"
    }
   ],
   "source": [
    "df_data.head(2)"
   ]
  },
  {
   "cell_type": "code",
   "execution_count": 61,
   "id": "e14cf0dc-ef8c-46ce-ae3a-967bfae75ed7",
   "metadata": {
    "tags": []
   },
   "outputs": [
    {
     "name": "stdout",
     "output_type": "stream",
     "text": [
      "<class 'pandas.core.frame.DataFrame'>\n",
      "RangeIndex: 169 entries, 0 to 168\n",
      "Data columns (total 8 columns):\n",
      " #   Column       Non-Null Count  Dtype  \n",
      "---  ------       --------------  -----  \n",
      " 0   Name         169 non-null    object \n",
      " 1   Week         169 non-null    int64  \n",
      " 2   Duration     169 non-null    int64  \n",
      " 3   Pulse        169 non-null    int64  \n",
      " 4   Maxpulse     169 non-null    int64  \n",
      " 5   Calories     164 non-null    float64\n",
      " 6   DMediaGeral  164 non-null    float64\n",
      " 7   CalsPerMin   164 non-null    float64\n",
      "dtypes: float64(3), int64(4), object(1)\n",
      "memory usage: 10.7+ KB\n"
     ]
    }
   ],
   "source": [
    "df_data.info()"
   ]
  },
  {
   "cell_type": "code",
   "execution_count": 62,
   "id": "2239af2d-479f-4755-a467-106d7d91e278",
   "metadata": {
    "tags": []
   },
   "outputs": [
    {
     "data": {
      "text/html": [
       "<div>\n",
       "<style scoped>\n",
       "    .dataframe tbody tr th:only-of-type {\n",
       "        vertical-align: middle;\n",
       "    }\n",
       "\n",
       "    .dataframe tbody tr th {\n",
       "        vertical-align: top;\n",
       "    }\n",
       "\n",
       "    .dataframe thead th {\n",
       "        text-align: right;\n",
       "    }\n",
       "</style>\n",
       "<table border=\"1\" class=\"dataframe\">\n",
       "  <thead>\n",
       "    <tr style=\"text-align: right;\">\n",
       "      <th></th>\n",
       "      <th>Name</th>\n",
       "      <th>Week</th>\n",
       "      <th>Duration</th>\n",
       "      <th>Pulse</th>\n",
       "      <th>Maxpulse</th>\n",
       "      <th>Calories</th>\n",
       "      <th>DMediaGeral</th>\n",
       "      <th>CalsPerMin</th>\n",
       "    </tr>\n",
       "  </thead>\n",
       "  <tbody>\n",
       "    <tr>\n",
       "      <th>count</th>\n",
       "      <td>169</td>\n",
       "      <td>169.000000</td>\n",
       "      <td>169.000000</td>\n",
       "      <td>169.000000</td>\n",
       "      <td>169.000000</td>\n",
       "      <td>164.000000</td>\n",
       "      <td>164.000000</td>\n",
       "      <td>164.000000</td>\n",
       "    </tr>\n",
       "    <tr>\n",
       "      <th>unique</th>\n",
       "      <td>14</td>\n",
       "      <td>NaN</td>\n",
       "      <td>NaN</td>\n",
       "      <td>NaN</td>\n",
       "      <td>NaN</td>\n",
       "      <td>NaN</td>\n",
       "      <td>NaN</td>\n",
       "      <td>NaN</td>\n",
       "    </tr>\n",
       "    <tr>\n",
       "      <th>top</th>\n",
       "      <td>Nicholas</td>\n",
       "      <td>NaN</td>\n",
       "      <td>NaN</td>\n",
       "      <td>NaN</td>\n",
       "      <td>NaN</td>\n",
       "      <td>NaN</td>\n",
       "      <td>NaN</td>\n",
       "      <td>NaN</td>\n",
       "    </tr>\n",
       "    <tr>\n",
       "      <th>freq</th>\n",
       "      <td>32</td>\n",
       "      <td>NaN</td>\n",
       "      <td>NaN</td>\n",
       "      <td>NaN</td>\n",
       "      <td>NaN</td>\n",
       "      <td>NaN</td>\n",
       "      <td>NaN</td>\n",
       "      <td>NaN</td>\n",
       "    </tr>\n",
       "    <tr>\n",
       "      <th>mean</th>\n",
       "      <td>NaN</td>\n",
       "      <td>4.834320</td>\n",
       "      <td>63.846154</td>\n",
       "      <td>107.461538</td>\n",
       "      <td>134.047337</td>\n",
       "      <td>375.790244</td>\n",
       "      <td>-0.009756</td>\n",
       "      <td>5.978659</td>\n",
       "    </tr>\n",
       "    <tr>\n",
       "      <th>std</th>\n",
       "      <td>NaN</td>\n",
       "      <td>2.134413</td>\n",
       "      <td>42.299949</td>\n",
       "      <td>14.510259</td>\n",
       "      <td>16.450434</td>\n",
       "      <td>266.379919</td>\n",
       "      <td>266.379919</td>\n",
       "      <td>1.601218</td>\n",
       "    </tr>\n",
       "    <tr>\n",
       "      <th>min</th>\n",
       "      <td>NaN</td>\n",
       "      <td>1.000000</td>\n",
       "      <td>15.000000</td>\n",
       "      <td>80.000000</td>\n",
       "      <td>100.000000</td>\n",
       "      <td>50.300000</td>\n",
       "      <td>-325.500000</td>\n",
       "      <td>2.200000</td>\n",
       "    </tr>\n",
       "    <tr>\n",
       "      <th>25%</th>\n",
       "      <td>NaN</td>\n",
       "      <td>3.000000</td>\n",
       "      <td>45.000000</td>\n",
       "      <td>100.000000</td>\n",
       "      <td>124.000000</td>\n",
       "      <td>250.925000</td>\n",
       "      <td>-124.875000</td>\n",
       "      <td>5.000000</td>\n",
       "    </tr>\n",
       "    <tr>\n",
       "      <th>50%</th>\n",
       "      <td>NaN</td>\n",
       "      <td>5.000000</td>\n",
       "      <td>60.000000</td>\n",
       "      <td>105.000000</td>\n",
       "      <td>131.000000</td>\n",
       "      <td>318.600000</td>\n",
       "      <td>-57.200000</td>\n",
       "      <td>5.850000</td>\n",
       "    </tr>\n",
       "    <tr>\n",
       "      <th>75%</th>\n",
       "      <td>NaN</td>\n",
       "      <td>7.000000</td>\n",
       "      <td>60.000000</td>\n",
       "      <td>111.000000</td>\n",
       "      <td>141.000000</td>\n",
       "      <td>387.600000</td>\n",
       "      <td>11.800000</td>\n",
       "      <td>6.625000</td>\n",
       "    </tr>\n",
       "    <tr>\n",
       "      <th>max</th>\n",
       "      <td>NaN</td>\n",
       "      <td>8.000000</td>\n",
       "      <td>300.000000</td>\n",
       "      <td>159.000000</td>\n",
       "      <td>184.000000</td>\n",
       "      <td>1860.400000</td>\n",
       "      <td>1484.600000</td>\n",
       "      <td>11.500000</td>\n",
       "    </tr>\n",
       "  </tbody>\n",
       "</table>\n",
       "</div>"
      ],
      "text/plain": [
       "            Name        Week    Duration       Pulse    Maxpulse     Calories  \\\n",
       "count        169  169.000000  169.000000  169.000000  169.000000   164.000000   \n",
       "unique        14         NaN         NaN         NaN         NaN          NaN   \n",
       "top     Nicholas         NaN         NaN         NaN         NaN          NaN   \n",
       "freq          32         NaN         NaN         NaN         NaN          NaN   \n",
       "mean         NaN    4.834320   63.846154  107.461538  134.047337   375.790244   \n",
       "std          NaN    2.134413   42.299949   14.510259   16.450434   266.379919   \n",
       "min          NaN    1.000000   15.000000   80.000000  100.000000    50.300000   \n",
       "25%          NaN    3.000000   45.000000  100.000000  124.000000   250.925000   \n",
       "50%          NaN    5.000000   60.000000  105.000000  131.000000   318.600000   \n",
       "75%          NaN    7.000000   60.000000  111.000000  141.000000   387.600000   \n",
       "max          NaN    8.000000  300.000000  159.000000  184.000000  1860.400000   \n",
       "\n",
       "        DMediaGeral  CalsPerMin  \n",
       "count    164.000000  164.000000  \n",
       "unique          NaN         NaN  \n",
       "top             NaN         NaN  \n",
       "freq            NaN         NaN  \n",
       "mean      -0.009756    5.978659  \n",
       "std      266.379919    1.601218  \n",
       "min     -325.500000    2.200000  \n",
       "25%     -124.875000    5.000000  \n",
       "50%      -57.200000    5.850000  \n",
       "75%       11.800000    6.625000  \n",
       "max     1484.600000   11.500000  "
      ]
     },
     "execution_count": 62,
     "metadata": {},
     "output_type": "execute_result"
    }
   ],
   "source": [
    "df_data.describe(include=\"all\")"
   ]
  },
  {
   "cell_type": "code",
   "execution_count": 63,
   "id": "8426cb42-c62b-48a5-9ec2-e5217c4bb099",
   "metadata": {
    "tags": []
   },
   "outputs": [
    {
     "data": {
      "text/plain": [
       "<Axes: >"
      ]
     },
     "execution_count": 63,
     "metadata": {},
     "output_type": "execute_result"
    },
    {
     "data": {
      "image/png": "[encoded data removed]",
      "text/plain": [
       "<Figure size 640x480 with 1 Axes>"
      ]
     },
     "metadata": {},
     "output_type": "display_data"
    }
   ],
   "source": [
    "selecao = (df_data.Calories > 100) & (df_data.Calories < 500)\n",
    "df_data.Calories[selecao].plot.box(vert=False)"
   ]
  },
  {
   "cell_type": "markdown",
   "id": "0a960e51-5ceb-4b7d-ac28-e695581f9941",
   "metadata": {},
   "source": [
    "### 4. Criar uma variavel de datas no intevalo entre Novembro e Dezembro, basiada na Week."
   ]
  },
  {
   "cell_type": "code",
   "execution_count": 64,
   "id": "b126cea2-2651-4692-9fcf-c631aef67e96",
   "metadata": {
    "tags": []
   },
   "outputs": [],
   "source": [
    "s_week = df_data.Week"
   ]
  },
  {
   "cell_type": "code",
   "execution_count": 65,
   "id": "4201aee4-d6b1-4176-a226-3a4918c392bb",
   "metadata": {
    "tags": []
   },
   "outputs": [
    {
     "data": {
      "text/plain": [
       "numpy.ndarray"
      ]
     },
     "execution_count": 65,
     "metadata": {},
     "output_type": "execute_result"
    }
   ],
   "source": [
    "# Methodo unique\n",
    "type(s_week.unique())"
   ]
  },
  {
   "cell_type": "code",
   "execution_count": 66,
   "id": "cf847295-5fde-4104-b7cc-c5455ea62d6f",
   "metadata": {
    "tags": []
   },
   "outputs": [
    {
     "data": {
      "text/plain": [
       "pandas.core.series.Series"
      ]
     },
     "execution_count": 66,
     "metadata": {},
     "output_type": "execute_result"
    }
   ],
   "source": [
    "# methodo drop_duplicates\n",
    "type(s_week.drop_duplicates()) # inplace=True"
   ]
  },
  {
   "cell_type": "code",
   "execution_count": 67,
   "id": "c26b4d7a-0d05-4e98-93d3-e765006b82a6",
   "metadata": {
    "tags": []
   },
   "outputs": [],
   "source": [
    "df_week = df_data[[\"Week\", \"Name\"]].groupby(by=[\"Week\", \"Name\"])[\"Name\"].count()"
   ]
  },
  {
   "cell_type": "code",
   "execution_count": 68,
   "id": "770ac2f6-9e48-4aba-93e8-8842eef6fc7a",
   "metadata": {
    "tags": []
   },
   "outputs": [
    {
     "data": {
      "text/plain": [
       "Name\n",
       "Charles     4\n",
       "Clark       1\n",
       "James       1\n",
       "Jobs        2\n",
       "Leonel      1\n",
       "Louise      2\n",
       "Mark        1\n",
       "Megan       1\n",
       "Nicholas    3\n",
       "Peter       1\n",
       "Robert      1\n",
       "Samantha    1\n",
       "Susan       1\n",
       "Name: Name, dtype: int64"
      ]
     },
     "execution_count": 68,
     "metadata": {},
     "output_type": "execute_result"
    }
   ],
   "source": [
    "# LOC | ILOC\n",
    "\n",
    "df_week.loc[8] # Semana 8"
   ]
  },
  {
   "cell_type": "code",
   "execution_count": 69,
   "id": "0c0db2cb-fac9-4d3a-9dae-2f4fa643da55",
   "metadata": {
    "tags": []
   },
   "outputs": [
    {
     "data": {
      "text/plain": [
       "Week  Name    \n",
       "8     Nicholas    3\n",
       "      Peter       1\n",
       "      Robert      1\n",
       "      Samantha    1\n",
       "      Susan       1\n",
       "Name: Name, dtype: int64"
      ]
     },
     "execution_count": 69,
     "metadata": {},
     "output_type": "execute_result"
    }
   ],
   "source": [
    "df_week.tail()"
   ]
  },
  {
   "cell_type": "code",
   "execution_count": 70,
   "id": "10631645-ff39-4e12-b5e4-10404b728e44",
   "metadata": {
    "tags": []
   },
   "outputs": [
    {
     "data": {
      "text/html": [
       "<div>\n",
       "<style scoped>\n",
       "    .dataframe tbody tr th:only-of-type {\n",
       "        vertical-align: middle;\n",
       "    }\n",
       "\n",
       "    .dataframe tbody tr th {\n",
       "        vertical-align: top;\n",
       "    }\n",
       "\n",
       "    .dataframe thead th {\n",
       "        text-align: right;\n",
       "    }\n",
       "</style>\n",
       "<table border=\"1\" class=\"dataframe\">\n",
       "  <thead>\n",
       "    <tr style=\"text-align: right;\">\n",
       "      <th></th>\n",
       "      <th>Name</th>\n",
       "      <th>Week</th>\n",
       "      <th>Duration</th>\n",
       "      <th>Pulse</th>\n",
       "      <th>Maxpulse</th>\n",
       "      <th>Calories</th>\n",
       "      <th>DMediaGeral</th>\n",
       "      <th>CalsPerMin</th>\n",
       "    </tr>\n",
       "  </thead>\n",
       "  <tbody>\n",
       "    <tr>\n",
       "      <th>0</th>\n",
       "      <td>Robert</td>\n",
       "      <td>1</td>\n",
       "      <td>60</td>\n",
       "      <td>110</td>\n",
       "      <td>130</td>\n",
       "      <td>409.1</td>\n",
       "      <td>33.3</td>\n",
       "      <td>6.8</td>\n",
       "    </tr>\n",
       "    <tr>\n",
       "      <th>1</th>\n",
       "      <td>Mark</td>\n",
       "      <td>1</td>\n",
       "      <td>60</td>\n",
       "      <td>117</td>\n",
       "      <td>145</td>\n",
       "      <td>479.0</td>\n",
       "      <td>103.2</td>\n",
       "      <td>8.0</td>\n",
       "    </tr>\n",
       "  </tbody>\n",
       "</table>\n",
       "</div>"
      ],
      "text/plain": [
       "     Name  Week  Duration  Pulse  Maxpulse  Calories  DMediaGeral  CalsPerMin\n",
       "0  Robert     1        60    110       130     409.1         33.3         6.8\n",
       "1    Mark     1        60    117       145     479.0        103.2         8.0"
      ]
     },
     "execution_count": 70,
     "metadata": {},
     "output_type": "execute_result"
    }
   ],
   "source": [
    "df_data.head(2)"
   ]
  },
  {
   "cell_type": "code",
   "execution_count": 71,
   "id": "039a52df-c402-44b0-aaf6-e7e42dc51ed1",
   "metadata": {
    "tags": []
   },
   "outputs": [
    {
     "data": {
      "text/plain": [
       "Timestamp('2023-11-10 19:47:03.467397-0300', tz='America/Sao_Paulo')"
      ]
     },
     "execution_count": 71,
     "metadata": {},
     "output_type": "execute_result"
    }
   ],
   "source": [
    "tz=\"America/Sao_Paulo\"\n",
    "\n",
    "pd.Timestamp.now(tz=tz)"
   ]
  },
  {
   "cell_type": "code",
   "execution_count": 72,
   "id": "6c019d0a-4913-4668-9173-ae046d2cd6f0",
   "metadata": {
    "tags": []
   },
   "outputs": [],
   "source": [
    "zonas = pytz.all_timezones_set"
   ]
  },
  {
   "cell_type": "code",
   "execution_count": 73,
   "id": "58c13942-5de7-4178-9406-c2d47d5a833e",
   "metadata": {
    "tags": []
   },
   "outputs": [],
   "source": [
    "# dir(pytz) # Saber methodos e atributos da lib\n"
   ]
  },
  {
   "cell_type": "code",
   "execution_count": 74,
   "id": "fa39e30e-4190-4f8d-af9a-e39f76038acd",
   "metadata": {
    "tags": []
   },
   "outputs": [
    {
     "data": {
      "text/plain": [
       "pandas._libs.tslibs.timestamps.Timestamp"
      ]
     },
     "execution_count": 74,
     "metadata": {},
     "output_type": "execute_result"
    }
   ],
   "source": [
    "agora = pd.Timestamp.now(tz=tz)\n",
    "\n",
    "type(agora)"
   ]
  },
  {
   "cell_type": "code",
   "execution_count": 75,
   "id": "b1ccff54-d95f-4251-a380-76f3ec0831a0",
   "metadata": {
    "tags": []
   },
   "outputs": [],
   "source": [
    "dtu = pd.Timestamp(\"2023-11-09\") # Universal\n",
    "dta = pd.Timestamp(\"11/09/2023\") # Americano"
   ]
  },
  {
   "cell_type": "code",
   "execution_count": 76,
   "id": "663f7251-73ff-4792-a75f-e31e05710f46",
   "metadata": {
    "tags": []
   },
   "outputs": [
    {
     "name": "stdout",
     "output_type": "stream",
     "text": [
      "2023-11-09 00:00:00\n",
      "2023-11-09 00:00:00\n"
     ]
    }
   ],
   "source": [
    "print(dtu)\n",
    "print(dta)"
   ]
  },
  {
   "cell_type": "code",
   "execution_count": 77,
   "id": "c2b4f364-c465-4ab9-bb90-110f4f3515b4",
   "metadata": {
    "tags": []
   },
   "outputs": [],
   "source": [
    "# dtcv = pd.to_datetime(\"09112023\", format=\"%d%m%Y\")\n",
    "# dtcv = pd.to_datetime(\"09/11/2023\", format=\"%d/%m/%y\")"
   ]
  },
  {
   "cell_type": "code",
   "execution_count": 78,
   "id": "8fd3f6a7-d664-43e2-8d23-cbcc2db32f01",
   "metadata": {
    "tags": []
   },
   "outputs": [],
   "source": [
    "# dtcv"
   ]
  },
  {
   "cell_type": "code",
   "execution_count": 79,
   "id": "0040abc5-e69f-4275-ae10-8e866abc8a6d",
   "metadata": {
    "tags": []
   },
   "outputs": [],
   "source": [
    "nov_dez = pd.date_range(\n",
    "    start=\"2023-11-01\",\n",
    "    end=\"2023-12-31\",\n",
    "    tz=tz\n",
    ")"
   ]
  },
  {
   "cell_type": "code",
   "execution_count": 80,
   "id": "6fce49d7-2842-483c-8303-6a36188f581f",
   "metadata": {
    "tags": []
   },
   "outputs": [
    {
     "data": {
      "text/plain": [
       "Timestamp('2023-11-01 00:00:00-0300', tz='America/Sao_Paulo')"
      ]
     },
     "execution_count": 80,
     "metadata": {},
     "output_type": "execute_result"
    }
   ],
   "source": [
    "nov_dez[0]"
   ]
  },
  {
   "cell_type": "code",
   "execution_count": 81,
   "id": "17373ed1-15b2-4c24-a0e5-678d7871de6c",
   "metadata": {
    "tags": []
   },
   "outputs": [],
   "source": [
    "semana_1 = pd.date_range(\n",
    "    start=\"2023-11-01\",\n",
    "    periods=7,\n",
    "    tz=tz\n",
    ")"
   ]
  },
  {
   "cell_type": "code",
   "execution_count": 82,
   "id": "c63c66a0-fe18-43c2-907b-24572f70fb37",
   "metadata": {
    "tags": []
   },
   "outputs": [
    {
     "data": {
      "text/plain": [
       "[1]"
      ]
     },
     "execution_count": 82,
     "metadata": {},
     "output_type": "execute_result"
    }
   ],
   "source": [
    "[randrange(0,7)]"
   ]
  },
  {
   "cell_type": "code",
   "execution_count": 83,
   "id": "d16f5add-d84e-4f64-94a2-9b784820705c",
   "metadata": {
    "tags": []
   },
   "outputs": [
    {
     "data": {
      "text/plain": [
       "Timestamp('2023-11-04 00:00:00-0300', tz='America/Sao_Paulo')"
      ]
     },
     "execution_count": 83,
     "metadata": {},
     "output_type": "execute_result"
    }
   ],
   "source": [
    "semana_1[randrange(0,7)]"
   ]
  },
  {
   "cell_type": "code",
   "execution_count": 84,
   "id": "d240639f-d36c-4e4b-88ba-5512ced42426",
   "metadata": {
    "tags": []
   },
   "outputs": [
    {
     "data": {
      "text/plain": [
       "DatetimeIndex(['2023-11-01 00:00:00-03:00', '2023-11-02 00:00:00-03:00',\n",
       "               '2023-11-03 00:00:00-03:00', '2023-11-04 00:00:00-03:00',\n",
       "               '2023-11-05 00:00:00-03:00', '2023-11-06 00:00:00-03:00',\n",
       "               '2023-11-07 00:00:00-03:00'],\n",
       "              dtype='datetime64[ns, America/Sao_Paulo]', freq='D')"
      ]
     },
     "execution_count": 84,
     "metadata": {},
     "output_type": "execute_result"
    }
   ],
   "source": [
    "semana_1"
   ]
  },
  {
   "cell_type": "code",
   "execution_count": 85,
   "id": "d283e0cc-e160-4e59-a152-1bf89b362e13",
   "metadata": {
    "tags": []
   },
   "outputs": [
    {
     "data": {
      "text/plain": [
       "pandas.core.indexes.datetimes.DatetimeIndex"
      ]
     },
     "execution_count": 85,
     "metadata": {},
     "output_type": "execute_result"
    }
   ],
   "source": [
    "type(semana_1)"
   ]
  },
  {
   "cell_type": "code",
   "execution_count": 86,
   "id": "83d81ac5-4ed6-407e-9ee6-c137b7cc31f0",
   "metadata": {
    "tags": []
   },
   "outputs": [],
   "source": [
    "# dir(semana_1)"
   ]
  },
  {
   "cell_type": "code",
   "execution_count": 87,
   "id": "d49ac1db-9163-4afe-b2dd-89f6246ee81f",
   "metadata": {
    "tags": []
   },
   "outputs": [],
   "source": [
    "# pd.Timestamp(\"2023-11-01\") + pd.Timedelta(days=7)"
   ]
  },
  {
   "cell_type": "code",
   "execution_count": 88,
   "id": "443a5582-f6da-4862-9e4b-0c2a8f3a33da",
   "metadata": {
    "tags": []
   },
   "outputs": [],
   "source": [
    "def gerar_datas(x):\n",
    "    data_inicio = pd.Timestamp(\"2023-11-01\")\n",
    "    \n",
    "    sem = int(x.Week)\n",
    "    \n",
    "    if sem == 2:\n",
    "        data_inicio += pd.Timedelta(days=7)\n",
    "    elif sem > 2:\n",
    "        data_inicio += pd.Timedelta(days=7*sem)\n",
    "    \n",
    "    datas = pd.date_range(\n",
    "        start=data_inicio,\n",
    "        periods=7,\n",
    "        tz=tz\n",
    "    )\n",
    "    \n",
    "    return datas[randrange(0,7)].strftime(\"%d/%m/%Y\")\n",
    "    "
   ]
  },
  {
   "cell_type": "code",
   "execution_count": 89,
   "id": "3f5fec12-2fa6-4d90-8ba7-99e38f50815f",
   "metadata": {
    "tags": []
   },
   "outputs": [],
   "source": [
    "df_data[\"Datas\"] = df_data.apply(\n",
    "    gerar_datas,\n",
    "    axis=1\n",
    ")"
   ]
  },
  {
   "cell_type": "code",
   "execution_count": 90,
   "id": "c8fe14bf-b77e-492d-82d3-5e7d16aa3df1",
   "metadata": {
    "tags": []
   },
   "outputs": [
    {
     "data": {
      "text/html": [
       "<div>\n",
       "<style scoped>\n",
       "    .dataframe tbody tr th:only-of-type {\n",
       "        vertical-align: middle;\n",
       "    }\n",
       "\n",
       "    .dataframe tbody tr th {\n",
       "        vertical-align: top;\n",
       "    }\n",
       "\n",
       "    .dataframe thead th {\n",
       "        text-align: right;\n",
       "    }\n",
       "</style>\n",
       "<table border=\"1\" class=\"dataframe\">\n",
       "  <thead>\n",
       "    <tr style=\"text-align: right;\">\n",
       "      <th></th>\n",
       "      <th>Name</th>\n",
       "      <th>Week</th>\n",
       "      <th>Duration</th>\n",
       "      <th>Pulse</th>\n",
       "      <th>Maxpulse</th>\n",
       "      <th>Calories</th>\n",
       "      <th>DMediaGeral</th>\n",
       "      <th>CalsPerMin</th>\n",
       "      <th>Datas</th>\n",
       "    </tr>\n",
       "  </thead>\n",
       "  <tbody>\n",
       "    <tr>\n",
       "      <th>167</th>\n",
       "      <td>Louise</td>\n",
       "      <td>8</td>\n",
       "      <td>75</td>\n",
       "      <td>120</td>\n",
       "      <td>150</td>\n",
       "      <td>320.4</td>\n",
       "      <td>-55.4</td>\n",
       "      <td>4.3</td>\n",
       "      <td>29/12/2023</td>\n",
       "    </tr>\n",
       "    <tr>\n",
       "      <th>168</th>\n",
       "      <td>Jobs</td>\n",
       "      <td>8</td>\n",
       "      <td>75</td>\n",
       "      <td>125</td>\n",
       "      <td>150</td>\n",
       "      <td>330.4</td>\n",
       "      <td>-45.4</td>\n",
       "      <td>4.4</td>\n",
       "      <td>30/12/2023</td>\n",
       "    </tr>\n",
       "  </tbody>\n",
       "</table>\n",
       "</div>"
      ],
      "text/plain": [
       "       Name  Week  Duration  Pulse  Maxpulse  Calories  DMediaGeral  \\\n",
       "167  Louise     8        75    120       150     320.4        -55.4   \n",
       "168    Jobs     8        75    125       150     330.4        -45.4   \n",
       "\n",
       "     CalsPerMin       Datas  \n",
       "167         4.3  29/12/2023  \n",
       "168         4.4  30/12/2023  "
      ]
     },
     "execution_count": 90,
     "metadata": {},
     "output_type": "execute_result"
    }
   ],
   "source": [
    "df_data.tail(2)"
   ]
  },
  {
   "cell_type": "code",
   "execution_count": 91,
   "id": "5fcddf0a-f54c-450b-88ce-eb4e620b6263",
   "metadata": {
    "tags": []
   },
   "outputs": [
    {
     "name": "stdout",
     "output_type": "stream",
     "text": [
      "<class 'pandas.core.frame.DataFrame'>\n",
      "RangeIndex: 169 entries, 0 to 168\n",
      "Data columns (total 9 columns):\n",
      " #   Column       Non-Null Count  Dtype  \n",
      "---  ------       --------------  -----  \n",
      " 0   Name         169 non-null    object \n",
      " 1   Week         169 non-null    int64  \n",
      " 2   Duration     169 non-null    int64  \n",
      " 3   Pulse        169 non-null    int64  \n",
      " 4   Maxpulse     169 non-null    int64  \n",
      " 5   Calories     164 non-null    float64\n",
      " 6   DMediaGeral  164 non-null    float64\n",
      " 7   CalsPerMin   164 non-null    float64\n",
      " 8   Datas        169 non-null    object \n",
      "dtypes: float64(3), int64(4), object(2)\n",
      "memory usage: 12.0+ KB\n"
     ]
    }
   ],
   "source": [
    "df_data.info()"
   ]
  },
  {
   "cell_type": "code",
   "execution_count": 92,
   "id": "830239c4-aa68-4348-813f-cb38aff955c5",
   "metadata": {
    "tags": []
   },
   "outputs": [],
   "source": [
    "df_data.to_csv(\"arquivos_gerados/dados_aula04.csv\")"
   ]
  }
 ],
 "metadata": {
  "kernelspec": {
   "display_name": "Python 3 (ipykernel)",
   "language": "python",
   "name": "python3"
  },
  "language_info": {
   "codemirror_mode": {
    "name": "ipython",
    "version": 3
   },
   "file_extension": ".py",
   "mimetype": "text/x-python",
   "name": "python",
   "nbconvert_exporter": "python",
   "pygments_lexer": "ipython3",
   "version": "3.11.5"
  }
 },
 "nbformat": 4,
 "nbformat_minor": 5
}
